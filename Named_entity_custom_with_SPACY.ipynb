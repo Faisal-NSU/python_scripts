{
  "nbformat": 4,
  "nbformat_minor": 0,
  "metadata": {
    "colab": {
      "name": "new approach.ipynb",
      "provenance": [],
      "collapsed_sections": [],
      "toc_visible": true,
      "include_colab_link": true
    },
    "kernelspec": {
      "name": "python3",
      "display_name": "Python 3"
    },
    "language_info": {
      "name": "python"
    },
    "widgets": {
      "application/vnd.jupyter.widget-state+json": {
        "67b118b18fba4e06872d662531aa680a": {
          "model_module": "@jupyter-widgets/controls",
          "model_name": "HBoxModel",
          "model_module_version": "1.5.0",
          "state": {
            "_dom_classes": [],
            "_model_module": "@jupyter-widgets/controls",
            "_model_module_version": "1.5.0",
            "_model_name": "HBoxModel",
            "_view_count": null,
            "_view_module": "@jupyter-widgets/controls",
            "_view_module_version": "1.5.0",
            "_view_name": "HBoxView",
            "box_style": "",
            "children": [
              "IPY_MODEL_d0183bee6dfc48dc8baff29a717f748e",
              "IPY_MODEL_b7ce74276ead4250b7d8c39bf9a0d941",
              "IPY_MODEL_b33f6393438548fba84f5c5d14239f31"
            ],
            "layout": "IPY_MODEL_2b27ff511ab94b75ae354c82050fa691"
          }
        },
        "d0183bee6dfc48dc8baff29a717f748e": {
          "model_module": "@jupyter-widgets/controls",
          "model_name": "HTMLModel",
          "model_module_version": "1.5.0",
          "state": {
            "_dom_classes": [],
            "_model_module": "@jupyter-widgets/controls",
            "_model_module_version": "1.5.0",
            "_model_name": "HTMLModel",
            "_view_count": null,
            "_view_module": "@jupyter-widgets/controls",
            "_view_module_version": "1.5.0",
            "_view_name": "HTMLView",
            "description": "",
            "description_tooltip": null,
            "layout": "IPY_MODEL_bb484f9d73124004a901af32e9334fc5",
            "placeholder": "​",
            "style": "IPY_MODEL_255f51a748f74563a2aa31023c69b5a1",
            "value": "100%"
          }
        },
        "b7ce74276ead4250b7d8c39bf9a0d941": {
          "model_module": "@jupyter-widgets/controls",
          "model_name": "FloatProgressModel",
          "model_module_version": "1.5.0",
          "state": {
            "_dom_classes": [],
            "_model_module": "@jupyter-widgets/controls",
            "_model_module_version": "1.5.0",
            "_model_name": "FloatProgressModel",
            "_view_count": null,
            "_view_module": "@jupyter-widgets/controls",
            "_view_module_version": "1.5.0",
            "_view_name": "ProgressView",
            "bar_style": "success",
            "description": "",
            "description_tooltip": null,
            "layout": "IPY_MODEL_4a606109fda1451487b8c52722dff7e2",
            "max": 100,
            "min": 0,
            "orientation": "horizontal",
            "style": "IPY_MODEL_8f419048f8fe42f997da0452b727a4e4",
            "value": 100
          }
        },
        "b33f6393438548fba84f5c5d14239f31": {
          "model_module": "@jupyter-widgets/controls",
          "model_name": "HTMLModel",
          "model_module_version": "1.5.0",
          "state": {
            "_dom_classes": [],
            "_model_module": "@jupyter-widgets/controls",
            "_model_module_version": "1.5.0",
            "_model_name": "HTMLModel",
            "_view_count": null,
            "_view_module": "@jupyter-widgets/controls",
            "_view_module_version": "1.5.0",
            "_view_name": "HTMLView",
            "description": "",
            "description_tooltip": null,
            "layout": "IPY_MODEL_fb99002f46ca4f36b1dc5c367a8bafd5",
            "placeholder": "​",
            "style": "IPY_MODEL_a55b7ce929da45fabe13200a894ba2d0",
            "value": " 100/100 [01:57&lt;00:00,  1.28s/it]"
          }
        },
        "2b27ff511ab94b75ae354c82050fa691": {
          "model_module": "@jupyter-widgets/base",
          "model_name": "LayoutModel",
          "model_module_version": "1.2.0",
          "state": {
            "_model_module": "@jupyter-widgets/base",
            "_model_module_version": "1.2.0",
            "_model_name": "LayoutModel",
            "_view_count": null,
            "_view_module": "@jupyter-widgets/base",
            "_view_module_version": "1.2.0",
            "_view_name": "LayoutView",
            "align_content": null,
            "align_items": null,
            "align_self": null,
            "border": null,
            "bottom": null,
            "display": null,
            "flex": null,
            "flex_flow": null,
            "grid_area": null,
            "grid_auto_columns": null,
            "grid_auto_flow": null,
            "grid_auto_rows": null,
            "grid_column": null,
            "grid_gap": null,
            "grid_row": null,
            "grid_template_areas": null,
            "grid_template_columns": null,
            "grid_template_rows": null,
            "height": null,
            "justify_content": null,
            "justify_items": null,
            "left": null,
            "margin": null,
            "max_height": null,
            "max_width": null,
            "min_height": null,
            "min_width": null,
            "object_fit": null,
            "object_position": null,
            "order": null,
            "overflow": null,
            "overflow_x": null,
            "overflow_y": null,
            "padding": null,
            "right": null,
            "top": null,
            "visibility": null,
            "width": null
          }
        },
        "bb484f9d73124004a901af32e9334fc5": {
          "model_module": "@jupyter-widgets/base",
          "model_name": "LayoutModel",
          "model_module_version": "1.2.0",
          "state": {
            "_model_module": "@jupyter-widgets/base",
            "_model_module_version": "1.2.0",
            "_model_name": "LayoutModel",
            "_view_count": null,
            "_view_module": "@jupyter-widgets/base",
            "_view_module_version": "1.2.0",
            "_view_name": "LayoutView",
            "align_content": null,
            "align_items": null,
            "align_self": null,
            "border": null,
            "bottom": null,
            "display": null,
            "flex": null,
            "flex_flow": null,
            "grid_area": null,
            "grid_auto_columns": null,
            "grid_auto_flow": null,
            "grid_auto_rows": null,
            "grid_column": null,
            "grid_gap": null,
            "grid_row": null,
            "grid_template_areas": null,
            "grid_template_columns": null,
            "grid_template_rows": null,
            "height": null,
            "justify_content": null,
            "justify_items": null,
            "left": null,
            "margin": null,
            "max_height": null,
            "max_width": null,
            "min_height": null,
            "min_width": null,
            "object_fit": null,
            "object_position": null,
            "order": null,
            "overflow": null,
            "overflow_x": null,
            "overflow_y": null,
            "padding": null,
            "right": null,
            "top": null,
            "visibility": null,
            "width": null
          }
        },
        "255f51a748f74563a2aa31023c69b5a1": {
          "model_module": "@jupyter-widgets/controls",
          "model_name": "DescriptionStyleModel",
          "model_module_version": "1.5.0",
          "state": {
            "_model_module": "@jupyter-widgets/controls",
            "_model_module_version": "1.5.0",
            "_model_name": "DescriptionStyleModel",
            "_view_count": null,
            "_view_module": "@jupyter-widgets/base",
            "_view_module_version": "1.2.0",
            "_view_name": "StyleView",
            "description_width": ""
          }
        },
        "4a606109fda1451487b8c52722dff7e2": {
          "model_module": "@jupyter-widgets/base",
          "model_name": "LayoutModel",
          "model_module_version": "1.2.0",
          "state": {
            "_model_module": "@jupyter-widgets/base",
            "_model_module_version": "1.2.0",
            "_model_name": "LayoutModel",
            "_view_count": null,
            "_view_module": "@jupyter-widgets/base",
            "_view_module_version": "1.2.0",
            "_view_name": "LayoutView",
            "align_content": null,
            "align_items": null,
            "align_self": null,
            "border": null,
            "bottom": null,
            "display": null,
            "flex": null,
            "flex_flow": null,
            "grid_area": null,
            "grid_auto_columns": null,
            "grid_auto_flow": null,
            "grid_auto_rows": null,
            "grid_column": null,
            "grid_gap": null,
            "grid_row": null,
            "grid_template_areas": null,
            "grid_template_columns": null,
            "grid_template_rows": null,
            "height": null,
            "justify_content": null,
            "justify_items": null,
            "left": null,
            "margin": null,
            "max_height": null,
            "max_width": null,
            "min_height": null,
            "min_width": null,
            "object_fit": null,
            "object_position": null,
            "order": null,
            "overflow": null,
            "overflow_x": null,
            "overflow_y": null,
            "padding": null,
            "right": null,
            "top": null,
            "visibility": null,
            "width": null
          }
        },
        "8f419048f8fe42f997da0452b727a4e4": {
          "model_module": "@jupyter-widgets/controls",
          "model_name": "ProgressStyleModel",
          "model_module_version": "1.5.0",
          "state": {
            "_model_module": "@jupyter-widgets/controls",
            "_model_module_version": "1.5.0",
            "_model_name": "ProgressStyleModel",
            "_view_count": null,
            "_view_module": "@jupyter-widgets/base",
            "_view_module_version": "1.2.0",
            "_view_name": "StyleView",
            "bar_color": null,
            "description_width": ""
          }
        },
        "fb99002f46ca4f36b1dc5c367a8bafd5": {
          "model_module": "@jupyter-widgets/base",
          "model_name": "LayoutModel",
          "model_module_version": "1.2.0",
          "state": {
            "_model_module": "@jupyter-widgets/base",
            "_model_module_version": "1.2.0",
            "_model_name": "LayoutModel",
            "_view_count": null,
            "_view_module": "@jupyter-widgets/base",
            "_view_module_version": "1.2.0",
            "_view_name": "LayoutView",
            "align_content": null,
            "align_items": null,
            "align_self": null,
            "border": null,
            "bottom": null,
            "display": null,
            "flex": null,
            "flex_flow": null,
            "grid_area": null,
            "grid_auto_columns": null,
            "grid_auto_flow": null,
            "grid_auto_rows": null,
            "grid_column": null,
            "grid_gap": null,
            "grid_row": null,
            "grid_template_areas": null,
            "grid_template_columns": null,
            "grid_template_rows": null,
            "height": null,
            "justify_content": null,
            "justify_items": null,
            "left": null,
            "margin": null,
            "max_height": null,
            "max_width": null,
            "min_height": null,
            "min_width": null,
            "object_fit": null,
            "object_position": null,
            "order": null,
            "overflow": null,
            "overflow_x": null,
            "overflow_y": null,
            "padding": null,
            "right": null,
            "top": null,
            "visibility": null,
            "width": null
          }
        },
        "a55b7ce929da45fabe13200a894ba2d0": {
          "model_module": "@jupyter-widgets/controls",
          "model_name": "DescriptionStyleModel",
          "model_module_version": "1.5.0",
          "state": {
            "_model_module": "@jupyter-widgets/controls",
            "_model_module_version": "1.5.0",
            "_model_name": "DescriptionStyleModel",
            "_view_count": null,
            "_view_module": "@jupyter-widgets/base",
            "_view_module_version": "1.2.0",
            "_view_name": "StyleView",
            "description_width": ""
          }
        }
      }
    }
  },
  "cells": [
    {
      "cell_type": "markdown",
      "metadata": {
        "id": "view-in-github",
        "colab_type": "text"
      },
      "source": [
        "<a href=\"https://colab.research.google.com/github/faisalisafk/python_scripts/blob/main/Named_entity_custom_with_SPACY.ipynb\" target=\"_parent\"><img src=\"https://colab.research.google.com/assets/colab-badge.svg\" alt=\"Open In Colab\"/></a>"
      ]
    },
    {
      "cell_type": "markdown",
      "source": [
        "# Step 0. Problem Formulation and approach for my solution\n",
        "I have to solve a text retrival problem where I have to check for store number in text. The problem includes a small dataset containing 300 rows in total. Also it contains three column :transaction_descriptor, store_number, and dataset. I have to select and train a model so that it can find store number given a text as input.\n",
        "\n",
        "I am going to use a pretrained entity extraction model. It is spaCy's Named Entity Recognition (NER) model. This system features a sophisticated word embedding strategy using subword features and \"Bloom\" embeddings, a deep convolutional neural network with residual connections, and a novel transition-based approach to named entity parsing. The system is designed to give a good balance of efficiency, accuracy and adaptability with ease of custom dataset training. For more information, please check this [link](https://spacy.io/api/entityrecognizer). "
      ],
      "metadata": {
        "id": "X-6AQmMhQdbI"
      }
    },
    {
      "cell_type": "markdown",
      "source": [
        "# Step 01. Import necessary Dependencies\n",
        "Using pandas, spacy, matplotlib for data processing "
      ],
      "metadata": {
        "id": "ym5cAir1-kK0"
      }
    },
    {
      "cell_type": "code",
      "source": [
        "import pandas as pd\n",
        "import spacy\n",
        "from spacy import displacy\n",
        "from wordcloud import WordCloud, STOPWORDS\n",
        "from spacy.util import minibatch, compounding\n",
        "import pandas as pd\n",
        "import numpy as np  \n",
        "import matplotlib.pyplot as plt\n",
        "import re\n",
        "import random\n",
        "import math\n",
        "import copy\n",
        "from tqdm.notebook import tqdm\n",
        "random.seed(42)"
      ],
      "metadata": {
        "id": "97sJ690qmGTm"
      },
      "execution_count": 1,
      "outputs": []
    },
    {
      "cell_type": "markdown",
      "source": [
        "# Step 02. Downloading dataset from github and preprocessing \n",
        "I have uploaded the dataset on google drive so we download the dataset from there. Then, we check data information and preprocess null value, empty value or any dupllicated values if there exists any.\n"
      ],
      "metadata": {
        "id": "7bUw-y-Y-1fZ"
      }
    },
    {
      "cell_type": "code",
      "source": [
        "# Downloading dataset from google drive\n",
        "!gdown 1CvzAQXHMTkRUWmXnTovGKfdPetCLTxY4\n",
        "\n",
        "df = pd.read_csv('Summer Internship - Homework Exercise.csv')\n",
        "df.sample(10)"
      ],
      "metadata": {
        "id": "AQC2pWQY-t11",
        "outputId": "4831a321-a46a-4987-90b6-113a506a7004",
        "colab": {
          "base_uri": "https://localhost:8080/",
          "height": 432
        }
      },
      "execution_count": 2,
      "outputs": [
        {
          "output_type": "stream",
          "name": "stdout",
          "text": [
            "Downloading...\n",
            "From: https://drive.google.com/uc?id=1CvzAQXHMTkRUWmXnTovGKfdPetCLTxY4\n",
            "To: /content/Summer Internship - Homework Exercise.csv\n",
            "\r  0% 0.00/10.7k [00:00<?, ?B/s]\r100% 10.7k/10.7k [00:00<00:00, 15.5MB/s]\n"
          ]
        },
        {
          "output_type": "execute_result",
          "data": {
            "text/plain": [
              "                       transaction_descriptor store_number     dataset\n",
              "180                           JIMMY JOHNS - 2            2  validation\n",
              "89                  NST BEST BUY #500  970304          500       train\n",
              "44   CIRCLE K # 06524         OCALA        FL         6524       train\n",
              "277                 NST BEST BUY #405  562536          405        test\n",
              "168                    SUBWAY        04016168      4016168  validation\n",
              "3                      BUFFALO WILD WINGS 003            3       train\n",
              "244                          WALGREENS #11332        11332        test\n",
              "88                         CASEYS GEN STORE 2            2       train\n",
              "50                  NST ROSS STORES #11572299     11572299       train\n",
              "223                 NNT POLO/RL WRENTHA130571        13057        test"
            ],
            "text/html": [
              "\n",
              "  <div id=\"df-87808f91-b40b-4551-ac4a-1115aa8cc8bd\">\n",
              "    <div class=\"colab-df-container\">\n",
              "      <div>\n",
              "<style scoped>\n",
              "    .dataframe tbody tr th:only-of-type {\n",
              "        vertical-align: middle;\n",
              "    }\n",
              "\n",
              "    .dataframe tbody tr th {\n",
              "        vertical-align: top;\n",
              "    }\n",
              "\n",
              "    .dataframe thead th {\n",
              "        text-align: right;\n",
              "    }\n",
              "</style>\n",
              "<table border=\"1\" class=\"dataframe\">\n",
              "  <thead>\n",
              "    <tr style=\"text-align: right;\">\n",
              "      <th></th>\n",
              "      <th>transaction_descriptor</th>\n",
              "      <th>store_number</th>\n",
              "      <th>dataset</th>\n",
              "    </tr>\n",
              "  </thead>\n",
              "  <tbody>\n",
              "    <tr>\n",
              "      <th>180</th>\n",
              "      <td>JIMMY JOHNS - 2</td>\n",
              "      <td>2</td>\n",
              "      <td>validation</td>\n",
              "    </tr>\n",
              "    <tr>\n",
              "      <th>89</th>\n",
              "      <td>NST BEST BUY #500  970304</td>\n",
              "      <td>500</td>\n",
              "      <td>train</td>\n",
              "    </tr>\n",
              "    <tr>\n",
              "      <th>44</th>\n",
              "      <td>CIRCLE K # 06524         OCALA        FL</td>\n",
              "      <td>6524</td>\n",
              "      <td>train</td>\n",
              "    </tr>\n",
              "    <tr>\n",
              "      <th>277</th>\n",
              "      <td>NST BEST BUY #405  562536</td>\n",
              "      <td>405</td>\n",
              "      <td>test</td>\n",
              "    </tr>\n",
              "    <tr>\n",
              "      <th>168</th>\n",
              "      <td>SUBWAY        04016168</td>\n",
              "      <td>4016168</td>\n",
              "      <td>validation</td>\n",
              "    </tr>\n",
              "    <tr>\n",
              "      <th>3</th>\n",
              "      <td>BUFFALO WILD WINGS 003</td>\n",
              "      <td>3</td>\n",
              "      <td>train</td>\n",
              "    </tr>\n",
              "    <tr>\n",
              "      <th>244</th>\n",
              "      <td>WALGREENS #11332</td>\n",
              "      <td>11332</td>\n",
              "      <td>test</td>\n",
              "    </tr>\n",
              "    <tr>\n",
              "      <th>88</th>\n",
              "      <td>CASEYS GEN STORE 2</td>\n",
              "      <td>2</td>\n",
              "      <td>train</td>\n",
              "    </tr>\n",
              "    <tr>\n",
              "      <th>50</th>\n",
              "      <td>NST ROSS STORES #11572299</td>\n",
              "      <td>11572299</td>\n",
              "      <td>train</td>\n",
              "    </tr>\n",
              "    <tr>\n",
              "      <th>223</th>\n",
              "      <td>NNT POLO/RL WRENTHA130571</td>\n",
              "      <td>13057</td>\n",
              "      <td>test</td>\n",
              "    </tr>\n",
              "  </tbody>\n",
              "</table>\n",
              "</div>\n",
              "      <button class=\"colab-df-convert\" onclick=\"convertToInteractive('df-87808f91-b40b-4551-ac4a-1115aa8cc8bd')\"\n",
              "              title=\"Convert this dataframe to an interactive table.\"\n",
              "              style=\"display:none;\">\n",
              "        \n",
              "  <svg xmlns=\"http://www.w3.org/2000/svg\" height=\"24px\"viewBox=\"0 0 24 24\"\n",
              "       width=\"24px\">\n",
              "    <path d=\"M0 0h24v24H0V0z\" fill=\"none\"/>\n",
              "    <path d=\"M18.56 5.44l.94 2.06.94-2.06 2.06-.94-2.06-.94-.94-2.06-.94 2.06-2.06.94zm-11 1L8.5 8.5l.94-2.06 2.06-.94-2.06-.94L8.5 2.5l-.94 2.06-2.06.94zm10 10l.94 2.06.94-2.06 2.06-.94-2.06-.94-.94-2.06-.94 2.06-2.06.94z\"/><path d=\"M17.41 7.96l-1.37-1.37c-.4-.4-.92-.59-1.43-.59-.52 0-1.04.2-1.43.59L10.3 9.45l-7.72 7.72c-.78.78-.78 2.05 0 2.83L4 21.41c.39.39.9.59 1.41.59.51 0 1.02-.2 1.41-.59l7.78-7.78 2.81-2.81c.8-.78.8-2.07 0-2.86zM5.41 20L4 18.59l7.72-7.72 1.47 1.35L5.41 20z\"/>\n",
              "  </svg>\n",
              "      </button>\n",
              "      \n",
              "  <style>\n",
              "    .colab-df-container {\n",
              "      display:flex;\n",
              "      flex-wrap:wrap;\n",
              "      gap: 12px;\n",
              "    }\n",
              "\n",
              "    .colab-df-convert {\n",
              "      background-color: #E8F0FE;\n",
              "      border: none;\n",
              "      border-radius: 50%;\n",
              "      cursor: pointer;\n",
              "      display: none;\n",
              "      fill: #1967D2;\n",
              "      height: 32px;\n",
              "      padding: 0 0 0 0;\n",
              "      width: 32px;\n",
              "    }\n",
              "\n",
              "    .colab-df-convert:hover {\n",
              "      background-color: #E2EBFA;\n",
              "      box-shadow: 0px 1px 2px rgba(60, 64, 67, 0.3), 0px 1px 3px 1px rgba(60, 64, 67, 0.15);\n",
              "      fill: #174EA6;\n",
              "    }\n",
              "\n",
              "    [theme=dark] .colab-df-convert {\n",
              "      background-color: #3B4455;\n",
              "      fill: #D2E3FC;\n",
              "    }\n",
              "\n",
              "    [theme=dark] .colab-df-convert:hover {\n",
              "      background-color: #434B5C;\n",
              "      box-shadow: 0px 1px 3px 1px rgba(0, 0, 0, 0.15);\n",
              "      filter: drop-shadow(0px 1px 2px rgba(0, 0, 0, 0.3));\n",
              "      fill: #FFFFFF;\n",
              "    }\n",
              "  </style>\n",
              "\n",
              "      <script>\n",
              "        const buttonEl =\n",
              "          document.querySelector('#df-87808f91-b40b-4551-ac4a-1115aa8cc8bd button.colab-df-convert');\n",
              "        buttonEl.style.display =\n",
              "          google.colab.kernel.accessAllowed ? 'block' : 'none';\n",
              "\n",
              "        async function convertToInteractive(key) {\n",
              "          const element = document.querySelector('#df-87808f91-b40b-4551-ac4a-1115aa8cc8bd');\n",
              "          const dataTable =\n",
              "            await google.colab.kernel.invokeFunction('convertToInteractive',\n",
              "                                                     [key], {});\n",
              "          if (!dataTable) return;\n",
              "\n",
              "          const docLinkHtml = 'Like what you see? Visit the ' +\n",
              "            '<a target=\"_blank\" href=https://colab.research.google.com/notebooks/data_table.ipynb>data table notebook</a>'\n",
              "            + ' to learn more about interactive tables.';\n",
              "          element.innerHTML = '';\n",
              "          dataTable['output_type'] = 'display_data';\n",
              "          await google.colab.output.renderOutput(dataTable, element);\n",
              "          const docLink = document.createElement('div');\n",
              "          docLink.innerHTML = docLinkHtml;\n",
              "          element.appendChild(docLink);\n",
              "        }\n",
              "      </script>\n",
              "    </div>\n",
              "  </div>\n",
              "  "
            ]
          },
          "metadata": {},
          "execution_count": 2
        }
      ]
    },
    {
      "cell_type": "code",
      "source": [
        "df.count()"
      ],
      "metadata": {
        "colab": {
          "base_uri": "https://localhost:8080/"
        },
        "id": "2Iuqk_xspNYs",
        "outputId": "93c85cbf-0990-4fc7-f30a-eb2f384c9836"
      },
      "execution_count": 3,
      "outputs": [
        {
          "output_type": "execute_result",
          "data": {
            "text/plain": [
              "transaction_descriptor    300\n",
              "store_number              300\n",
              "dataset                   300\n",
              "dtype: int64"
            ]
          },
          "metadata": {},
          "execution_count": 3
        }
      ]
    },
    {
      "cell_type": "code",
      "source": [
        "df.isnull().sum()"
      ],
      "metadata": {
        "id": "l_E62lP0AEFS",
        "outputId": "65e59472-ccc1-4a00-e6ec-cf750d1b54e7",
        "colab": {
          "base_uri": "https://localhost:8080/"
        }
      },
      "execution_count": 4,
      "outputs": [
        {
          "output_type": "execute_result",
          "data": {
            "text/plain": [
              "transaction_descriptor    0\n",
              "store_number              0\n",
              "dataset                   0\n",
              "dtype: int64"
            ]
          },
          "metadata": {},
          "execution_count": 4
        }
      ]
    },
    {
      "cell_type": "code",
      "source": [
        "df[df.duplicated(keep=False)]"
      ],
      "metadata": {
        "id": "XWvwS2UeAun3",
        "outputId": "1ffc836e-9a37-4c0e-df3f-828e3bcb794e",
        "colab": {
          "base_uri": "https://localhost:8080/",
          "height": 49
        }
      },
      "execution_count": 5,
      "outputs": [
        {
          "output_type": "execute_result",
          "data": {
            "text/plain": [
              "Empty DataFrame\n",
              "Columns: [transaction_descriptor, store_number, dataset]\n",
              "Index: []"
            ],
            "text/html": [
              "\n",
              "  <div id=\"df-519ee05d-0d58-4985-b84b-c0268a2b398e\">\n",
              "    <div class=\"colab-df-container\">\n",
              "      <div>\n",
              "<style scoped>\n",
              "    .dataframe tbody tr th:only-of-type {\n",
              "        vertical-align: middle;\n",
              "    }\n",
              "\n",
              "    .dataframe tbody tr th {\n",
              "        vertical-align: top;\n",
              "    }\n",
              "\n",
              "    .dataframe thead th {\n",
              "        text-align: right;\n",
              "    }\n",
              "</style>\n",
              "<table border=\"1\" class=\"dataframe\">\n",
              "  <thead>\n",
              "    <tr style=\"text-align: right;\">\n",
              "      <th></th>\n",
              "      <th>transaction_descriptor</th>\n",
              "      <th>store_number</th>\n",
              "      <th>dataset</th>\n",
              "    </tr>\n",
              "  </thead>\n",
              "  <tbody>\n",
              "  </tbody>\n",
              "</table>\n",
              "</div>\n",
              "      <button class=\"colab-df-convert\" onclick=\"convertToInteractive('df-519ee05d-0d58-4985-b84b-c0268a2b398e')\"\n",
              "              title=\"Convert this dataframe to an interactive table.\"\n",
              "              style=\"display:none;\">\n",
              "        \n",
              "  <svg xmlns=\"http://www.w3.org/2000/svg\" height=\"24px\"viewBox=\"0 0 24 24\"\n",
              "       width=\"24px\">\n",
              "    <path d=\"M0 0h24v24H0V0z\" fill=\"none\"/>\n",
              "    <path d=\"M18.56 5.44l.94 2.06.94-2.06 2.06-.94-2.06-.94-.94-2.06-.94 2.06-2.06.94zm-11 1L8.5 8.5l.94-2.06 2.06-.94-2.06-.94L8.5 2.5l-.94 2.06-2.06.94zm10 10l.94 2.06.94-2.06 2.06-.94-2.06-.94-.94-2.06-.94 2.06-2.06.94z\"/><path d=\"M17.41 7.96l-1.37-1.37c-.4-.4-.92-.59-1.43-.59-.52 0-1.04.2-1.43.59L10.3 9.45l-7.72 7.72c-.78.78-.78 2.05 0 2.83L4 21.41c.39.39.9.59 1.41.59.51 0 1.02-.2 1.41-.59l7.78-7.78 2.81-2.81c.8-.78.8-2.07 0-2.86zM5.41 20L4 18.59l7.72-7.72 1.47 1.35L5.41 20z\"/>\n",
              "  </svg>\n",
              "      </button>\n",
              "      \n",
              "  <style>\n",
              "    .colab-df-container {\n",
              "      display:flex;\n",
              "      flex-wrap:wrap;\n",
              "      gap: 12px;\n",
              "    }\n",
              "\n",
              "    .colab-df-convert {\n",
              "      background-color: #E8F0FE;\n",
              "      border: none;\n",
              "      border-radius: 50%;\n",
              "      cursor: pointer;\n",
              "      display: none;\n",
              "      fill: #1967D2;\n",
              "      height: 32px;\n",
              "      padding: 0 0 0 0;\n",
              "      width: 32px;\n",
              "    }\n",
              "\n",
              "    .colab-df-convert:hover {\n",
              "      background-color: #E2EBFA;\n",
              "      box-shadow: 0px 1px 2px rgba(60, 64, 67, 0.3), 0px 1px 3px 1px rgba(60, 64, 67, 0.15);\n",
              "      fill: #174EA6;\n",
              "    }\n",
              "\n",
              "    [theme=dark] .colab-df-convert {\n",
              "      background-color: #3B4455;\n",
              "      fill: #D2E3FC;\n",
              "    }\n",
              "\n",
              "    [theme=dark] .colab-df-convert:hover {\n",
              "      background-color: #434B5C;\n",
              "      box-shadow: 0px 1px 3px 1px rgba(0, 0, 0, 0.15);\n",
              "      filter: drop-shadow(0px 1px 2px rgba(0, 0, 0, 0.3));\n",
              "      fill: #FFFFFF;\n",
              "    }\n",
              "  </style>\n",
              "\n",
              "      <script>\n",
              "        const buttonEl =\n",
              "          document.querySelector('#df-519ee05d-0d58-4985-b84b-c0268a2b398e button.colab-df-convert');\n",
              "        buttonEl.style.display =\n",
              "          google.colab.kernel.accessAllowed ? 'block' : 'none';\n",
              "\n",
              "        async function convertToInteractive(key) {\n",
              "          const element = document.querySelector('#df-519ee05d-0d58-4985-b84b-c0268a2b398e');\n",
              "          const dataTable =\n",
              "            await google.colab.kernel.invokeFunction('convertToInteractive',\n",
              "                                                     [key], {});\n",
              "          if (!dataTable) return;\n",
              "\n",
              "          const docLinkHtml = 'Like what you see? Visit the ' +\n",
              "            '<a target=\"_blank\" href=https://colab.research.google.com/notebooks/data_table.ipynb>data table notebook</a>'\n",
              "            + ' to learn more about interactive tables.';\n",
              "          element.innerHTML = '';\n",
              "          dataTable['output_type'] = 'display_data';\n",
              "          await google.colab.output.renderOutput(dataTable, element);\n",
              "          const docLink = document.createElement('div');\n",
              "          docLink.innerHTML = docLinkHtml;\n",
              "          element.appendChild(docLink);\n",
              "        }\n",
              "      </script>\n",
              "    </div>\n",
              "  </div>\n",
              "  "
            ]
          },
          "metadata": {},
          "execution_count": 5
        }
      ]
    },
    {
      "cell_type": "code",
      "source": [
        "df.nunique()"
      ],
      "metadata": {
        "id": "HeZOuATuBZxv",
        "outputId": "dae639fc-5086-4389-cfb6-d096eea9c6f8",
        "colab": {
          "base_uri": "https://localhost:8080/"
        }
      },
      "execution_count": 6,
      "outputs": [
        {
          "output_type": "execute_result",
          "data": {
            "text/plain": [
              "transaction_descriptor    300\n",
              "store_number              293\n",
              "dataset                     3\n",
              "dtype: int64"
            ]
          },
          "metadata": {},
          "execution_count": 6
        }
      ]
    },
    {
      "cell_type": "markdown",
      "source": [
        "# Step 03. Splitting data for training and testing purpose\n",
        "Here we have only 200 data for training and 100 data for testing"
      ],
      "metadata": {
        "id": "EOT6-yiv-4Zo"
      }
    },
    {
      "cell_type": "code",
      "source": [
        "train_df = df.loc[df['dataset'].isin(['train', 'validation'])]\n",
        "test_df = df.loc[df['dataset'] == 'test']\n",
        "\n",
        "print(train_df.shape)\n",
        "print(test_df.shape)"
      ],
      "metadata": {
        "colab": {
          "base_uri": "https://localhost:8080/"
        },
        "id": "Snba63i98I8K",
        "outputId": "734a56cc-d211-4bc9-e01f-2f3ec9bea570"
      },
      "execution_count": 7,
      "outputs": [
        {
          "output_type": "stream",
          "name": "stdout",
          "text": [
            "(200, 3)\n",
            "(100, 3)\n"
          ]
        }
      ]
    },
    {
      "cell_type": "markdown",
      "source": [
        "# Step 04. Loading spaCy for custom training model\n",
        "I am using spaCy, a free open-source library for Natural Language Processing in Python. Utilizing the Named Entity Recognition (NER) pipeline to predict *store number* from the text."
      ],
      "metadata": {
        "id": "RC5wbRXH-5v1"
      }
    },
    {
      "cell_type": "code",
      "source": [
        "# loads en_core_web_sm,an English pipeline trained on text that includes vocabulary, syntax and entities.\n",
        "nlp0 = spacy.load('en_core_web_sm') \n",
        "\n",
        "#shows all available pipelines\n",
        "nlp0.pipe_names"
      ],
      "metadata": {
        "id": "R8Td3Qb-mSF0",
        "outputId": "0116a6a2-b5a7-4d97-8547-c112c0ad145c",
        "colab": {
          "base_uri": "https://localhost:8080/"
        }
      },
      "execution_count": 8,
      "outputs": [
        {
          "output_type": "execute_result",
          "data": {
            "text/plain": [
              "['tagger', 'parser', 'ner']"
            ]
          },
          "metadata": {},
          "execution_count": 8
        }
      ]
    },
    {
      "cell_type": "code",
      "source": [
        "#getting NER pipeline\n",
        "ner0 = nlp0.get_pipe('ner')"
      ],
      "metadata": {
        "id": "P1NyVv1GDmSA"
      },
      "execution_count": 9,
      "outputs": []
    },
    {
      "cell_type": "markdown",
      "source": [
        "# Step 05. Data formating for spaCy\n",
        "Here we format our data as required by spaCy. You can find more information here: https://spacy.io/api/data-formats\n",
        "\n",
        "In simple words, the train data is nothing but a list of tuples containing four attributes:\n",
        "\n",
        "\n",
        "*   Sentence/ keyword\n",
        "\n",
        "*   Start of the word for which custom entity is defined\n",
        "*   End of the same word for which the custom entity is defined\n",
        "\n",
        "\n",
        "*   The custom Label\n",
        "\n",
        "\n",
        "\n",
        "\n",
        "\n",
        "\n"
      ],
      "metadata": {
        "id": "v4ImTf1q-6jS"
      }
    },
    {
      "cell_type": "code",
      "source": [
        "# takes a text and label and format the in tuple\n",
        "def format_data(text,label):\n",
        "    start = text.find(label)\n",
        "    end = len(label) + start\n",
        "    entity = (start,end,'number')\n",
        "    entities = []\n",
        "    ent_dict = {}\n",
        "    entities.append(entity)\n",
        "    ent_dict['entities'] = entities\n",
        "    #text = text.replace(\" \", \"0\")\n",
        "    train_item = (text, ent_dict)\n",
        "    return train_item"
      ],
      "metadata": {
        "id": "S0l_hB2hCo3Q"
      },
      "execution_count": 10,
      "outputs": []
    },
    {
      "cell_type": "markdown",
      "source": [
        "# Step 06. Using format_data function for splitting dataset"
      ],
      "metadata": {
        "id": "Gik5x9R9-7qi"
      }
    },
    {
      "cell_type": "code",
      "source": [
        "TRAIN_DATA = []\n",
        "TEST_DATA = []\n",
        "\n",
        "# Formatting training data\n",
        "for _, item in train_df.iterrows():\n",
        "    train_item = format_data(item['transaction_descriptor'],item['store_number'])\n",
        "    TRAIN_DATA.append(train_item)\n",
        "print(len(TRAIN_DATA))\n",
        "\n",
        "# Formatting testing data\n",
        "for _, item in test_df.iterrows():\n",
        "    test_item = format_data(item['transaction_descriptor'],item['store_number'])\n",
        "    TEST_DATA.append(test_item)\n",
        "print(len(TEST_DATA))\n"
      ],
      "metadata": {
        "id": "VIutIX9HDHDI",
        "outputId": "8e13f98c-9cdd-4b4c-e5e8-a2dd6c00667c",
        "colab": {
          "base_uri": "https://localhost:8080/"
        }
      },
      "execution_count": 11,
      "outputs": [
        {
          "output_type": "stream",
          "name": "stdout",
          "text": [
            "200\n",
            "100\n"
          ]
        }
      ]
    },
    {
      "cell_type": "markdown",
      "source": [
        "# Step 07. Training loop for NER\n",
        "Here, first we create a NLP model object and add NER to it.\n",
        "Then we add our custom label '*store_number*'. Next we make batches of data and update NLP model using dropout. Also we keep a copy of the best model per itereation. "
      ],
      "metadata": {
        "id": "lXceSMKn-8Y9"
      }
    },
    {
      "cell_type": "code",
      "source": [
        "def train_ner(training_data,n_iter = 50):\n",
        "    \"\"\"Steps\n",
        "    Create a Blank NLP  model object\n",
        "    Create and add NER to the NLP model\n",
        "    Add Labels from your training data\n",
        "    Train  \n",
        "    \"\"\"\n",
        "    best = math.inf\n",
        "    TRAIN_DATA = training_data\n",
        "    nlp = spacy.blank(\"en\")  # create blank Language class\n",
        "    \n",
        "    if \"ner\" not in nlp.pipe_names:\n",
        "        ner = nlp.create_pipe(\"ner\")\n",
        "        nlp.add_pipe(ner, last=True)\n",
        "    # otherwise, get it so we can add labels\n",
        "    else:\n",
        "        ner = nlp.get_pipe(\"ner\")\n",
        "        \n",
        "    # add labels\n",
        "    for _, annotations in TRAIN_DATA:\n",
        "        for ent in annotations.get(\"entities\"):\n",
        "            ner.add_label(ent[2])\n",
        "\n",
        "    disable_pipes = [pipe for pipe in nlp.pipe_names if pipe != 'ner']\n",
        "\n",
        "    with nlp.disable_pipes(*disable_pipes):\n",
        "        optimizer = nlp.resume_training()\n",
        "\n",
        "    nlp.begin_training()\n",
        "    for itn in tqdm(range(n_iter)):\n",
        "        random.shuffle(TRAIN_DATA)\n",
        "        losses = {}\n",
        "        # batch up the examples using spaCy's minibatch\n",
        "        batches = minibatch(TRAIN_DATA)\n",
        "        for batch in batches:\n",
        "            texts, annotations = zip(*batch)\n",
        "            nlp.update(\n",
        "                texts,  # batch of texts\n",
        "                annotations,  # batch of annotations\n",
        "                drop=0.5,  # dropout - make it harder to memorise data\n",
        "                losses=losses,\n",
        "                sgd=optimizer\n",
        "            )\n",
        "        if losses['ner'] < best:\n",
        "            best = losses['ner']\n",
        "            best_nlp = copy.deepcopy(nlp)\n",
        "            print('Best Loss:',losses)\n",
        "    return best_nlp"
      ],
      "metadata": {
        "id": "GLKaqaQVpE9i"
      },
      "execution_count": 12,
      "outputs": []
    },
    {
      "cell_type": "markdown",
      "source": [
        "# Step 08. Train model on custom data"
      ],
      "metadata": {
        "id": "uTYjpuoC-9Rp"
      }
    },
    {
      "cell_type": "code",
      "source": [
        "nlp2 = train_ner(TRAIN_DATA,100)"
      ],
      "metadata": {
        "colab": {
          "base_uri": "https://localhost:8080/",
          "height": 396,
          "referenced_widgets": [
            "67b118b18fba4e06872d662531aa680a",
            "d0183bee6dfc48dc8baff29a717f748e",
            "b7ce74276ead4250b7d8c39bf9a0d941",
            "b33f6393438548fba84f5c5d14239f31",
            "2b27ff511ab94b75ae354c82050fa691",
            "bb484f9d73124004a901af32e9334fc5",
            "255f51a748f74563a2aa31023c69b5a1",
            "4a606109fda1451487b8c52722dff7e2",
            "8f419048f8fe42f997da0452b727a4e4",
            "fb99002f46ca4f36b1dc5c367a8bafd5",
            "a55b7ce929da45fabe13200a894ba2d0"
          ]
        },
        "id": "0BckD4NUqDiM",
        "outputId": "5a074205-54a4-4f46-d920-b8731955a1e0"
      },
      "execution_count": 13,
      "outputs": [
        {
          "output_type": "display_data",
          "data": {
            "text/plain": [
              "  0%|          | 0/100 [00:00<?, ?it/s]"
            ],
            "application/vnd.jupyter.widget-view+json": {
              "version_major": 2,
              "version_minor": 0,
              "model_id": "67b118b18fba4e06872d662531aa680a"
            }
          },
          "metadata": {}
        },
        {
          "output_type": "stream",
          "name": "stdout",
          "text": [
            "Best Loss: {'ner': 330.48873929679394}\n",
            "Best Loss: {'ner': 121.7360690254718}\n",
            "Best Loss: {'ner': 48.28553517818477}\n",
            "Best Loss: {'ner': 21.574708651514836}\n",
            "Best Loss: {'ner': 9.311595288918147}\n",
            "Best Loss: {'ner': 7.503397853335169}\n",
            "Best Loss: {'ner': 4.770427097386712}\n",
            "Best Loss: {'ner': 3.6880026426715258}\n",
            "Best Loss: {'ner': 2.1217363503121414}\n",
            "Best Loss: {'ner': 1.757901475643759}\n",
            "Best Loss: {'ner': 1.6125089678903006}\n",
            "Best Loss: {'ner': 0.000988578242443247}\n",
            "Best Loss: {'ner': 4.151221589625196e-06}\n",
            "Best Loss: {'ner': 1.824475880238575e-06}\n",
            "Best Loss: {'ner': 1.606220695999317e-08}\n",
            "Best Loss: {'ner': 3.407900953851571e-09}\n",
            "Best Loss: {'ner': 5.187294779389708e-10}\n",
            "Best Loss: {'ner': 3.870497016960632e-11}\n",
            "Best Loss: {'ner': 2.985332627365027e-11}\n",
            "Best Loss: {'ner': 2.440289394757227e-12}\n"
          ]
        }
      ]
    },
    {
      "cell_type": "markdown",
      "source": [
        "# Step 09. Checking Accuracy on Test Dataset\n"
      ],
      "metadata": {
        "id": "gHmkdSUD-_q6"
      }
    },
    {
      "cell_type": "code",
      "source": [
        "#checking how many were good\n",
        "count = 0\n",
        "ok = []\n",
        "for index, row in test_df.iterrows():\n",
        "\n",
        "    docx2 = nlp2(row['transaction_descriptor'])\n",
        "    try:   \n",
        "        if str(docx2.ents[0]).lstrip('0') == str(row['store_number']):\n",
        "            count+=1\n",
        "            ok.append(index)   \n",
        "    except:\n",
        "        continue\n",
        "print('Accuracy on test dataset: ',count/len(test_df))"
      ],
      "metadata": {
        "colab": {
          "base_uri": "https://localhost:8080/"
        },
        "id": "MylIIRBevFew",
        "outputId": "502da1f1-6a2a-4dcd-80a1-5a76201f23f9"
      },
      "execution_count": 14,
      "outputs": [
        {
          "output_type": "stream",
          "name": "stdout",
          "text": [
            "Accuracy on test dataset:  0.86\n"
          ]
        }
      ]
    },
    {
      "cell_type": "markdown",
      "source": [
        "# Step 10. Issues and Visualizing Wrong Predictions\n",
        "Here we check for data that we could not predict or the model did not find any custom entity on the data\n"
      ],
      "metadata": {
        "id": "wvWMfC1x_D9N"
      }
    },
    {
      "cell_type": "code",
      "source": [
        "#checking issues\n",
        "\n",
        "count = 0\n",
        "print('{0: <50}'.format('Text'),'{0: <15}'.format('store_number'),'{0: <15}'.format('Prediction') )\n",
        "print('='*100)\n",
        "for index, row in test_df.iterrows():\n",
        "    if index not in ok:\n",
        "        docx2 = nlp2(row['transaction_descriptor'])\n",
        "        try:\n",
        "            result = str(docx2.ents[0])\n",
        "        except:\n",
        "            # when model could not find any entity\n",
        "            result = 'NONE'\n",
        "        result = result.lstrip('0')\n",
        "        print('{0: <50}'.format(str(row['transaction_descriptor']) ),'{0: <15}'.format(str(row['store_number'])),'{0: <15}'.format(result) )\n",
        "        \n",
        "        count += 1\n",
        "print('\\nTotal Wrong prediction in Testing dataset: ',count)\n",
        " "
      ],
      "metadata": {
        "colab": {
          "base_uri": "https://localhost:8080/"
        },
        "id": "2s7jqdi-yZIP",
        "outputId": "23ff3a0e-c08e-46fa-fcd4-5aa5ac5f63af"
      },
      "execution_count": 15,
      "outputs": [
        {
          "output_type": "stream",
          "name": "stdout",
          "text": [
            "Text                                               store_number    Prediction     \n",
            "====================================================================================================\n",
            "BP#9442088LIBERTYVILLE B                           9442088         NONE           \n",
            "LBOUTLETS#4249 1475 N BUR                          4249            1475           \n",
            "BP#8644346ES #30 B96                               8644346         30             \n",
            "NNT POLO/RL WRENTHA130571                          13057           NONE           \n",
            "NNT SEARS HOMETOWN 862751                          8627            862751         \n",
            "NAVY EXCHANGE 050161 0003                          50161           3              \n",
            "NNT FAMOUS FOOTWEAR001261                          1261            FOOTWEAR001261 \n",
            "EXPRESS#0813                                       813             NONE           \n",
            "NNT FAMOUS FOOTWEAR730376                          730376          NONE           \n",
            "MARATHON PETRO170928   MIAMI                       170928          NONE           \n",
            "NNT FAMOUSFOOTWEAR#132427                          132427          FAMOUSFOOTWEAR#132427\n",
            "PAPA MURPHY'S UT044 OLO                            UT044           NONE           \n",
            "BP#1003300DANADA SQUS                              1003300         NONE           \n",
            "SUBWAY        00032128                             3212            32128          \n",
            "\n",
            "Total Wrong prediction in Testing dataset:  14\n"
          ]
        }
      ]
    },
    {
      "cell_type": "markdown",
      "source": [
        "# Result Analysis and Comments\n",
        "We can see that the model did not do a good job of predicting subtext store number in this case.\n",
        "One of the reason I can assume that the tokenization works in a word level. When taking raw text and tokenizing it, the data model could only recognize word tokens and not subtext. We can also see that it was predicting the wrong store number in some cases. Assuming that our custom dataset of only 200 training data hampered the model's ability to generalize well."
      ],
      "metadata": {
        "id": "arkqLG3HLGSd"
      }
    },
    {
      "cell_type": "code",
      "source": [
        ""
      ],
      "metadata": {
        "id": "nMnTT8X3NAVU"
      },
      "execution_count": 15,
      "outputs": []
    }
  ]
}