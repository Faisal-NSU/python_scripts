{
  "nbformat": 4,
  "nbformat_minor": 0,
  "metadata": {
    "colab": {
      "name": "new approach.ipynb",
      "provenance": [],
      "collapsed_sections": [],
      "authorship_tag": "ABX9TyNFXXyUQcQrs+kHPnOmS2O4",
      "include_colab_link": true
    },
    "kernelspec": {
      "name": "python3",
      "display_name": "Python 3"
    },
    "language_info": {
      "name": "python"
    },
    "widgets": {
      "application/vnd.jupyter.widget-state+json": {
        "935168e432c84bb0abef10f0731de5db": {
          "model_module": "@jupyter-widgets/controls",
          "model_name": "HBoxModel",
          "model_module_version": "1.5.0",
          "state": {
            "_dom_classes": [],
            "_model_module": "@jupyter-widgets/controls",
            "_model_module_version": "1.5.0",
            "_model_name": "HBoxModel",
            "_view_count": null,
            "_view_module": "@jupyter-widgets/controls",
            "_view_module_version": "1.5.0",
            "_view_name": "HBoxView",
            "box_style": "",
            "children": [
              "IPY_MODEL_95a264154d1b447ca64f7043c08e1150",
              "IPY_MODEL_9008377619da4bb6961754f61bd62654",
              "IPY_MODEL_86b12245a1604935bc1dad6a98b6fe99"
            ],
            "layout": "IPY_MODEL_0c853e153d2144d394a31c40242a7d97"
          }
        },
        "95a264154d1b447ca64f7043c08e1150": {
          "model_module": "@jupyter-widgets/controls",
          "model_name": "HTMLModel",
          "model_module_version": "1.5.0",
          "state": {
            "_dom_classes": [],
            "_model_module": "@jupyter-widgets/controls",
            "_model_module_version": "1.5.0",
            "_model_name": "HTMLModel",
            "_view_count": null,
            "_view_module": "@jupyter-widgets/controls",
            "_view_module_version": "1.5.0",
            "_view_name": "HTMLView",
            "description": "",
            "description_tooltip": null,
            "layout": "IPY_MODEL_47c74ee9e7f84c3b896969cc6da92e23",
            "placeholder": "​",
            "style": "IPY_MODEL_86cfc2583606489683729cc4ba683680",
            "value": "100%"
          }
        },
        "9008377619da4bb6961754f61bd62654": {
          "model_module": "@jupyter-widgets/controls",
          "model_name": "FloatProgressModel",
          "model_module_version": "1.5.0",
          "state": {
            "_dom_classes": [],
            "_model_module": "@jupyter-widgets/controls",
            "_model_module_version": "1.5.0",
            "_model_name": "FloatProgressModel",
            "_view_count": null,
            "_view_module": "@jupyter-widgets/controls",
            "_view_module_version": "1.5.0",
            "_view_name": "ProgressView",
            "bar_style": "success",
            "description": "",
            "description_tooltip": null,
            "layout": "IPY_MODEL_4b8e31ef7075482d852f1e5b1f0266d1",
            "max": 50,
            "min": 0,
            "orientation": "horizontal",
            "style": "IPY_MODEL_3fd748a4b5fa44a985d2824a4e87e105",
            "value": 50
          }
        },
        "86b12245a1604935bc1dad6a98b6fe99": {
          "model_module": "@jupyter-widgets/controls",
          "model_name": "HTMLModel",
          "model_module_version": "1.5.0",
          "state": {
            "_dom_classes": [],
            "_model_module": "@jupyter-widgets/controls",
            "_model_module_version": "1.5.0",
            "_model_name": "HTMLModel",
            "_view_count": null,
            "_view_module": "@jupyter-widgets/controls",
            "_view_module_version": "1.5.0",
            "_view_name": "HTMLView",
            "description": "",
            "description_tooltip": null,
            "layout": "IPY_MODEL_6212cc59afff41159a563db4746e18c4",
            "placeholder": "​",
            "style": "IPY_MODEL_b71b4b8f9e134771a9bc1d2a500ac634",
            "value": " 50/50 [00:56&lt;00:00,  1.59s/it]"
          }
        },
        "0c853e153d2144d394a31c40242a7d97": {
          "model_module": "@jupyter-widgets/base",
          "model_name": "LayoutModel",
          "model_module_version": "1.2.0",
          "state": {
            "_model_module": "@jupyter-widgets/base",
            "_model_module_version": "1.2.0",
            "_model_name": "LayoutModel",
            "_view_count": null,
            "_view_module": "@jupyter-widgets/base",
            "_view_module_version": "1.2.0",
            "_view_name": "LayoutView",
            "align_content": null,
            "align_items": null,
            "align_self": null,
            "border": null,
            "bottom": null,
            "display": null,
            "flex": null,
            "flex_flow": null,
            "grid_area": null,
            "grid_auto_columns": null,
            "grid_auto_flow": null,
            "grid_auto_rows": null,
            "grid_column": null,
            "grid_gap": null,
            "grid_row": null,
            "grid_template_areas": null,
            "grid_template_columns": null,
            "grid_template_rows": null,
            "height": null,
            "justify_content": null,
            "justify_items": null,
            "left": null,
            "margin": null,
            "max_height": null,
            "max_width": null,
            "min_height": null,
            "min_width": null,
            "object_fit": null,
            "object_position": null,
            "order": null,
            "overflow": null,
            "overflow_x": null,
            "overflow_y": null,
            "padding": null,
            "right": null,
            "top": null,
            "visibility": null,
            "width": null
          }
        },
        "47c74ee9e7f84c3b896969cc6da92e23": {
          "model_module": "@jupyter-widgets/base",
          "model_name": "LayoutModel",
          "model_module_version": "1.2.0",
          "state": {
            "_model_module": "@jupyter-widgets/base",
            "_model_module_version": "1.2.0",
            "_model_name": "LayoutModel",
            "_view_count": null,
            "_view_module": "@jupyter-widgets/base",
            "_view_module_version": "1.2.0",
            "_view_name": "LayoutView",
            "align_content": null,
            "align_items": null,
            "align_self": null,
            "border": null,
            "bottom": null,
            "display": null,
            "flex": null,
            "flex_flow": null,
            "grid_area": null,
            "grid_auto_columns": null,
            "grid_auto_flow": null,
            "grid_auto_rows": null,
            "grid_column": null,
            "grid_gap": null,
            "grid_row": null,
            "grid_template_areas": null,
            "grid_template_columns": null,
            "grid_template_rows": null,
            "height": null,
            "justify_content": null,
            "justify_items": null,
            "left": null,
            "margin": null,
            "max_height": null,
            "max_width": null,
            "min_height": null,
            "min_width": null,
            "object_fit": null,
            "object_position": null,
            "order": null,
            "overflow": null,
            "overflow_x": null,
            "overflow_y": null,
            "padding": null,
            "right": null,
            "top": null,
            "visibility": null,
            "width": null
          }
        },
        "86cfc2583606489683729cc4ba683680": {
          "model_module": "@jupyter-widgets/controls",
          "model_name": "DescriptionStyleModel",
          "model_module_version": "1.5.0",
          "state": {
            "_model_module": "@jupyter-widgets/controls",
            "_model_module_version": "1.5.0",
            "_model_name": "DescriptionStyleModel",
            "_view_count": null,
            "_view_module": "@jupyter-widgets/base",
            "_view_module_version": "1.2.0",
            "_view_name": "StyleView",
            "description_width": ""
          }
        },
        "4b8e31ef7075482d852f1e5b1f0266d1": {
          "model_module": "@jupyter-widgets/base",
          "model_name": "LayoutModel",
          "model_module_version": "1.2.0",
          "state": {
            "_model_module": "@jupyter-widgets/base",
            "_model_module_version": "1.2.0",
            "_model_name": "LayoutModel",
            "_view_count": null,
            "_view_module": "@jupyter-widgets/base",
            "_view_module_version": "1.2.0",
            "_view_name": "LayoutView",
            "align_content": null,
            "align_items": null,
            "align_self": null,
            "border": null,
            "bottom": null,
            "display": null,
            "flex": null,
            "flex_flow": null,
            "grid_area": null,
            "grid_auto_columns": null,
            "grid_auto_flow": null,
            "grid_auto_rows": null,
            "grid_column": null,
            "grid_gap": null,
            "grid_row": null,
            "grid_template_areas": null,
            "grid_template_columns": null,
            "grid_template_rows": null,
            "height": null,
            "justify_content": null,
            "justify_items": null,
            "left": null,
            "margin": null,
            "max_height": null,
            "max_width": null,
            "min_height": null,
            "min_width": null,
            "object_fit": null,
            "object_position": null,
            "order": null,
            "overflow": null,
            "overflow_x": null,
            "overflow_y": null,
            "padding": null,
            "right": null,
            "top": null,
            "visibility": null,
            "width": null
          }
        },
        "3fd748a4b5fa44a985d2824a4e87e105": {
          "model_module": "@jupyter-widgets/controls",
          "model_name": "ProgressStyleModel",
          "model_module_version": "1.5.0",
          "state": {
            "_model_module": "@jupyter-widgets/controls",
            "_model_module_version": "1.5.0",
            "_model_name": "ProgressStyleModel",
            "_view_count": null,
            "_view_module": "@jupyter-widgets/base",
            "_view_module_version": "1.2.0",
            "_view_name": "StyleView",
            "bar_color": null,
            "description_width": ""
          }
        },
        "6212cc59afff41159a563db4746e18c4": {
          "model_module": "@jupyter-widgets/base",
          "model_name": "LayoutModel",
          "model_module_version": "1.2.0",
          "state": {
            "_model_module": "@jupyter-widgets/base",
            "_model_module_version": "1.2.0",
            "_model_name": "LayoutModel",
            "_view_count": null,
            "_view_module": "@jupyter-widgets/base",
            "_view_module_version": "1.2.0",
            "_view_name": "LayoutView",
            "align_content": null,
            "align_items": null,
            "align_self": null,
            "border": null,
            "bottom": null,
            "display": null,
            "flex": null,
            "flex_flow": null,
            "grid_area": null,
            "grid_auto_columns": null,
            "grid_auto_flow": null,
            "grid_auto_rows": null,
            "grid_column": null,
            "grid_gap": null,
            "grid_row": null,
            "grid_template_areas": null,
            "grid_template_columns": null,
            "grid_template_rows": null,
            "height": null,
            "justify_content": null,
            "justify_items": null,
            "left": null,
            "margin": null,
            "max_height": null,
            "max_width": null,
            "min_height": null,
            "min_width": null,
            "object_fit": null,
            "object_position": null,
            "order": null,
            "overflow": null,
            "overflow_x": null,
            "overflow_y": null,
            "padding": null,
            "right": null,
            "top": null,
            "visibility": null,
            "width": null
          }
        },
        "b71b4b8f9e134771a9bc1d2a500ac634": {
          "model_module": "@jupyter-widgets/controls",
          "model_name": "DescriptionStyleModel",
          "model_module_version": "1.5.0",
          "state": {
            "_model_module": "@jupyter-widgets/controls",
            "_model_module_version": "1.5.0",
            "_model_name": "DescriptionStyleModel",
            "_view_count": null,
            "_view_module": "@jupyter-widgets/base",
            "_view_module_version": "1.2.0",
            "_view_name": "StyleView",
            "description_width": ""
          }
        }
      }
    }
  },
  "cells": [
    {
      "cell_type": "markdown",
      "metadata": {
        "id": "view-in-github",
        "colab_type": "text"
      },
      "source": [
        "<a href=\"https://colab.research.google.com/github/faisalisafk/python_scripts/blob/main/Named_entity_custom_with_SPACY.ipynb\" target=\"_parent\"><img src=\"https://colab.research.google.com/assets/colab-badge.svg\" alt=\"Open In Colab\"/></a>"
      ]
    },
    {
      "cell_type": "code",
      "source": [
        "import pandas as pd\n",
        "import spacy\n",
        "from spacy import displacy\n",
        "from wordcloud import WordCloud, STOPWORDS\n",
        "from spacy.util import minibatch, compounding\n",
        "import pandas as pd\n",
        "import numpy as np  \n",
        "import matplotlib.pyplot as plt\n",
        "import re\n",
        "import random\n",
        "import math\n",
        "import copy\n",
        "from tqdm.notebook import tqdm\n",
        "random.seed(42)\n",
        "\n",
        "df = pd.read_csv('data.csv')"
      ],
      "metadata": {
        "id": "97sJ690qmGTm"
      },
      "execution_count": 1,
      "outputs": []
    },
    {
      "cell_type": "code",
      "source": [
        "df.sample(10)"
      ],
      "metadata": {
        "colab": {
          "base_uri": "https://localhost:8080/",
          "height": 363
        },
        "id": "FFqHnxCvmpcc",
        "outputId": "76e7c156-81e8-4039-80bf-5f9e3f7372a6"
      },
      "execution_count": 15,
      "outputs": [
        {
          "output_type": "execute_result",
          "data": {
            "text/plain": [
              "           transaction_descriptor store_number     dataset\n",
              "101     NNT BURLNGTON STORE472605       472605  validation\n",
              "246             MCDONALD'S F33735       F33735        test\n",
              "265                  EXPRESS#0813          813        test\n",
              "107              TACO BELL 729724       729724  validation\n",
              "129  WENDYS #514 TAMPA, FL (7271)          514  validation\n",
              "194               BP#5998869CK ST      5998869  validation\n",
              "286         STARBUCKS STORE 11966        11966        test\n",
              "202                 JCPENNEY 1419         1419        test\n",
              "215             AEROPOSTALE # 864          864        test\n",
              "56               MEIJER # 209 128          209       train"
            ],
            "text/html": [
              "\n",
              "  <div id=\"df-491d275a-aa8f-4518-9bcd-8b7e8d91f30b\">\n",
              "    <div class=\"colab-df-container\">\n",
              "      <div>\n",
              "<style scoped>\n",
              "    .dataframe tbody tr th:only-of-type {\n",
              "        vertical-align: middle;\n",
              "    }\n",
              "\n",
              "    .dataframe tbody tr th {\n",
              "        vertical-align: top;\n",
              "    }\n",
              "\n",
              "    .dataframe thead th {\n",
              "        text-align: right;\n",
              "    }\n",
              "</style>\n",
              "<table border=\"1\" class=\"dataframe\">\n",
              "  <thead>\n",
              "    <tr style=\"text-align: right;\">\n",
              "      <th></th>\n",
              "      <th>transaction_descriptor</th>\n",
              "      <th>store_number</th>\n",
              "      <th>dataset</th>\n",
              "    </tr>\n",
              "  </thead>\n",
              "  <tbody>\n",
              "    <tr>\n",
              "      <th>101</th>\n",
              "      <td>NNT BURLNGTON STORE472605</td>\n",
              "      <td>472605</td>\n",
              "      <td>validation</td>\n",
              "    </tr>\n",
              "    <tr>\n",
              "      <th>246</th>\n",
              "      <td>MCDONALD'S F33735</td>\n",
              "      <td>F33735</td>\n",
              "      <td>test</td>\n",
              "    </tr>\n",
              "    <tr>\n",
              "      <th>265</th>\n",
              "      <td>EXPRESS#0813</td>\n",
              "      <td>813</td>\n",
              "      <td>test</td>\n",
              "    </tr>\n",
              "    <tr>\n",
              "      <th>107</th>\n",
              "      <td>TACO BELL 729724</td>\n",
              "      <td>729724</td>\n",
              "      <td>validation</td>\n",
              "    </tr>\n",
              "    <tr>\n",
              "      <th>129</th>\n",
              "      <td>WENDYS #514 TAMPA, FL (7271)</td>\n",
              "      <td>514</td>\n",
              "      <td>validation</td>\n",
              "    </tr>\n",
              "    <tr>\n",
              "      <th>194</th>\n",
              "      <td>BP#5998869CK ST</td>\n",
              "      <td>5998869</td>\n",
              "      <td>validation</td>\n",
              "    </tr>\n",
              "    <tr>\n",
              "      <th>286</th>\n",
              "      <td>STARBUCKS STORE 11966</td>\n",
              "      <td>11966</td>\n",
              "      <td>test</td>\n",
              "    </tr>\n",
              "    <tr>\n",
              "      <th>202</th>\n",
              "      <td>JCPENNEY 1419</td>\n",
              "      <td>1419</td>\n",
              "      <td>test</td>\n",
              "    </tr>\n",
              "    <tr>\n",
              "      <th>215</th>\n",
              "      <td>AEROPOSTALE # 864</td>\n",
              "      <td>864</td>\n",
              "      <td>test</td>\n",
              "    </tr>\n",
              "    <tr>\n",
              "      <th>56</th>\n",
              "      <td>MEIJER # 209 128</td>\n",
              "      <td>209</td>\n",
              "      <td>train</td>\n",
              "    </tr>\n",
              "  </tbody>\n",
              "</table>\n",
              "</div>\n",
              "      <button class=\"colab-df-convert\" onclick=\"convertToInteractive('df-491d275a-aa8f-4518-9bcd-8b7e8d91f30b')\"\n",
              "              title=\"Convert this dataframe to an interactive table.\"\n",
              "              style=\"display:none;\">\n",
              "        \n",
              "  <svg xmlns=\"http://www.w3.org/2000/svg\" height=\"24px\"viewBox=\"0 0 24 24\"\n",
              "       width=\"24px\">\n",
              "    <path d=\"M0 0h24v24H0V0z\" fill=\"none\"/>\n",
              "    <path d=\"M18.56 5.44l.94 2.06.94-2.06 2.06-.94-2.06-.94-.94-2.06-.94 2.06-2.06.94zm-11 1L8.5 8.5l.94-2.06 2.06-.94-2.06-.94L8.5 2.5l-.94 2.06-2.06.94zm10 10l.94 2.06.94-2.06 2.06-.94-2.06-.94-.94-2.06-.94 2.06-2.06.94z\"/><path d=\"M17.41 7.96l-1.37-1.37c-.4-.4-.92-.59-1.43-.59-.52 0-1.04.2-1.43.59L10.3 9.45l-7.72 7.72c-.78.78-.78 2.05 0 2.83L4 21.41c.39.39.9.59 1.41.59.51 0 1.02-.2 1.41-.59l7.78-7.78 2.81-2.81c.8-.78.8-2.07 0-2.86zM5.41 20L4 18.59l7.72-7.72 1.47 1.35L5.41 20z\"/>\n",
              "  </svg>\n",
              "      </button>\n",
              "      \n",
              "  <style>\n",
              "    .colab-df-container {\n",
              "      display:flex;\n",
              "      flex-wrap:wrap;\n",
              "      gap: 12px;\n",
              "    }\n",
              "\n",
              "    .colab-df-convert {\n",
              "      background-color: #E8F0FE;\n",
              "      border: none;\n",
              "      border-radius: 50%;\n",
              "      cursor: pointer;\n",
              "      display: none;\n",
              "      fill: #1967D2;\n",
              "      height: 32px;\n",
              "      padding: 0 0 0 0;\n",
              "      width: 32px;\n",
              "    }\n",
              "\n",
              "    .colab-df-convert:hover {\n",
              "      background-color: #E2EBFA;\n",
              "      box-shadow: 0px 1px 2px rgba(60, 64, 67, 0.3), 0px 1px 3px 1px rgba(60, 64, 67, 0.15);\n",
              "      fill: #174EA6;\n",
              "    }\n",
              "\n",
              "    [theme=dark] .colab-df-convert {\n",
              "      background-color: #3B4455;\n",
              "      fill: #D2E3FC;\n",
              "    }\n",
              "\n",
              "    [theme=dark] .colab-df-convert:hover {\n",
              "      background-color: #434B5C;\n",
              "      box-shadow: 0px 1px 3px 1px rgba(0, 0, 0, 0.15);\n",
              "      filter: drop-shadow(0px 1px 2px rgba(0, 0, 0, 0.3));\n",
              "      fill: #FFFFFF;\n",
              "    }\n",
              "  </style>\n",
              "\n",
              "      <script>\n",
              "        const buttonEl =\n",
              "          document.querySelector('#df-491d275a-aa8f-4518-9bcd-8b7e8d91f30b button.colab-df-convert');\n",
              "        buttonEl.style.display =\n",
              "          google.colab.kernel.accessAllowed ? 'block' : 'none';\n",
              "\n",
              "        async function convertToInteractive(key) {\n",
              "          const element = document.querySelector('#df-491d275a-aa8f-4518-9bcd-8b7e8d91f30b');\n",
              "          const dataTable =\n",
              "            await google.colab.kernel.invokeFunction('convertToInteractive',\n",
              "                                                     [key], {});\n",
              "          if (!dataTable) return;\n",
              "\n",
              "          const docLinkHtml = 'Like what you see? Visit the ' +\n",
              "            '<a target=\"_blank\" href=https://colab.research.google.com/notebooks/data_table.ipynb>data table notebook</a>'\n",
              "            + ' to learn more about interactive tables.';\n",
              "          element.innerHTML = '';\n",
              "          dataTable['output_type'] = 'display_data';\n",
              "          await google.colab.output.renderOutput(dataTable, element);\n",
              "          const docLink = document.createElement('div');\n",
              "          docLink.innerHTML = docLinkHtml;\n",
              "          element.appendChild(docLink);\n",
              "        }\n",
              "      </script>\n",
              "    </div>\n",
              "  </div>\n",
              "  "
            ]
          },
          "metadata": {},
          "execution_count": 15
        }
      ]
    },
    {
      "cell_type": "code",
      "source": [
        "df.count()"
      ],
      "metadata": {
        "colab": {
          "base_uri": "https://localhost:8080/"
        },
        "id": "2Iuqk_xspNYs",
        "outputId": "42d20e3d-9373-43a9-8c7d-4699f145abe6"
      },
      "execution_count": null,
      "outputs": [
        {
          "output_type": "execute_result",
          "data": {
            "text/plain": [
              "transaction_descriptor    300\n",
              "store_number              300\n",
              "dataset                   300\n",
              "dtype: int64"
            ]
          },
          "metadata": {},
          "execution_count": 5
        }
      ]
    },
    {
      "cell_type": "code",
      "source": [
        "train_df = df.loc[df['dataset'].isin(['train', 'validation'])]\n",
        "test_df = df.loc[df['dataset'] == 'test']\n",
        "\n",
        "print(train_df.shape)\n",
        "test_df.shape"
      ],
      "metadata": {
        "id": "Snba63i98I8K",
        "outputId": "ce1e166f-e845-45a8-8d5a-3f89092e7516",
        "colab": {
          "base_uri": "https://localhost:8080/"
        }
      },
      "execution_count": 17,
      "outputs": [
        {
          "output_type": "stream",
          "name": "stdout",
          "text": [
            "(200, 3)\n"
          ]
        },
        {
          "output_type": "execute_result",
          "data": {
            "text/plain": [
              "(100, 3)"
            ]
          },
          "metadata": {},
          "execution_count": 17
        }
      ]
    },
    {
      "cell_type": "code",
      "source": [
        "nlp0 = spacy.load('en_core_web_sm')"
      ],
      "metadata": {
        "id": "R8Td3Qb-mSF0"
      },
      "execution_count": 18,
      "outputs": []
    },
    {
      "cell_type": "code",
      "source": [
        "nlp0.pipe_names"
      ],
      "metadata": {
        "colab": {
          "base_uri": "https://localhost:8080/"
        },
        "id": "tY2gUthFmrV5",
        "outputId": "bd3ddd8e-805f-40af-d657-8a1810deed42"
      },
      "execution_count": 19,
      "outputs": [
        {
          "output_type": "execute_result",
          "data": {
            "text/plain": [
              "['tagger', 'parser', 'ner']"
            ]
          },
          "metadata": {},
          "execution_count": 19
        }
      ]
    },
    {
      "cell_type": "code",
      "source": [
        "ner0 = nlp0.get_pipe('ner')"
      ],
      "metadata": {
        "id": "Mz-MOKrlmu3O"
      },
      "execution_count": 20,
      "outputs": []
    },
    {
      "cell_type": "code",
      "source": [
        "def do_it(text,sub):\n",
        "    start = text.find(sub)\n",
        "    end = len(sub) + start\n",
        "    entity = (start,end,'number')\n",
        "    entities = []\n",
        "    ent_dict = {}\n",
        "    entities.append(entity)\n",
        "    ent_dict['entities'] = entities\n",
        "    #text = text.replace(\" \", \"0\")\n",
        "    train_item = (text, ent_dict)\n",
        "    return train_item"
      ],
      "metadata": {
        "id": "S0l_hB2hCo3Q"
      },
      "execution_count": 21,
      "outputs": []
    },
    {
      "cell_type": "code",
      "source": [
        "TRAIN_DATA = []\n",
        "TEST_DATA = []\n",
        "\n",
        "for _, item in train_df.iterrows():\n",
        "    train_item = do_it(item['transaction_descriptor'],item['store_number'])\n",
        "    TRAIN_DATA.append(train_item)\n",
        "print(len(TRAIN_DATA))\n",
        "\n",
        "for _, item in test_df.iterrows():\n",
        "    test_item = do_it(item['transaction_descriptor'],item['store_number'])\n",
        "    TEST_DATA.append(test_item)\n",
        "print(len(TEST_DATA))\n"
      ],
      "metadata": {
        "id": "VIutIX9HDHDI",
        "outputId": "1fd73164-a6a1-4dec-c15d-f275107b8968",
        "colab": {
          "base_uri": "https://localhost:8080/"
        }
      },
      "execution_count": 22,
      "outputs": [
        {
          "output_type": "stream",
          "name": "stdout",
          "text": [
            "200\n",
            "100\n"
          ]
        }
      ]
    },
    {
      "cell_type": "code",
      "source": [
        "n_iter = 50\n",
        "\n",
        "def train_ner(training_data):\n",
        "    \"\"\"Steps\n",
        "    Create a Blank NLP  model object\n",
        "    Create and add NER to the NLP model\n",
        "    Add Labels from your training data\n",
        "    Train  \n",
        "    \"\"\"\n",
        "    best = math.inf\n",
        "    TRAIN_DATA = training_data\n",
        "    nlp = spacy.blank(\"en\")  # create blank Language class\n",
        "    \n",
        "    if \"ner\" not in nlp.pipe_names:\n",
        "        ner = nlp.create_pipe(\"ner\")\n",
        "        nlp.add_pipe(ner, last=True)\n",
        "    # otherwise, get it so we can add labels\n",
        "    else:\n",
        "        ner = nlp.get_pipe(\"ner\")\n",
        "        \n",
        "    # add labels\n",
        "    for _, annotations in TRAIN_DATA:\n",
        "        for ent in annotations.get(\"entities\"):\n",
        "            ner.add_label(ent[2])\n",
        "\n",
        "    disable_pipes = [pipe for pipe in nlp.pipe_names if pipe != 'ner']\n",
        "\n",
        "    with nlp.disable_pipes(*disable_pipes):\n",
        "        optimizer = nlp.resume_training()\n",
        "\n",
        "    nlp.begin_training()\n",
        "    for itn in tqdm(range(n_iter)):\n",
        "        random.shuffle(TRAIN_DATA)\n",
        "        losses = {}\n",
        "        # batch up the examples using spaCy's minibatch\n",
        "        batches = minibatch(TRAIN_DATA)\n",
        "        for batch in batches:\n",
        "            texts, annotations = zip(*batch)\n",
        "            nlp.update(\n",
        "                texts,  # batch of texts\n",
        "                annotations,  # batch of annotations\n",
        "                drop=0.5,  # dropout - make it harder to memorise data\n",
        "                losses=losses,\n",
        "                sgd=optimizer\n",
        "            )\n",
        "        print(\"Losses\", losses)\n",
        "        if losses['ner'] < best:\n",
        "            best = losses['ner']\n",
        "            best_nlp = copy.deepcopy(nlp)\n",
        "            print('best changed')\n",
        "    return best_nlp"
      ],
      "metadata": {
        "id": "GLKaqaQVpE9i"
      },
      "execution_count": 23,
      "outputs": []
    },
    {
      "cell_type": "code",
      "source": [
        "%%time\n",
        "nlp2 = train_ner(TRAIN_DATA)"
      ],
      "metadata": {
        "colab": {
          "base_uri": "https://localhost:8080/",
          "height": 1000,
          "referenced_widgets": [
            "935168e432c84bb0abef10f0731de5db",
            "95a264154d1b447ca64f7043c08e1150",
            "9008377619da4bb6961754f61bd62654",
            "86b12245a1604935bc1dad6a98b6fe99",
            "0c853e153d2144d394a31c40242a7d97",
            "47c74ee9e7f84c3b896969cc6da92e23",
            "86cfc2583606489683729cc4ba683680",
            "4b8e31ef7075482d852f1e5b1f0266d1",
            "3fd748a4b5fa44a985d2824a4e87e105",
            "6212cc59afff41159a563db4746e18c4",
            "b71b4b8f9e134771a9bc1d2a500ac634"
          ]
        },
        "id": "0BckD4NUqDiM",
        "outputId": "35659240-c800-4050-d7b6-c0f617006575"
      },
      "execution_count": 24,
      "outputs": [
        {
          "output_type": "display_data",
          "data": {
            "text/plain": [
              "  0%|          | 0/50 [00:00<?, ?it/s]"
            ],
            "application/vnd.jupyter.widget-view+json": {
              "version_major": 2,
              "version_minor": 0,
              "model_id": "935168e432c84bb0abef10f0731de5db"
            }
          },
          "metadata": {}
        },
        {
          "output_type": "stream",
          "name": "stdout",
          "text": [
            "Losses {'ner': 329.6001978497952}\n",
            "best changed\n",
            "Losses {'ner': 124.40871342876926}\n",
            "best changed\n",
            "Losses {'ner': 42.934918562746795}\n",
            "best changed\n",
            "Losses {'ner': 34.99103732044751}\n",
            "best changed\n",
            "Losses {'ner': 10.175014131357829}\n",
            "best changed\n",
            "Losses {'ner': 5.6907935066856465}\n",
            "best changed\n",
            "Losses {'ner': 4.791624868742698}\n",
            "best changed\n",
            "Losses {'ner': 10.184309617981796}\n",
            "Losses {'ner': 2.7336733734545127}\n",
            "best changed\n",
            "Losses {'ner': 3.9543982567469893}\n",
            "Losses {'ner': 3.4535784476481686}\n",
            "Losses {'ner': 0.019378743579666197}\n",
            "best changed\n",
            "Losses {'ner': 0.0014654791734449793}\n",
            "best changed\n",
            "Losses {'ner': 2.9019178543556703}\n",
            "Losses {'ner': 0.12419026911953081}\n",
            "Losses {'ner': 0.012667981784464813}\n",
            "Losses {'ner': 1.6062353967577658}\n",
            "Losses {'ner': 0.0003145087206554048}\n",
            "best changed\n",
            "Losses {'ner': 3.5942713140312796}\n",
            "Losses {'ner': 0.017016569538959275}\n",
            "Losses {'ner': 1.9997544675155814}\n",
            "Losses {'ner': 3.8978177176920776}\n",
            "Losses {'ner': 3.080881087518811}\n",
            "Losses {'ner': 0.00035707457815120955}\n",
            "Losses {'ner': 0.06691154445065882}\n",
            "Losses {'ner': 0.005024262024776411}\n",
            "Losses {'ner': 1.3569545420151978}\n",
            "Losses {'ner': 0.3495308916955282}\n",
            "Losses {'ner': 0.02350337424585741}\n",
            "Losses {'ner': 3.533654245849615}\n",
            "Losses {'ner': 2.656638873219151}\n",
            "Losses {'ner': 0.00010738838886179886}\n",
            "best changed\n",
            "Losses {'ner': 3.440082642823031e-08}\n",
            "best changed\n",
            "Losses {'ner': 1.9248662846026017}\n",
            "Losses {'ner': 2.0604204103867534e-07}\n",
            "Losses {'ner': 4.312730375194052}\n",
            "Losses {'ner': 1.4005482320679075}\n",
            "Losses {'ner': 2.4180502083758597}\n",
            "Losses {'ner': 0.0022261035636909417}\n",
            "Losses {'ner': 0.2428641091810967}\n",
            "Losses {'ner': 2.9948503431012996e-08}\n",
            "best changed\n",
            "Losses {'ner': 0.1923543928442723}\n",
            "Losses {'ner': 1.2225329008884716e-07}\n",
            "Losses {'ner': 3.267931376488365e-07}\n",
            "Losses {'ner': 0.0009293297946591962}\n",
            "Losses {'ner': 0.5652618591909082}\n",
            "Losses {'ner': 1.9943426155572588}\n",
            "Losses {'ner': 0.04752620199510128}\n",
            "Losses {'ner': 6.6205331265418025e-09}\n",
            "best changed\n",
            "Losses {'ner': 0.00017589088560971233}\n",
            "CPU times: user 50.2 s, sys: 818 ms, total: 51 s\n",
            "Wall time: 57.3 s\n"
          ]
        }
      ]
    },
    {
      "cell_type": "code",
      "source": [
        ""
      ],
      "metadata": {
        "id": "n_ZVm2u8-YoO"
      },
      "execution_count": null,
      "outputs": []
    },
    {
      "cell_type": "code",
      "source": [
        "#try random\n",
        "temp = test_df.sample()\n",
        "print(temp)\n",
        "print(\"===============================\")\n",
        "text = temp['transaction_descriptor'].values[0]\n",
        "\n",
        "docx2 = nlp2(text)\n",
        "\n",
        "for entity in docx2.ents:\n",
        "    print(entity)\n",
        "\n",
        "displacy.render(nlp2(docx2.text),style='ent',jupyter=True)"
      ],
      "metadata": {
        "colab": {
          "base_uri": "https://localhost:8080/",
          "height": 121
        },
        "id": "NUcsQA_CqNuC",
        "outputId": "a5b55b28-f0a3-4d0c-e874-37a1eb9bdc02"
      },
      "execution_count": 25,
      "outputs": [
        {
          "output_type": "stream",
          "name": "stdout",
          "text": [
            "    transaction_descriptor store_number dataset\n",
            "298  BANANA REPUBLIC #8109         8109    test\n",
            "===============================\n",
            "8109\n"
          ]
        },
        {
          "output_type": "display_data",
          "data": {
            "text/plain": [
              "<IPython.core.display.HTML object>"
            ],
            "text/html": [
              "<span class=\"tex2jax_ignore\"><div class=\"entities\" style=\"line-height: 2.5; direction: ltr\">BANANA REPUBLIC #\n",
              "<mark class=\"entity\" style=\"background: #ddd; padding: 0.45em 0.6em; margin: 0 0.25em; line-height: 1; border-radius: 0.35em;\">\n",
              "    8109\n",
              "    <span style=\"font-size: 0.8em; font-weight: bold; line-height: 1; border-radius: 0.35em; text-transform: uppercase; vertical-align: middle; margin-left: 0.5rem\">number</span>\n",
              "</mark>\n",
              "</div></span>"
            ]
          },
          "metadata": {}
        }
      ]
    },
    {
      "cell_type": "code",
      "source": [
        "#try 223 cuz issues\n",
        "temp = df.iloc[[223]]\n",
        "print(temp)\n",
        "print(\"===============================\")\n",
        "text = temp['transaction_descriptor'].values[0]\n",
        "\n",
        "docx2 = nlp2(text)\n",
        "\n",
        "for entity in docx2.ents:\n",
        "    print(entity)\n",
        "\n",
        "displacy.render(nlp2(docx2.text),style='ent',jupyter=True)"
      ],
      "metadata": {
        "id": "e6lwaDlXrXua",
        "colab": {
          "base_uri": "https://localhost:8080/",
          "height": 159
        },
        "outputId": "f03d0073-0cd6-4b6e-edb8-f843fd9c4006"
      },
      "execution_count": 26,
      "outputs": [
        {
          "output_type": "stream",
          "name": "stdout",
          "text": [
            "        transaction_descriptor store_number dataset\n",
            "223  NNT POLO/RL WRENTHA130571        13057    test\n",
            "===============================\n"
          ]
        },
        {
          "output_type": "stream",
          "name": "stderr",
          "text": [
            "/usr/lib/python3.7/runpy.py:193: UserWarning: [W006] No entities to visualize found in Doc object. If this is surprising to you, make sure the Doc was processed using a model that supports named entity recognition, and check the `doc.ents` property manually if necessary.\n",
            "  \"__main__\", mod_spec)\n"
          ]
        },
        {
          "output_type": "display_data",
          "data": {
            "text/plain": [
              "<IPython.core.display.HTML object>"
            ],
            "text/html": [
              "<span class=\"tex2jax_ignore\"><div class=\"entities\" style=\"line-height: 2.5; direction: ltr\">NNT POLO/RL WRENTHA130571</div></span>"
            ]
          },
          "metadata": {}
        }
      ]
    },
    {
      "cell_type": "code",
      "source": [
        "#checking how many were good\n",
        "count = 0\n",
        "ok = []\n",
        "for index, row in test_df.iterrows():\n",
        "\n",
        "    docx2 = nlp2(row['transaction_descriptor'])\n",
        "    try:   \n",
        "        if str(docx2.ents[0]).lstrip('0') == str(row['store_number']):\n",
        "            count+=1\n",
        "            ok.append(index)   \n",
        "    except:\n",
        "        continue\n",
        "print(count)\n",
        "print(ok)"
      ],
      "metadata": {
        "colab": {
          "base_uri": "https://localhost:8080/"
        },
        "id": "MylIIRBevFew",
        "outputId": "bb3dd04d-d77f-406a-deb8-1fb006840187"
      },
      "execution_count": 29,
      "outputs": [
        {
          "output_type": "stream",
          "name": "stdout",
          "text": [
            "84\n",
            "[200, 202, 203, 204, 205, 206, 208, 209, 210, 211, 212, 213, 214, 215, 216, 217, 218, 219, 220, 221, 224, 225, 226, 227, 228, 229, 230, 232, 234, 235, 236, 237, 238, 239, 240, 241, 242, 243, 244, 245, 246, 247, 248, 249, 250, 251, 252, 253, 254, 255, 256, 257, 258, 259, 260, 261, 262, 263, 266, 268, 269, 270, 271, 272, 273, 274, 275, 277, 278, 279, 280, 281, 284, 286, 287, 288, 289, 290, 294, 295, 296, 297, 298, 299]\n"
          ]
        }
      ]
    },
    {
      "cell_type": "code",
      "source": [
        "#checking issues\n",
        "count = 0\n",
        "for index, row in test_df.iterrows():\n",
        "    if index not in ok:\n",
        "        docx2 = nlp2(row['transaction_descriptor'])\n",
        "        try:\n",
        "            result = str(docx2.ents[0])\n",
        "        except:\n",
        "            result = 'EMPTYYYYY'\n",
        "        result = result.lstrip('0')\n",
        "\n",
        "        print(str(row['transaction_descriptor']) + ' --- ' + str(row['store_number']) + ' --- ',result)\n",
        "        count += 1\n",
        "\n",
        "print(count)\n",
        " "
      ],
      "metadata": {
        "colab": {
          "base_uri": "https://localhost:8080/"
        },
        "id": "2s7jqdi-yZIP",
        "outputId": "ac034de6-7551-4e45-82ee-904db0529bb6"
      },
      "execution_count": 30,
      "outputs": [
        {
          "output_type": "stream",
          "name": "stdout",
          "text": [
            "BP#9442088LIBERTYVILLE B --- 9442088 ---  EMPTYYYYY\n",
            "LBOUTLETS#4249 1475 N BUR --- 4249 ---  EMPTYYYYY\n",
            "BP#8644346ES #30 B96 --- 8644346 ---  30\n",
            "NNT POLO/RL WRENTHA130571 --- 13057 ---  EMPTYYYYY\n",
            "NNT SEARS HOMETOWN 862751 --- 8627 ---  862751\n",
            "NAVY EXCHANGE 050161 0003 --- 50161 ---  EMPTYYYYY\n",
            "NNT FAMOUS FOOTWEAR001261 --- 1261 ---  EMPTYYYYY\n",
            "EXPRESS#0813 --- 813 ---  EMPTYYYYY\n",
            "SUNOCO 039962380 --- 39962380 ---  EMPTYYYYY\n",
            "SUNOCO 0837208800        STATEN ISLANDNY --- 837208800 ---  EMPTYYYYY\n",
            "NNT FAMOUS FOOTWEAR730376 --- 730376 ---  EMPTYYYYY\n",
            "MARATHON PETRO170928   MIAMI --- 170928 ---  EMPTYYYYY\n",
            "NNT FAMOUSFOOTWEAR#132427 --- 132427 ---  EMPTYYYYY\n",
            "BP#1003300DANADA SQUS --- 1003300 ---  EMPTYYYYY\n",
            "SUBWAY        00032128 --- 3212 ---  32128\n",
            "TEXACO 00303733 --- 303733 ---  EMPTYYYYY\n",
            "16\n"
          ]
        }
      ]
    }
  ]
}