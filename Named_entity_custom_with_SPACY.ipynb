{
  "nbformat": 4,
  "nbformat_minor": 0,
  "metadata": {
    "colab": {
      "name": "new approach.ipynb",
      "provenance": [],
      "collapsed_sections": [],
      "authorship_tag": "ABX9TyPac3VU5yAWzbINwOSLYx27",
      "include_colab_link": true
    },
    "kernelspec": {
      "name": "python3",
      "display_name": "Python 3"
    },
    "language_info": {
      "name": "python"
    },
    "widgets": {
      "application/vnd.jupyter.widget-state+json": {
        "935168e432c84bb0abef10f0731de5db": {
          "model_module": "@jupyter-widgets/controls",
          "model_name": "HBoxModel",
          "model_module_version": "1.5.0",
          "state": {
            "_dom_classes": [],
            "_model_module": "@jupyter-widgets/controls",
            "_model_module_version": "1.5.0",
            "_model_name": "HBoxModel",
            "_view_count": null,
            "_view_module": "@jupyter-widgets/controls",
            "_view_module_version": "1.5.0",
            "_view_name": "HBoxView",
            "box_style": "",
            "children": [
              "IPY_MODEL_95a264154d1b447ca64f7043c08e1150",
              "IPY_MODEL_9008377619da4bb6961754f61bd62654",
              "IPY_MODEL_86b12245a1604935bc1dad6a98b6fe99"
            ],
            "layout": "IPY_MODEL_0c853e153d2144d394a31c40242a7d97"
          }
        },
        "95a264154d1b447ca64f7043c08e1150": {
          "model_module": "@jupyter-widgets/controls",
          "model_name": "HTMLModel",
          "model_module_version": "1.5.0",
          "state": {
            "_dom_classes": [],
            "_model_module": "@jupyter-widgets/controls",
            "_model_module_version": "1.5.0",
            "_model_name": "HTMLModel",
            "_view_count": null,
            "_view_module": "@jupyter-widgets/controls",
            "_view_module_version": "1.5.0",
            "_view_name": "HTMLView",
            "description": "",
            "description_tooltip": null,
            "layout": "IPY_MODEL_47c74ee9e7f84c3b896969cc6da92e23",
            "placeholder": "​",
            "style": "IPY_MODEL_86cfc2583606489683729cc4ba683680",
            "value": "100%"
          }
        },
        "9008377619da4bb6961754f61bd62654": {
          "model_module": "@jupyter-widgets/controls",
          "model_name": "FloatProgressModel",
          "model_module_version": "1.5.0",
          "state": {
            "_dom_classes": [],
            "_model_module": "@jupyter-widgets/controls",
            "_model_module_version": "1.5.0",
            "_model_name": "FloatProgressModel",
            "_view_count": null,
            "_view_module": "@jupyter-widgets/controls",
            "_view_module_version": "1.5.0",
            "_view_name": "ProgressView",
            "bar_style": "success",
            "description": "",
            "description_tooltip": null,
            "layout": "IPY_MODEL_4b8e31ef7075482d852f1e5b1f0266d1",
            "max": 50,
            "min": 0,
            "orientation": "horizontal",
            "style": "IPY_MODEL_3fd748a4b5fa44a985d2824a4e87e105",
            "value": 50
          }
        },
        "86b12245a1604935bc1dad6a98b6fe99": {
          "model_module": "@jupyter-widgets/controls",
          "model_name": "HTMLModel",
          "model_module_version": "1.5.0",
          "state": {
            "_dom_classes": [],
            "_model_module": "@jupyter-widgets/controls",
            "_model_module_version": "1.5.0",
            "_model_name": "HTMLModel",
            "_view_count": null,
            "_view_module": "@jupyter-widgets/controls",
            "_view_module_version": "1.5.0",
            "_view_name": "HTMLView",
            "description": "",
            "description_tooltip": null,
            "layout": "IPY_MODEL_6212cc59afff41159a563db4746e18c4",
            "placeholder": "​",
            "style": "IPY_MODEL_b71b4b8f9e134771a9bc1d2a500ac634",
            "value": " 50/50 [00:56&lt;00:00,  1.59s/it]"
          }
        },
        "0c853e153d2144d394a31c40242a7d97": {
          "model_module": "@jupyter-widgets/base",
          "model_name": "LayoutModel",
          "model_module_version": "1.2.0",
          "state": {
            "_model_module": "@jupyter-widgets/base",
            "_model_module_version": "1.2.0",
            "_model_name": "LayoutModel",
            "_view_count": null,
            "_view_module": "@jupyter-widgets/base",
            "_view_module_version": "1.2.0",
            "_view_name": "LayoutView",
            "align_content": null,
            "align_items": null,
            "align_self": null,
            "border": null,
            "bottom": null,
            "display": null,
            "flex": null,
            "flex_flow": null,
            "grid_area": null,
            "grid_auto_columns": null,
            "grid_auto_flow": null,
            "grid_auto_rows": null,
            "grid_column": null,
            "grid_gap": null,
            "grid_row": null,
            "grid_template_areas": null,
            "grid_template_columns": null,
            "grid_template_rows": null,
            "height": null,
            "justify_content": null,
            "justify_items": null,
            "left": null,
            "margin": null,
            "max_height": null,
            "max_width": null,
            "min_height": null,
            "min_width": null,
            "object_fit": null,
            "object_position": null,
            "order": null,
            "overflow": null,
            "overflow_x": null,
            "overflow_y": null,
            "padding": null,
            "right": null,
            "top": null,
            "visibility": null,
            "width": null
          }
        },
        "47c74ee9e7f84c3b896969cc6da92e23": {
          "model_module": "@jupyter-widgets/base",
          "model_name": "LayoutModel",
          "model_module_version": "1.2.0",
          "state": {
            "_model_module": "@jupyter-widgets/base",
            "_model_module_version": "1.2.0",
            "_model_name": "LayoutModel",
            "_view_count": null,
            "_view_module": "@jupyter-widgets/base",
            "_view_module_version": "1.2.0",
            "_view_name": "LayoutView",
            "align_content": null,
            "align_items": null,
            "align_self": null,
            "border": null,
            "bottom": null,
            "display": null,
            "flex": null,
            "flex_flow": null,
            "grid_area": null,
            "grid_auto_columns": null,
            "grid_auto_flow": null,
            "grid_auto_rows": null,
            "grid_column": null,
            "grid_gap": null,
            "grid_row": null,
            "grid_template_areas": null,
            "grid_template_columns": null,
            "grid_template_rows": null,
            "height": null,
            "justify_content": null,
            "justify_items": null,
            "left": null,
            "margin": null,
            "max_height": null,
            "max_width": null,
            "min_height": null,
            "min_width": null,
            "object_fit": null,
            "object_position": null,
            "order": null,
            "overflow": null,
            "overflow_x": null,
            "overflow_y": null,
            "padding": null,
            "right": null,
            "top": null,
            "visibility": null,
            "width": null
          }
        },
        "86cfc2583606489683729cc4ba683680": {
          "model_module": "@jupyter-widgets/controls",
          "model_name": "DescriptionStyleModel",
          "model_module_version": "1.5.0",
          "state": {
            "_model_module": "@jupyter-widgets/controls",
            "_model_module_version": "1.5.0",
            "_model_name": "DescriptionStyleModel",
            "_view_count": null,
            "_view_module": "@jupyter-widgets/base",
            "_view_module_version": "1.2.0",
            "_view_name": "StyleView",
            "description_width": ""
          }
        },
        "4b8e31ef7075482d852f1e5b1f0266d1": {
          "model_module": "@jupyter-widgets/base",
          "model_name": "LayoutModel",
          "model_module_version": "1.2.0",
          "state": {
            "_model_module": "@jupyter-widgets/base",
            "_model_module_version": "1.2.0",
            "_model_name": "LayoutModel",
            "_view_count": null,
            "_view_module": "@jupyter-widgets/base",
            "_view_module_version": "1.2.0",
            "_view_name": "LayoutView",
            "align_content": null,
            "align_items": null,
            "align_self": null,
            "border": null,
            "bottom": null,
            "display": null,
            "flex": null,
            "flex_flow": null,
            "grid_area": null,
            "grid_auto_columns": null,
            "grid_auto_flow": null,
            "grid_auto_rows": null,
            "grid_column": null,
            "grid_gap": null,
            "grid_row": null,
            "grid_template_areas": null,
            "grid_template_columns": null,
            "grid_template_rows": null,
            "height": null,
            "justify_content": null,
            "justify_items": null,
            "left": null,
            "margin": null,
            "max_height": null,
            "max_width": null,
            "min_height": null,
            "min_width": null,
            "object_fit": null,
            "object_position": null,
            "order": null,
            "overflow": null,
            "overflow_x": null,
            "overflow_y": null,
            "padding": null,
            "right": null,
            "top": null,
            "visibility": null,
            "width": null
          }
        },
        "3fd748a4b5fa44a985d2824a4e87e105": {
          "model_module": "@jupyter-widgets/controls",
          "model_name": "ProgressStyleModel",
          "model_module_version": "1.5.0",
          "state": {
            "_model_module": "@jupyter-widgets/controls",
            "_model_module_version": "1.5.0",
            "_model_name": "ProgressStyleModel",
            "_view_count": null,
            "_view_module": "@jupyter-widgets/base",
            "_view_module_version": "1.2.0",
            "_view_name": "StyleView",
            "bar_color": null,
            "description_width": ""
          }
        },
        "6212cc59afff41159a563db4746e18c4": {
          "model_module": "@jupyter-widgets/base",
          "model_name": "LayoutModel",
          "model_module_version": "1.2.0",
          "state": {
            "_model_module": "@jupyter-widgets/base",
            "_model_module_version": "1.2.0",
            "_model_name": "LayoutModel",
            "_view_count": null,
            "_view_module": "@jupyter-widgets/base",
            "_view_module_version": "1.2.0",
            "_view_name": "LayoutView",
            "align_content": null,
            "align_items": null,
            "align_self": null,
            "border": null,
            "bottom": null,
            "display": null,
            "flex": null,
            "flex_flow": null,
            "grid_area": null,
            "grid_auto_columns": null,
            "grid_auto_flow": null,
            "grid_auto_rows": null,
            "grid_column": null,
            "grid_gap": null,
            "grid_row": null,
            "grid_template_areas": null,
            "grid_template_columns": null,
            "grid_template_rows": null,
            "height": null,
            "justify_content": null,
            "justify_items": null,
            "left": null,
            "margin": null,
            "max_height": null,
            "max_width": null,
            "min_height": null,
            "min_width": null,
            "object_fit": null,
            "object_position": null,
            "order": null,
            "overflow": null,
            "overflow_x": null,
            "overflow_y": null,
            "padding": null,
            "right": null,
            "top": null,
            "visibility": null,
            "width": null
          }
        },
        "b71b4b8f9e134771a9bc1d2a500ac634": {
          "model_module": "@jupyter-widgets/controls",
          "model_name": "DescriptionStyleModel",
          "model_module_version": "1.5.0",
          "state": {
            "_model_module": "@jupyter-widgets/controls",
            "_model_module_version": "1.5.0",
            "_model_name": "DescriptionStyleModel",
            "_view_count": null,
            "_view_module": "@jupyter-widgets/base",
            "_view_module_version": "1.2.0",
            "_view_name": "StyleView",
            "description_width": ""
          }
        }
      }
    }
  },
  "cells": [
    {
      "cell_type": "markdown",
      "metadata": {
        "id": "view-in-github",
        "colab_type": "text"
      },
      "source": [
        "<a href=\"https://colab.research.google.com/github/faisalisafk/python_scripts/blob/main/Named_entity_custom_with_SPACY.ipynb\" target=\"_parent\"><img src=\"https://colab.research.google.com/assets/colab-badge.svg\" alt=\"Open In Colab\"/></a>"
      ]
    },
    {
      "cell_type": "markdown",
      "source": [
        "# Step 01. Import necessary Dependencies\n",
        "Using pandas, spacy, matplotlib for data processing "
      ],
      "metadata": {
        "id": "ym5cAir1-kK0"
      }
    },
    {
      "cell_type": "code",
      "source": [
        "import pandas as pd\n",
        "import spacy\n",
        "from spacy import displacy\n",
        "from wordcloud import WordCloud, STOPWORDS\n",
        "from spacy.util import minibatch, compounding\n",
        "import pandas as pd\n",
        "import numpy as np  \n",
        "import matplotlib.pyplot as plt\n",
        "import re\n",
        "import random\n",
        "import math\n",
        "import copy\n",
        "from tqdm.notebook import tqdm\n",
        "random.seed(42)"
      ],
      "metadata": {
        "id": "97sJ690qmGTm"
      },
      "execution_count": 1,
      "outputs": []
    },
    {
      "cell_type": "markdown",
      "source": [
        "# Step 02. Downloading dataset from github and preprocessing \n",
        "I have uploaded the dataset on google drive so we download the dataset from there. Then, we check data information and preprocess null value, empty value or any dupllicated values if there exists any.\n"
      ],
      "metadata": {
        "id": "7bUw-y-Y-1fZ"
      }
    },
    {
      "cell_type": "code",
      "source": [
        "# Downloading dataset from google drive\n",
        "!gdown 1CvzAQXHMTkRUWmXnTovGKfdPetCLTxY4\n",
        "\n",
        "df = pd.read_csv('Summer Internship - Homework Exercise.csv')\n",
        "df.sample(10)"
      ],
      "metadata": {
        "id": "AQC2pWQY-t11",
        "outputId": "a9c9e405-52f2-46bc-9b82-2f203242e85a",
        "colab": {
          "base_uri": "https://localhost:8080/",
          "height": 432
        }
      },
      "execution_count": 76,
      "outputs": [
        {
          "output_type": "stream",
          "name": "stdout",
          "text": [
            "Downloading...\n",
            "From: https://drive.google.com/uc?id=1CvzAQXHMTkRUWmXnTovGKfdPetCLTxY4\n",
            "To: /content/Summer Internship - Homework Exercise.csv\n",
            "\r  0% 0.00/10.7k [00:00<?, ?B/s]\r100% 10.7k/10.7k [00:00<00:00, 11.9MB/s]\n"
          ]
        },
        {
          "output_type": "execute_result",
          "data": {
            "text/plain": [
              "        transaction_descriptor store_number     dataset\n",
              "45     AutoZone 6425 711 E MAI         6425       train\n",
              "61   NST ROSS STORES #11002986     11002986       train\n",
              "197     SPEEDWAY 07134 4343 OL         7134  validation\n",
              "159               CHECKERS 687          687  validation\n",
              "35               DOMINO'S 6870         6870       train\n",
              "17            MCDONALD'S F1013        F1013       train\n",
              "42        THE HOME DEPOT #1407         1407       train\n",
              "160  OCHARLEYS206BOWLGR 000000          206  validation\n",
              "203          ROSS STORES #1019         1019        test\n",
              "116      HOLIDAY STNSTORE 0046           46  validation"
            ],
            "text/html": [
              "\n",
              "  <div id=\"df-bcf599ee-634f-4ce7-b1b0-c532e3909f3e\">\n",
              "    <div class=\"colab-df-container\">\n",
              "      <div>\n",
              "<style scoped>\n",
              "    .dataframe tbody tr th:only-of-type {\n",
              "        vertical-align: middle;\n",
              "    }\n",
              "\n",
              "    .dataframe tbody tr th {\n",
              "        vertical-align: top;\n",
              "    }\n",
              "\n",
              "    .dataframe thead th {\n",
              "        text-align: right;\n",
              "    }\n",
              "</style>\n",
              "<table border=\"1\" class=\"dataframe\">\n",
              "  <thead>\n",
              "    <tr style=\"text-align: right;\">\n",
              "      <th></th>\n",
              "      <th>transaction_descriptor</th>\n",
              "      <th>store_number</th>\n",
              "      <th>dataset</th>\n",
              "    </tr>\n",
              "  </thead>\n",
              "  <tbody>\n",
              "    <tr>\n",
              "      <th>45</th>\n",
              "      <td>AutoZone 6425 711 E MAI</td>\n",
              "      <td>6425</td>\n",
              "      <td>train</td>\n",
              "    </tr>\n",
              "    <tr>\n",
              "      <th>61</th>\n",
              "      <td>NST ROSS STORES #11002986</td>\n",
              "      <td>11002986</td>\n",
              "      <td>train</td>\n",
              "    </tr>\n",
              "    <tr>\n",
              "      <th>197</th>\n",
              "      <td>SPEEDWAY 07134 4343 OL</td>\n",
              "      <td>7134</td>\n",
              "      <td>validation</td>\n",
              "    </tr>\n",
              "    <tr>\n",
              "      <th>159</th>\n",
              "      <td>CHECKERS 687</td>\n",
              "      <td>687</td>\n",
              "      <td>validation</td>\n",
              "    </tr>\n",
              "    <tr>\n",
              "      <th>35</th>\n",
              "      <td>DOMINO'S 6870</td>\n",
              "      <td>6870</td>\n",
              "      <td>train</td>\n",
              "    </tr>\n",
              "    <tr>\n",
              "      <th>17</th>\n",
              "      <td>MCDONALD'S F1013</td>\n",
              "      <td>F1013</td>\n",
              "      <td>train</td>\n",
              "    </tr>\n",
              "    <tr>\n",
              "      <th>42</th>\n",
              "      <td>THE HOME DEPOT #1407</td>\n",
              "      <td>1407</td>\n",
              "      <td>train</td>\n",
              "    </tr>\n",
              "    <tr>\n",
              "      <th>160</th>\n",
              "      <td>OCHARLEYS206BOWLGR 000000</td>\n",
              "      <td>206</td>\n",
              "      <td>validation</td>\n",
              "    </tr>\n",
              "    <tr>\n",
              "      <th>203</th>\n",
              "      <td>ROSS STORES #1019</td>\n",
              "      <td>1019</td>\n",
              "      <td>test</td>\n",
              "    </tr>\n",
              "    <tr>\n",
              "      <th>116</th>\n",
              "      <td>HOLIDAY STNSTORE 0046</td>\n",
              "      <td>46</td>\n",
              "      <td>validation</td>\n",
              "    </tr>\n",
              "  </tbody>\n",
              "</table>\n",
              "</div>\n",
              "      <button class=\"colab-df-convert\" onclick=\"convertToInteractive('df-bcf599ee-634f-4ce7-b1b0-c532e3909f3e')\"\n",
              "              title=\"Convert this dataframe to an interactive table.\"\n",
              "              style=\"display:none;\">\n",
              "        \n",
              "  <svg xmlns=\"http://www.w3.org/2000/svg\" height=\"24px\"viewBox=\"0 0 24 24\"\n",
              "       width=\"24px\">\n",
              "    <path d=\"M0 0h24v24H0V0z\" fill=\"none\"/>\n",
              "    <path d=\"M18.56 5.44l.94 2.06.94-2.06 2.06-.94-2.06-.94-.94-2.06-.94 2.06-2.06.94zm-11 1L8.5 8.5l.94-2.06 2.06-.94-2.06-.94L8.5 2.5l-.94 2.06-2.06.94zm10 10l.94 2.06.94-2.06 2.06-.94-2.06-.94-.94-2.06-.94 2.06-2.06.94z\"/><path d=\"M17.41 7.96l-1.37-1.37c-.4-.4-.92-.59-1.43-.59-.52 0-1.04.2-1.43.59L10.3 9.45l-7.72 7.72c-.78.78-.78 2.05 0 2.83L4 21.41c.39.39.9.59 1.41.59.51 0 1.02-.2 1.41-.59l7.78-7.78 2.81-2.81c.8-.78.8-2.07 0-2.86zM5.41 20L4 18.59l7.72-7.72 1.47 1.35L5.41 20z\"/>\n",
              "  </svg>\n",
              "      </button>\n",
              "      \n",
              "  <style>\n",
              "    .colab-df-container {\n",
              "      display:flex;\n",
              "      flex-wrap:wrap;\n",
              "      gap: 12px;\n",
              "    }\n",
              "\n",
              "    .colab-df-convert {\n",
              "      background-color: #E8F0FE;\n",
              "      border: none;\n",
              "      border-radius: 50%;\n",
              "      cursor: pointer;\n",
              "      display: none;\n",
              "      fill: #1967D2;\n",
              "      height: 32px;\n",
              "      padding: 0 0 0 0;\n",
              "      width: 32px;\n",
              "    }\n",
              "\n",
              "    .colab-df-convert:hover {\n",
              "      background-color: #E2EBFA;\n",
              "      box-shadow: 0px 1px 2px rgba(60, 64, 67, 0.3), 0px 1px 3px 1px rgba(60, 64, 67, 0.15);\n",
              "      fill: #174EA6;\n",
              "    }\n",
              "\n",
              "    [theme=dark] .colab-df-convert {\n",
              "      background-color: #3B4455;\n",
              "      fill: #D2E3FC;\n",
              "    }\n",
              "\n",
              "    [theme=dark] .colab-df-convert:hover {\n",
              "      background-color: #434B5C;\n",
              "      box-shadow: 0px 1px 3px 1px rgba(0, 0, 0, 0.15);\n",
              "      filter: drop-shadow(0px 1px 2px rgba(0, 0, 0, 0.3));\n",
              "      fill: #FFFFFF;\n",
              "    }\n",
              "  </style>\n",
              "\n",
              "      <script>\n",
              "        const buttonEl =\n",
              "          document.querySelector('#df-bcf599ee-634f-4ce7-b1b0-c532e3909f3e button.colab-df-convert');\n",
              "        buttonEl.style.display =\n",
              "          google.colab.kernel.accessAllowed ? 'block' : 'none';\n",
              "\n",
              "        async function convertToInteractive(key) {\n",
              "          const element = document.querySelector('#df-bcf599ee-634f-4ce7-b1b0-c532e3909f3e');\n",
              "          const dataTable =\n",
              "            await google.colab.kernel.invokeFunction('convertToInteractive',\n",
              "                                                     [key], {});\n",
              "          if (!dataTable) return;\n",
              "\n",
              "          const docLinkHtml = 'Like what you see? Visit the ' +\n",
              "            '<a target=\"_blank\" href=https://colab.research.google.com/notebooks/data_table.ipynb>data table notebook</a>'\n",
              "            + ' to learn more about interactive tables.';\n",
              "          element.innerHTML = '';\n",
              "          dataTable['output_type'] = 'display_data';\n",
              "          await google.colab.output.renderOutput(dataTable, element);\n",
              "          const docLink = document.createElement('div');\n",
              "          docLink.innerHTML = docLinkHtml;\n",
              "          element.appendChild(docLink);\n",
              "        }\n",
              "      </script>\n",
              "    </div>\n",
              "  </div>\n",
              "  "
            ]
          },
          "metadata": {},
          "execution_count": 76
        }
      ]
    },
    {
      "cell_type": "code",
      "source": [
        "df.count()"
      ],
      "metadata": {
        "colab": {
          "base_uri": "https://localhost:8080/"
        },
        "id": "2Iuqk_xspNYs",
        "outputId": "42d20e3d-9373-43a9-8c7d-4699f145abe6"
      },
      "execution_count": null,
      "outputs": [
        {
          "output_type": "execute_result",
          "data": {
            "text/plain": [
              "transaction_descriptor    300\n",
              "store_number              300\n",
              "dataset                   300\n",
              "dtype: int64"
            ]
          },
          "metadata": {},
          "execution_count": 5
        }
      ]
    },
    {
      "cell_type": "code",
      "source": [
        "df.isnull().sum()"
      ],
      "metadata": {
        "id": "l_E62lP0AEFS",
        "outputId": "5590d7ca-c010-40af-80dd-01ebe9adbae6",
        "colab": {
          "base_uri": "https://localhost:8080/"
        }
      },
      "execution_count": 35,
      "outputs": [
        {
          "output_type": "execute_result",
          "data": {
            "text/plain": [
              "transaction_descriptor    0\n",
              "store_number              0\n",
              "dataset                   0\n",
              "dtype: int64"
            ]
          },
          "metadata": {},
          "execution_count": 35
        }
      ]
    },
    {
      "cell_type": "code",
      "source": [
        "df[df.duplicated(keep=False)]"
      ],
      "metadata": {
        "id": "XWvwS2UeAun3",
        "outputId": "ac516091-193a-4849-c81e-da275194674b",
        "colab": {
          "base_uri": "https://localhost:8080/",
          "height": 49
        }
      },
      "execution_count": 37,
      "outputs": [
        {
          "output_type": "execute_result",
          "data": {
            "text/plain": [
              "Empty DataFrame\n",
              "Columns: [transaction_descriptor, store_number, dataset]\n",
              "Index: []"
            ],
            "text/html": [
              "\n",
              "  <div id=\"df-7fdeac81-5ebb-494f-9f9b-62277a55ea85\">\n",
              "    <div class=\"colab-df-container\">\n",
              "      <div>\n",
              "<style scoped>\n",
              "    .dataframe tbody tr th:only-of-type {\n",
              "        vertical-align: middle;\n",
              "    }\n",
              "\n",
              "    .dataframe tbody tr th {\n",
              "        vertical-align: top;\n",
              "    }\n",
              "\n",
              "    .dataframe thead th {\n",
              "        text-align: right;\n",
              "    }\n",
              "</style>\n",
              "<table border=\"1\" class=\"dataframe\">\n",
              "  <thead>\n",
              "    <tr style=\"text-align: right;\">\n",
              "      <th></th>\n",
              "      <th>transaction_descriptor</th>\n",
              "      <th>store_number</th>\n",
              "      <th>dataset</th>\n",
              "    </tr>\n",
              "  </thead>\n",
              "  <tbody>\n",
              "  </tbody>\n",
              "</table>\n",
              "</div>\n",
              "      <button class=\"colab-df-convert\" onclick=\"convertToInteractive('df-7fdeac81-5ebb-494f-9f9b-62277a55ea85')\"\n",
              "              title=\"Convert this dataframe to an interactive table.\"\n",
              "              style=\"display:none;\">\n",
              "        \n",
              "  <svg xmlns=\"http://www.w3.org/2000/svg\" height=\"24px\"viewBox=\"0 0 24 24\"\n",
              "       width=\"24px\">\n",
              "    <path d=\"M0 0h24v24H0V0z\" fill=\"none\"/>\n",
              "    <path d=\"M18.56 5.44l.94 2.06.94-2.06 2.06-.94-2.06-.94-.94-2.06-.94 2.06-2.06.94zm-11 1L8.5 8.5l.94-2.06 2.06-.94-2.06-.94L8.5 2.5l-.94 2.06-2.06.94zm10 10l.94 2.06.94-2.06 2.06-.94-2.06-.94-.94-2.06-.94 2.06-2.06.94z\"/><path d=\"M17.41 7.96l-1.37-1.37c-.4-.4-.92-.59-1.43-.59-.52 0-1.04.2-1.43.59L10.3 9.45l-7.72 7.72c-.78.78-.78 2.05 0 2.83L4 21.41c.39.39.9.59 1.41.59.51 0 1.02-.2 1.41-.59l7.78-7.78 2.81-2.81c.8-.78.8-2.07 0-2.86zM5.41 20L4 18.59l7.72-7.72 1.47 1.35L5.41 20z\"/>\n",
              "  </svg>\n",
              "      </button>\n",
              "      \n",
              "  <style>\n",
              "    .colab-df-container {\n",
              "      display:flex;\n",
              "      flex-wrap:wrap;\n",
              "      gap: 12px;\n",
              "    }\n",
              "\n",
              "    .colab-df-convert {\n",
              "      background-color: #E8F0FE;\n",
              "      border: none;\n",
              "      border-radius: 50%;\n",
              "      cursor: pointer;\n",
              "      display: none;\n",
              "      fill: #1967D2;\n",
              "      height: 32px;\n",
              "      padding: 0 0 0 0;\n",
              "      width: 32px;\n",
              "    }\n",
              "\n",
              "    .colab-df-convert:hover {\n",
              "      background-color: #E2EBFA;\n",
              "      box-shadow: 0px 1px 2px rgba(60, 64, 67, 0.3), 0px 1px 3px 1px rgba(60, 64, 67, 0.15);\n",
              "      fill: #174EA6;\n",
              "    }\n",
              "\n",
              "    [theme=dark] .colab-df-convert {\n",
              "      background-color: #3B4455;\n",
              "      fill: #D2E3FC;\n",
              "    }\n",
              "\n",
              "    [theme=dark] .colab-df-convert:hover {\n",
              "      background-color: #434B5C;\n",
              "      box-shadow: 0px 1px 3px 1px rgba(0, 0, 0, 0.15);\n",
              "      filter: drop-shadow(0px 1px 2px rgba(0, 0, 0, 0.3));\n",
              "      fill: #FFFFFF;\n",
              "    }\n",
              "  </style>\n",
              "\n",
              "      <script>\n",
              "        const buttonEl =\n",
              "          document.querySelector('#df-7fdeac81-5ebb-494f-9f9b-62277a55ea85 button.colab-df-convert');\n",
              "        buttonEl.style.display =\n",
              "          google.colab.kernel.accessAllowed ? 'block' : 'none';\n",
              "\n",
              "        async function convertToInteractive(key) {\n",
              "          const element = document.querySelector('#df-7fdeac81-5ebb-494f-9f9b-62277a55ea85');\n",
              "          const dataTable =\n",
              "            await google.colab.kernel.invokeFunction('convertToInteractive',\n",
              "                                                     [key], {});\n",
              "          if (!dataTable) return;\n",
              "\n",
              "          const docLinkHtml = 'Like what you see? Visit the ' +\n",
              "            '<a target=\"_blank\" href=https://colab.research.google.com/notebooks/data_table.ipynb>data table notebook</a>'\n",
              "            + ' to learn more about interactive tables.';\n",
              "          element.innerHTML = '';\n",
              "          dataTable['output_type'] = 'display_data';\n",
              "          await google.colab.output.renderOutput(dataTable, element);\n",
              "          const docLink = document.createElement('div');\n",
              "          docLink.innerHTML = docLinkHtml;\n",
              "          element.appendChild(docLink);\n",
              "        }\n",
              "      </script>\n",
              "    </div>\n",
              "  </div>\n",
              "  "
            ]
          },
          "metadata": {},
          "execution_count": 37
        }
      ]
    },
    {
      "cell_type": "code",
      "source": [
        "df.nunique()"
      ],
      "metadata": {
        "id": "HeZOuATuBZxv",
        "outputId": "bb7fbeb7-3452-41d2-9b5c-f76e326599b5",
        "colab": {
          "base_uri": "https://localhost:8080/"
        }
      },
      "execution_count": 39,
      "outputs": [
        {
          "output_type": "execute_result",
          "data": {
            "text/plain": [
              "transaction_descriptor    300\n",
              "store_number              293\n",
              "dataset                     3\n",
              "dtype: int64"
            ]
          },
          "metadata": {},
          "execution_count": 39
        }
      ]
    },
    {
      "cell_type": "markdown",
      "source": [
        "# Step 03. Splitting data for training and testing purpose\n",
        "Here we have only 200 data for training and 100 data for testing"
      ],
      "metadata": {
        "id": "EOT6-yiv-4Zo"
      }
    },
    {
      "cell_type": "code",
      "source": [
        "train_df = df.loc[df['dataset'].isin(['train', 'validation'])]\n",
        "test_df = df.loc[df['dataset'] == 'test']\n",
        "\n",
        "print(train_df.shape)\n",
        "print(test_df.shape)"
      ],
      "metadata": {
        "colab": {
          "base_uri": "https://localhost:8080/"
        },
        "id": "Snba63i98I8K",
        "outputId": "e2fe366f-299b-401d-89ec-c0f1adfd4174"
      },
      "execution_count": 40,
      "outputs": [
        {
          "output_type": "stream",
          "name": "stdout",
          "text": [
            "(200, 3)\n",
            "(100, 3)\n"
          ]
        }
      ]
    },
    {
      "cell_type": "markdown",
      "source": [
        "# Step 04. Loading spaCy for custom training model\n",
        "I am using spaCy, a free open-source library for Natural Language Processing in Python. Utilizing the Named Entity Recognition (NER) pipeline to predict *store number* from the text."
      ],
      "metadata": {
        "id": "RC5wbRXH-5v1"
      }
    },
    {
      "cell_type": "code",
      "source": [
        "# loads en_core_web_sm,an English pipeline trained on text that includes vocabulary, syntax and entities.\n",
        "nlp0 = spacy.load('en_core_web_sm') \n",
        "\n",
        "#shows all available pipelines\n",
        "nlp0.pipe_names"
      ],
      "metadata": {
        "id": "R8Td3Qb-mSF0"
      },
      "execution_count": 18,
      "outputs": []
    },
    {
      "cell_type": "code",
      "source": [
        "#getting NER pipeline\n",
        "ner0 = nlp0.get_pipe('ner')"
      ],
      "metadata": {
        "id": "P1NyVv1GDmSA"
      },
      "execution_count": 41,
      "outputs": []
    },
    {
      "cell_type": "markdown",
      "source": [
        "# Step 05. Data formating for spaCy\n",
        "Here we format our data as required by spaCy. You can find more information here: https://spacy.io/api/data-formats\n",
        "\n",
        "In simple words, the train data is nothing but a list of tuples containing four attributes:\n",
        "\n",
        "\n",
        "*   Sentence/ keyword\n",
        "\n",
        "*   Start of the word for which custom entity is defined\n",
        "*   End of the same word for which the custom entity is defined\n",
        "\n",
        "\n",
        "*   The custom Label\n",
        "\n",
        "\n",
        "\n",
        "\n",
        "\n",
        "\n"
      ],
      "metadata": {
        "id": "v4ImTf1q-6jS"
      }
    },
    {
      "cell_type": "code",
      "source": [
        "# takes a text and label and format the in tuple\n",
        "def format_data(text,label):\n",
        "    start = text.find(label)\n",
        "    end = len(label) + start\n",
        "    entity = (start,end,'number')\n",
        "    entities = []\n",
        "    ent_dict = {}\n",
        "    entities.append(entity)\n",
        "    ent_dict['entities'] = entities\n",
        "    #text = text.replace(\" \", \"0\")\n",
        "    train_item = (text, ent_dict)\n",
        "    return train_item"
      ],
      "metadata": {
        "id": "S0l_hB2hCo3Q"
      },
      "execution_count": 21,
      "outputs": []
    },
    {
      "cell_type": "markdown",
      "source": [
        "# Step 06. Using format_data function for splitting dataset"
      ],
      "metadata": {
        "id": "Gik5x9R9-7qi"
      }
    },
    {
      "cell_type": "code",
      "source": [
        "TRAIN_DATA = []\n",
        "TEST_DATA = []\n",
        "\n",
        "# Formatting training data\n",
        "for _, item in train_df.iterrows():\n",
        "    train_item = format_data(item['transaction_descriptor'],item['store_number'])\n",
        "    TRAIN_DATA.append(train_item)\n",
        "print(len(TRAIN_DATA))\n",
        "\n",
        "# Formatting testing data\n",
        "for _, item in test_df.iterrows():\n",
        "    test_item = format_data(item['transaction_descriptor'],item['store_number'])\n",
        "    TEST_DATA.append(test_item)\n",
        "print(len(TEST_DATA))\n"
      ],
      "metadata": {
        "id": "VIutIX9HDHDI",
        "outputId": "1fd73164-a6a1-4dec-c15d-f275107b8968",
        "colab": {
          "base_uri": "https://localhost:8080/"
        }
      },
      "execution_count": 22,
      "outputs": [
        {
          "output_type": "stream",
          "name": "stdout",
          "text": [
            "200\n",
            "100\n"
          ]
        }
      ]
    },
    {
      "cell_type": "markdown",
      "source": [
        "# Step 07. Training loop for NER\n",
        "Here, first we create a NLP model object and add NER to it.\n",
        "Then we add our custom label '*store_number*'. Next we make batches of data and update NLP model using dropout. Also we keep a copy of the best model per itereation. "
      ],
      "metadata": {
        "id": "lXceSMKn-8Y9"
      }
    },
    {
      "cell_type": "code",
      "source": [
        "def train_ner(training_data,n_iter = 50):\n",
        "    \"\"\"Steps\n",
        "    Create a Blank NLP  model object\n",
        "    Create and add NER to the NLP model\n",
        "    Add Labels from your training data\n",
        "    Train  \n",
        "    \"\"\"\n",
        "    best = math.inf\n",
        "    TRAIN_DATA = training_data\n",
        "    nlp = spacy.blank(\"en\")  # create blank Language class\n",
        "    \n",
        "    if \"ner\" not in nlp.pipe_names:\n",
        "        ner = nlp.create_pipe(\"ner\")\n",
        "        nlp.add_pipe(ner, last=True)\n",
        "    # otherwise, get it so we can add labels\n",
        "    else:\n",
        "        ner = nlp.get_pipe(\"ner\")\n",
        "        \n",
        "    # add labels\n",
        "    for _, annotations in TRAIN_DATA:\n",
        "        for ent in annotations.get(\"entities\"):\n",
        "            ner.add_label(ent[2])\n",
        "\n",
        "    disable_pipes = [pipe for pipe in nlp.pipe_names if pipe != 'ner']\n",
        "\n",
        "    with nlp.disable_pipes(*disable_pipes):\n",
        "        optimizer = nlp.resume_training()\n",
        "\n",
        "    nlp.begin_training()\n",
        "    for itn in tqdm(range(n_iter)):\n",
        "        random.shuffle(TRAIN_DATA)\n",
        "        losses = {}\n",
        "        # batch up the examples using spaCy's minibatch\n",
        "        batches = minibatch(TRAIN_DATA)\n",
        "        for batch in batches:\n",
        "            texts, annotations = zip(*batch)\n",
        "            nlp.update(\n",
        "                texts,  # batch of texts\n",
        "                annotations,  # batch of annotations\n",
        "                drop=0.5,  # dropout - make it harder to memorise data\n",
        "                losses=losses,\n",
        "                sgd=optimizer\n",
        "            )\n",
        "        if losses['ner'] < best:\n",
        "            best = losses['ner']\n",
        "            best_nlp = copy.deepcopy(nlp)\n",
        "            print('Best Loss:',losses)\n",
        "    return best_nlp"
      ],
      "metadata": {
        "id": "GLKaqaQVpE9i"
      },
      "execution_count": 23,
      "outputs": []
    },
    {
      "cell_type": "markdown",
      "source": [
        "# Step 08. Train model on custom data"
      ],
      "metadata": {
        "id": "uTYjpuoC-9Rp"
      }
    },
    {
      "cell_type": "code",
      "source": [
        "nlp2 = train_ner(TRAIN_DATA,100)"
      ],
      "metadata": {
        "colab": {
          "base_uri": "https://localhost:8080/",
          "height": 1000,
          "referenced_widgets": [
            "935168e432c84bb0abef10f0731de5db",
            "95a264154d1b447ca64f7043c08e1150",
            "9008377619da4bb6961754f61bd62654",
            "86b12245a1604935bc1dad6a98b6fe99",
            "0c853e153d2144d394a31c40242a7d97",
            "47c74ee9e7f84c3b896969cc6da92e23",
            "86cfc2583606489683729cc4ba683680",
            "4b8e31ef7075482d852f1e5b1f0266d1",
            "3fd748a4b5fa44a985d2824a4e87e105",
            "6212cc59afff41159a563db4746e18c4",
            "b71b4b8f9e134771a9bc1d2a500ac634"
          ]
        },
        "id": "0BckD4NUqDiM",
        "outputId": "35659240-c800-4050-d7b6-c0f617006575"
      },
      "execution_count": 24,
      "outputs": [
        {
          "output_type": "display_data",
          "data": {
            "text/plain": [
              "  0%|          | 0/50 [00:00<?, ?it/s]"
            ],
            "application/vnd.jupyter.widget-view+json": {
              "version_major": 2,
              "version_minor": 0,
              "model_id": "935168e432c84bb0abef10f0731de5db"
            }
          },
          "metadata": {}
        },
        {
          "output_type": "stream",
          "name": "stdout",
          "text": [
            "Losses {'ner': 329.6001978497952}\n",
            "best changed\n",
            "Losses {'ner': 124.40871342876926}\n",
            "best changed\n",
            "Losses {'ner': 42.934918562746795}\n",
            "best changed\n",
            "Losses {'ner': 34.99103732044751}\n",
            "best changed\n",
            "Losses {'ner': 10.175014131357829}\n",
            "best changed\n",
            "Losses {'ner': 5.6907935066856465}\n",
            "best changed\n",
            "Losses {'ner': 4.791624868742698}\n",
            "best changed\n",
            "Losses {'ner': 10.184309617981796}\n",
            "Losses {'ner': 2.7336733734545127}\n",
            "best changed\n",
            "Losses {'ner': 3.9543982567469893}\n",
            "Losses {'ner': 3.4535784476481686}\n",
            "Losses {'ner': 0.019378743579666197}\n",
            "best changed\n",
            "Losses {'ner': 0.0014654791734449793}\n",
            "best changed\n",
            "Losses {'ner': 2.9019178543556703}\n",
            "Losses {'ner': 0.12419026911953081}\n",
            "Losses {'ner': 0.012667981784464813}\n",
            "Losses {'ner': 1.6062353967577658}\n",
            "Losses {'ner': 0.0003145087206554048}\n",
            "best changed\n",
            "Losses {'ner': 3.5942713140312796}\n",
            "Losses {'ner': 0.017016569538959275}\n",
            "Losses {'ner': 1.9997544675155814}\n",
            "Losses {'ner': 3.8978177176920776}\n",
            "Losses {'ner': 3.080881087518811}\n",
            "Losses {'ner': 0.00035707457815120955}\n",
            "Losses {'ner': 0.06691154445065882}\n",
            "Losses {'ner': 0.005024262024776411}\n",
            "Losses {'ner': 1.3569545420151978}\n",
            "Losses {'ner': 0.3495308916955282}\n",
            "Losses {'ner': 0.02350337424585741}\n",
            "Losses {'ner': 3.533654245849615}\n",
            "Losses {'ner': 2.656638873219151}\n",
            "Losses {'ner': 0.00010738838886179886}\n",
            "best changed\n",
            "Losses {'ner': 3.440082642823031e-08}\n",
            "best changed\n",
            "Losses {'ner': 1.9248662846026017}\n",
            "Losses {'ner': 2.0604204103867534e-07}\n",
            "Losses {'ner': 4.312730375194052}\n",
            "Losses {'ner': 1.4005482320679075}\n",
            "Losses {'ner': 2.4180502083758597}\n",
            "Losses {'ner': 0.0022261035636909417}\n",
            "Losses {'ner': 0.2428641091810967}\n",
            "Losses {'ner': 2.9948503431012996e-08}\n",
            "best changed\n",
            "Losses {'ner': 0.1923543928442723}\n",
            "Losses {'ner': 1.2225329008884716e-07}\n",
            "Losses {'ner': 3.267931376488365e-07}\n",
            "Losses {'ner': 0.0009293297946591962}\n",
            "Losses {'ner': 0.5652618591909082}\n",
            "Losses {'ner': 1.9943426155572588}\n",
            "Losses {'ner': 0.04752620199510128}\n",
            "Losses {'ner': 6.6205331265418025e-09}\n",
            "best changed\n",
            "Losses {'ner': 0.00017589088560971233}\n",
            "CPU times: user 50.2 s, sys: 818 ms, total: 51 s\n",
            "Wall time: 57.3 s\n"
          ]
        }
      ]
    },
    {
      "cell_type": "markdown",
      "source": [
        "# Step 09. Checking Accuracy on Test Dataset\n"
      ],
      "metadata": {
        "id": "gHmkdSUD-_q6"
      }
    },
    {
      "cell_type": "code",
      "source": [
        "#checking how many were good\n",
        "count = 0\n",
        "ok = []\n",
        "for index, row in test_df.iterrows():\n",
        "\n",
        "    docx2 = nlp2(row['transaction_descriptor'])\n",
        "    try:   \n",
        "        if str(docx2.ents[0]).lstrip('0') == str(row['store_number']):\n",
        "            count+=1\n",
        "            ok.append(index)   \n",
        "    except:\n",
        "        continue\n",
        "print('Accuracy on test dataset: ',count/len(test_df))"
      ],
      "metadata": {
        "colab": {
          "base_uri": "https://localhost:8080/"
        },
        "id": "MylIIRBevFew",
        "outputId": "bddafd1d-3788-48fc-9835-8255813f70fe"
      },
      "execution_count": 43,
      "outputs": [
        {
          "output_type": "stream",
          "name": "stdout",
          "text": [
            "Accuracy on test dataset:  0.84\n"
          ]
        }
      ]
    },
    {
      "cell_type": "markdown",
      "source": [
        "# Step 10. Issues and Visualizing Wrong Predictions\n",
        "Here we check for data that we could not predict or the model did not find any custom entity on the data\n"
      ],
      "metadata": {
        "id": "wvWMfC1x_D9N"
      }
    },
    {
      "cell_type": "code",
      "source": [
        "#checking issues\n",
        "\n",
        "count = 0\n",
        "print('{0: <50}'.format('Text'),'{0: <15}'.format('store_number'),'{0: <15}'.format('Prediction') )\n",
        "print('='*100)\n",
        "for index, row in test_df.iterrows():\n",
        "    if index not in ok:\n",
        "        docx2 = nlp2(row['transaction_descriptor'])\n",
        "        try:\n",
        "            result = str(docx2.ents[0])\n",
        "        except:\n",
        "            # when model could not find any entity\n",
        "            result = 'NONE'\n",
        "        result = result.lstrip('0')\n",
        "        print('{0: <50}'.format(str(row['transaction_descriptor']) ),'{0: <15}'.format(str(row['store_number'])),'{0: <15}'.format(result) )\n",
        "        \n",
        "        count += 1\n",
        "print('\\nTotal Wrong prediction in Testing dataset: ',count)\n",
        " "
      ],
      "metadata": {
        "colab": {
          "base_uri": "https://localhost:8080/"
        },
        "id": "2s7jqdi-yZIP",
        "outputId": "35d91719-f7f5-4e2e-c6e6-690e4dbf6513"
      },
      "execution_count": 62,
      "outputs": [
        {
          "output_type": "stream",
          "name": "stdout",
          "text": [
            "Text                                               store_number    Prediction     \n",
            "====================================================================================================\n",
            "BP#9442088LIBERTYVILLE B                           9442088         NONE           \n",
            "LBOUTLETS#4249 1475 N BUR                          4249            NONE           \n",
            "BP#8644346ES #30 B96                               8644346         30             \n",
            "NNT POLO/RL WRENTHA130571                          13057           NONE           \n",
            "NNT SEARS HOMETOWN 862751                          8627            862751         \n",
            "NAVY EXCHANGE 050161 0003                          50161           NONE           \n",
            "NNT FAMOUS FOOTWEAR001261                          1261            NONE           \n",
            "EXPRESS#0813                                       813             NONE           \n",
            "SUNOCO 039962380                                   39962380        NONE           \n",
            "SUNOCO 0837208800        STATEN ISLANDNY           837208800       NONE           \n",
            "NNT FAMOUS FOOTWEAR730376                          730376          NONE           \n",
            "MARATHON PETRO170928   MIAMI                       170928          NONE           \n",
            "NNT FAMOUSFOOTWEAR#132427                          132427          NONE           \n",
            "BP#1003300DANADA SQUS                              1003300         NONE           \n",
            "SUBWAY        00032128                             3212            32128          \n",
            "TEXACO 00303733                                    303733          NONE           \n",
            "\n",
            "Total Wrong prediction in Testing dataset:  16\n"
          ]
        }
      ]
    },
    {
      "cell_type": "markdown",
      "source": [
        "# Result Analysis and Comments\n",
        "We can see that the model did not do a good job of predicting subtext store number in this case.\n",
        "One of the reason I can assume that the tokenization works in a word level. When taking raw text and tokenizing it, the data model could only recognize word tokens and not subtext. We can also see that it was predicting the wrong store number in some cases. Assuming that our custom dataset of only 200 training data hampered the model's ability to generalize well."
      ],
      "metadata": {
        "id": "arkqLG3HLGSd"
      }
    },
    {
      "cell_type": "code",
      "source": [
        ""
      ],
      "metadata": {
        "id": "nMnTT8X3NAVU"
      },
      "execution_count": null,
      "outputs": []
    }
  ]
}