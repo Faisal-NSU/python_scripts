{
  "nbformat": 4,
  "nbformat_minor": 0,
  "metadata": {
    "colab": {
      "name": "new approach.ipynb",
      "provenance": [],
      "collapsed_sections": [],
      "authorship_tag": "ABX9TyOnoxxZIE+IG8lLTvEuPWBU",
      "include_colab_link": true
    },
    "kernelspec": {
      "name": "python3",
      "display_name": "Python 3"
    },
    "language_info": {
      "name": "python"
    },
    "widgets": {
      "application/vnd.jupyter.widget-state+json": {
        "351b0abc3e4744328a0bcde4d51a4ef1": {
          "model_module": "@jupyter-widgets/controls",
          "model_name": "HBoxModel",
          "model_module_version": "1.5.0",
          "state": {
            "_dom_classes": [],
            "_model_module": "@jupyter-widgets/controls",
            "_model_module_version": "1.5.0",
            "_model_name": "HBoxModel",
            "_view_count": null,
            "_view_module": "@jupyter-widgets/controls",
            "_view_module_version": "1.5.0",
            "_view_name": "HBoxView",
            "box_style": "",
            "children": [
              "IPY_MODEL_875ee5fef74d40ce8134326a638c65ae",
              "IPY_MODEL_11d2bfeba7d944159b28464ef06f4f50",
              "IPY_MODEL_ac8a4e5c6e394e5e85d6927f3ae5073d"
            ],
            "layout": "IPY_MODEL_f101d12fd8cc40b1bf8a8379ee6790d3"
          }
        },
        "875ee5fef74d40ce8134326a638c65ae": {
          "model_module": "@jupyter-widgets/controls",
          "model_name": "HTMLModel",
          "model_module_version": "1.5.0",
          "state": {
            "_dom_classes": [],
            "_model_module": "@jupyter-widgets/controls",
            "_model_module_version": "1.5.0",
            "_model_name": "HTMLModel",
            "_view_count": null,
            "_view_module": "@jupyter-widgets/controls",
            "_view_module_version": "1.5.0",
            "_view_name": "HTMLView",
            "description": "",
            "description_tooltip": null,
            "layout": "IPY_MODEL_5855fdb395804da2a5c9e22edb4d0365",
            "placeholder": "​",
            "style": "IPY_MODEL_480130b44d684908a1b22fd4f0bfad65",
            "value": "100%"
          }
        },
        "11d2bfeba7d944159b28464ef06f4f50": {
          "model_module": "@jupyter-widgets/controls",
          "model_name": "FloatProgressModel",
          "model_module_version": "1.5.0",
          "state": {
            "_dom_classes": [],
            "_model_module": "@jupyter-widgets/controls",
            "_model_module_version": "1.5.0",
            "_model_name": "FloatProgressModel",
            "_view_count": null,
            "_view_module": "@jupyter-widgets/controls",
            "_view_module_version": "1.5.0",
            "_view_name": "ProgressView",
            "bar_style": "success",
            "description": "",
            "description_tooltip": null,
            "layout": "IPY_MODEL_daa39cd1623e42a582257ebc5201e0e8",
            "max": 100,
            "min": 0,
            "orientation": "horizontal",
            "style": "IPY_MODEL_b860edee6f81467bad47753ab9b25cc1",
            "value": 100
          }
        },
        "ac8a4e5c6e394e5e85d6927f3ae5073d": {
          "model_module": "@jupyter-widgets/controls",
          "model_name": "HTMLModel",
          "model_module_version": "1.5.0",
          "state": {
            "_dom_classes": [],
            "_model_module": "@jupyter-widgets/controls",
            "_model_module_version": "1.5.0",
            "_model_name": "HTMLModel",
            "_view_count": null,
            "_view_module": "@jupyter-widgets/controls",
            "_view_module_version": "1.5.0",
            "_view_name": "HTMLView",
            "description": "",
            "description_tooltip": null,
            "layout": "IPY_MODEL_1b79ea0d0d30407ab7cbba51b7da929d",
            "placeholder": "​",
            "style": "IPY_MODEL_d792b290919b4dedb3ac7fb95a6d59cd",
            "value": " 100/100 [02:37&lt;00:00,  1.74s/it]"
          }
        },
        "f101d12fd8cc40b1bf8a8379ee6790d3": {
          "model_module": "@jupyter-widgets/base",
          "model_name": "LayoutModel",
          "model_module_version": "1.2.0",
          "state": {
            "_model_module": "@jupyter-widgets/base",
            "_model_module_version": "1.2.0",
            "_model_name": "LayoutModel",
            "_view_count": null,
            "_view_module": "@jupyter-widgets/base",
            "_view_module_version": "1.2.0",
            "_view_name": "LayoutView",
            "align_content": null,
            "align_items": null,
            "align_self": null,
            "border": null,
            "bottom": null,
            "display": null,
            "flex": null,
            "flex_flow": null,
            "grid_area": null,
            "grid_auto_columns": null,
            "grid_auto_flow": null,
            "grid_auto_rows": null,
            "grid_column": null,
            "grid_gap": null,
            "grid_row": null,
            "grid_template_areas": null,
            "grid_template_columns": null,
            "grid_template_rows": null,
            "height": null,
            "justify_content": null,
            "justify_items": null,
            "left": null,
            "margin": null,
            "max_height": null,
            "max_width": null,
            "min_height": null,
            "min_width": null,
            "object_fit": null,
            "object_position": null,
            "order": null,
            "overflow": null,
            "overflow_x": null,
            "overflow_y": null,
            "padding": null,
            "right": null,
            "top": null,
            "visibility": null,
            "width": null
          }
        },
        "5855fdb395804da2a5c9e22edb4d0365": {
          "model_module": "@jupyter-widgets/base",
          "model_name": "LayoutModel",
          "model_module_version": "1.2.0",
          "state": {
            "_model_module": "@jupyter-widgets/base",
            "_model_module_version": "1.2.0",
            "_model_name": "LayoutModel",
            "_view_count": null,
            "_view_module": "@jupyter-widgets/base",
            "_view_module_version": "1.2.0",
            "_view_name": "LayoutView",
            "align_content": null,
            "align_items": null,
            "align_self": null,
            "border": null,
            "bottom": null,
            "display": null,
            "flex": null,
            "flex_flow": null,
            "grid_area": null,
            "grid_auto_columns": null,
            "grid_auto_flow": null,
            "grid_auto_rows": null,
            "grid_column": null,
            "grid_gap": null,
            "grid_row": null,
            "grid_template_areas": null,
            "grid_template_columns": null,
            "grid_template_rows": null,
            "height": null,
            "justify_content": null,
            "justify_items": null,
            "left": null,
            "margin": null,
            "max_height": null,
            "max_width": null,
            "min_height": null,
            "min_width": null,
            "object_fit": null,
            "object_position": null,
            "order": null,
            "overflow": null,
            "overflow_x": null,
            "overflow_y": null,
            "padding": null,
            "right": null,
            "top": null,
            "visibility": null,
            "width": null
          }
        },
        "480130b44d684908a1b22fd4f0bfad65": {
          "model_module": "@jupyter-widgets/controls",
          "model_name": "DescriptionStyleModel",
          "model_module_version": "1.5.0",
          "state": {
            "_model_module": "@jupyter-widgets/controls",
            "_model_module_version": "1.5.0",
            "_model_name": "DescriptionStyleModel",
            "_view_count": null,
            "_view_module": "@jupyter-widgets/base",
            "_view_module_version": "1.2.0",
            "_view_name": "StyleView",
            "description_width": ""
          }
        },
        "daa39cd1623e42a582257ebc5201e0e8": {
          "model_module": "@jupyter-widgets/base",
          "model_name": "LayoutModel",
          "model_module_version": "1.2.0",
          "state": {
            "_model_module": "@jupyter-widgets/base",
            "_model_module_version": "1.2.0",
            "_model_name": "LayoutModel",
            "_view_count": null,
            "_view_module": "@jupyter-widgets/base",
            "_view_module_version": "1.2.0",
            "_view_name": "LayoutView",
            "align_content": null,
            "align_items": null,
            "align_self": null,
            "border": null,
            "bottom": null,
            "display": null,
            "flex": null,
            "flex_flow": null,
            "grid_area": null,
            "grid_auto_columns": null,
            "grid_auto_flow": null,
            "grid_auto_rows": null,
            "grid_column": null,
            "grid_gap": null,
            "grid_row": null,
            "grid_template_areas": null,
            "grid_template_columns": null,
            "grid_template_rows": null,
            "height": null,
            "justify_content": null,
            "justify_items": null,
            "left": null,
            "margin": null,
            "max_height": null,
            "max_width": null,
            "min_height": null,
            "min_width": null,
            "object_fit": null,
            "object_position": null,
            "order": null,
            "overflow": null,
            "overflow_x": null,
            "overflow_y": null,
            "padding": null,
            "right": null,
            "top": null,
            "visibility": null,
            "width": null
          }
        },
        "b860edee6f81467bad47753ab9b25cc1": {
          "model_module": "@jupyter-widgets/controls",
          "model_name": "ProgressStyleModel",
          "model_module_version": "1.5.0",
          "state": {
            "_model_module": "@jupyter-widgets/controls",
            "_model_module_version": "1.5.0",
            "_model_name": "ProgressStyleModel",
            "_view_count": null,
            "_view_module": "@jupyter-widgets/base",
            "_view_module_version": "1.2.0",
            "_view_name": "StyleView",
            "bar_color": null,
            "description_width": ""
          }
        },
        "1b79ea0d0d30407ab7cbba51b7da929d": {
          "model_module": "@jupyter-widgets/base",
          "model_name": "LayoutModel",
          "model_module_version": "1.2.0",
          "state": {
            "_model_module": "@jupyter-widgets/base",
            "_model_module_version": "1.2.0",
            "_model_name": "LayoutModel",
            "_view_count": null,
            "_view_module": "@jupyter-widgets/base",
            "_view_module_version": "1.2.0",
            "_view_name": "LayoutView",
            "align_content": null,
            "align_items": null,
            "align_self": null,
            "border": null,
            "bottom": null,
            "display": null,
            "flex": null,
            "flex_flow": null,
            "grid_area": null,
            "grid_auto_columns": null,
            "grid_auto_flow": null,
            "grid_auto_rows": null,
            "grid_column": null,
            "grid_gap": null,
            "grid_row": null,
            "grid_template_areas": null,
            "grid_template_columns": null,
            "grid_template_rows": null,
            "height": null,
            "justify_content": null,
            "justify_items": null,
            "left": null,
            "margin": null,
            "max_height": null,
            "max_width": null,
            "min_height": null,
            "min_width": null,
            "object_fit": null,
            "object_position": null,
            "order": null,
            "overflow": null,
            "overflow_x": null,
            "overflow_y": null,
            "padding": null,
            "right": null,
            "top": null,
            "visibility": null,
            "width": null
          }
        },
        "d792b290919b4dedb3ac7fb95a6d59cd": {
          "model_module": "@jupyter-widgets/controls",
          "model_name": "DescriptionStyleModel",
          "model_module_version": "1.5.0",
          "state": {
            "_model_module": "@jupyter-widgets/controls",
            "_model_module_version": "1.5.0",
            "_model_name": "DescriptionStyleModel",
            "_view_count": null,
            "_view_module": "@jupyter-widgets/base",
            "_view_module_version": "1.2.0",
            "_view_name": "StyleView",
            "description_width": ""
          }
        }
      }
    }
  },
  "cells": [
    {
      "cell_type": "markdown",
      "metadata": {
        "id": "view-in-github",
        "colab_type": "text"
      },
      "source": [
        "<a href=\"https://colab.research.google.com/github/faisalisafk/python_scripts/blob/main/Named_entity_custom_with_SPACY.ipynb\" target=\"_parent\"><img src=\"https://colab.research.google.com/assets/colab-badge.svg\" alt=\"Open In Colab\"/></a>"
      ]
    },
    {
      "cell_type": "code",
      "source": [
        "import pandas as pd\n",
        "import spacy\n",
        "from spacy import displacy\n",
        "from wordcloud import WordCloud, STOPWORDS\n",
        "from spacy.util import minibatch, compounding\n",
        "import pandas as pd\n",
        "import numpy as np  \n",
        "import matplotlib.pyplot as plt\n",
        "import re\n",
        "import random\n",
        "import math\n",
        "import copy\n",
        "from tqdm.notebook import tqdm\n",
        "random.seed(42)\n",
        "\n",
        "df = pd.read_csv('data.csv')"
      ],
      "metadata": {
        "id": "97sJ690qmGTm"
      },
      "execution_count": null,
      "outputs": []
    },
    {
      "cell_type": "code",
      "source": [
        "df"
      ],
      "metadata": {
        "colab": {
          "base_uri": "https://localhost:8080/",
          "height": 424
        },
        "id": "FFqHnxCvmpcc",
        "outputId": "0e798697-03ca-41c5-9cfd-8f16a6057eb9"
      },
      "execution_count": null,
      "outputs": [
        {
          "output_type": "execute_result",
          "data": {
            "text/plain": [
              "             transaction_descriptor store_number dataset\n",
              "0    DOLRTREE 2257 00022574 ROSWELL         2257   train\n",
              "1                    AUTOZONE #3547         3547   train\n",
              "2             TGI FRIDAYS 1485 0000         1485   train\n",
              "3            BUFFALO WILD WINGS 003            3   train\n",
              "4                    J. CREW #568 0          568   train\n",
              "..                              ...          ...     ...\n",
              "295                MCDONALD'S F2151        F2151    test\n",
              "296       NST BEST BUY #1403 332411         1403    test\n",
              "297             CVS/PHARMACY #06689         6689    test\n",
              "298           BANANA REPUBLIC #8109         8109    test\n",
              "299              BOSTON MARKET 0443          443    test\n",
              "\n",
              "[300 rows x 3 columns]"
            ],
            "text/html": [
              "\n",
              "  <div id=\"df-b8f168c1-260f-48b1-8850-f0b752564e7a\">\n",
              "    <div class=\"colab-df-container\">\n",
              "      <div>\n",
              "<style scoped>\n",
              "    .dataframe tbody tr th:only-of-type {\n",
              "        vertical-align: middle;\n",
              "    }\n",
              "\n",
              "    .dataframe tbody tr th {\n",
              "        vertical-align: top;\n",
              "    }\n",
              "\n",
              "    .dataframe thead th {\n",
              "        text-align: right;\n",
              "    }\n",
              "</style>\n",
              "<table border=\"1\" class=\"dataframe\">\n",
              "  <thead>\n",
              "    <tr style=\"text-align: right;\">\n",
              "      <th></th>\n",
              "      <th>transaction_descriptor</th>\n",
              "      <th>store_number</th>\n",
              "      <th>dataset</th>\n",
              "    </tr>\n",
              "  </thead>\n",
              "  <tbody>\n",
              "    <tr>\n",
              "      <th>0</th>\n",
              "      <td>DOLRTREE 2257 00022574 ROSWELL</td>\n",
              "      <td>2257</td>\n",
              "      <td>train</td>\n",
              "    </tr>\n",
              "    <tr>\n",
              "      <th>1</th>\n",
              "      <td>AUTOZONE #3547</td>\n",
              "      <td>3547</td>\n",
              "      <td>train</td>\n",
              "    </tr>\n",
              "    <tr>\n",
              "      <th>2</th>\n",
              "      <td>TGI FRIDAYS 1485 0000</td>\n",
              "      <td>1485</td>\n",
              "      <td>train</td>\n",
              "    </tr>\n",
              "    <tr>\n",
              "      <th>3</th>\n",
              "      <td>BUFFALO WILD WINGS 003</td>\n",
              "      <td>3</td>\n",
              "      <td>train</td>\n",
              "    </tr>\n",
              "    <tr>\n",
              "      <th>4</th>\n",
              "      <td>J. CREW #568 0</td>\n",
              "      <td>568</td>\n",
              "      <td>train</td>\n",
              "    </tr>\n",
              "    <tr>\n",
              "      <th>...</th>\n",
              "      <td>...</td>\n",
              "      <td>...</td>\n",
              "      <td>...</td>\n",
              "    </tr>\n",
              "    <tr>\n",
              "      <th>295</th>\n",
              "      <td>MCDONALD'S F2151</td>\n",
              "      <td>F2151</td>\n",
              "      <td>test</td>\n",
              "    </tr>\n",
              "    <tr>\n",
              "      <th>296</th>\n",
              "      <td>NST BEST BUY #1403 332411</td>\n",
              "      <td>1403</td>\n",
              "      <td>test</td>\n",
              "    </tr>\n",
              "    <tr>\n",
              "      <th>297</th>\n",
              "      <td>CVS/PHARMACY #06689</td>\n",
              "      <td>6689</td>\n",
              "      <td>test</td>\n",
              "    </tr>\n",
              "    <tr>\n",
              "      <th>298</th>\n",
              "      <td>BANANA REPUBLIC #8109</td>\n",
              "      <td>8109</td>\n",
              "      <td>test</td>\n",
              "    </tr>\n",
              "    <tr>\n",
              "      <th>299</th>\n",
              "      <td>BOSTON MARKET 0443</td>\n",
              "      <td>443</td>\n",
              "      <td>test</td>\n",
              "    </tr>\n",
              "  </tbody>\n",
              "</table>\n",
              "<p>300 rows × 3 columns</p>\n",
              "</div>\n",
              "      <button class=\"colab-df-convert\" onclick=\"convertToInteractive('df-b8f168c1-260f-48b1-8850-f0b752564e7a')\"\n",
              "              title=\"Convert this dataframe to an interactive table.\"\n",
              "              style=\"display:none;\">\n",
              "        \n",
              "  <svg xmlns=\"http://www.w3.org/2000/svg\" height=\"24px\"viewBox=\"0 0 24 24\"\n",
              "       width=\"24px\">\n",
              "    <path d=\"M0 0h24v24H0V0z\" fill=\"none\"/>\n",
              "    <path d=\"M18.56 5.44l.94 2.06.94-2.06 2.06-.94-2.06-.94-.94-2.06-.94 2.06-2.06.94zm-11 1L8.5 8.5l.94-2.06 2.06-.94-2.06-.94L8.5 2.5l-.94 2.06-2.06.94zm10 10l.94 2.06.94-2.06 2.06-.94-2.06-.94-.94-2.06-.94 2.06-2.06.94z\"/><path d=\"M17.41 7.96l-1.37-1.37c-.4-.4-.92-.59-1.43-.59-.52 0-1.04.2-1.43.59L10.3 9.45l-7.72 7.72c-.78.78-.78 2.05 0 2.83L4 21.41c.39.39.9.59 1.41.59.51 0 1.02-.2 1.41-.59l7.78-7.78 2.81-2.81c.8-.78.8-2.07 0-2.86zM5.41 20L4 18.59l7.72-7.72 1.47 1.35L5.41 20z\"/>\n",
              "  </svg>\n",
              "      </button>\n",
              "      \n",
              "  <style>\n",
              "    .colab-df-container {\n",
              "      display:flex;\n",
              "      flex-wrap:wrap;\n",
              "      gap: 12px;\n",
              "    }\n",
              "\n",
              "    .colab-df-convert {\n",
              "      background-color: #E8F0FE;\n",
              "      border: none;\n",
              "      border-radius: 50%;\n",
              "      cursor: pointer;\n",
              "      display: none;\n",
              "      fill: #1967D2;\n",
              "      height: 32px;\n",
              "      padding: 0 0 0 0;\n",
              "      width: 32px;\n",
              "    }\n",
              "\n",
              "    .colab-df-convert:hover {\n",
              "      background-color: #E2EBFA;\n",
              "      box-shadow: 0px 1px 2px rgba(60, 64, 67, 0.3), 0px 1px 3px 1px rgba(60, 64, 67, 0.15);\n",
              "      fill: #174EA6;\n",
              "    }\n",
              "\n",
              "    [theme=dark] .colab-df-convert {\n",
              "      background-color: #3B4455;\n",
              "      fill: #D2E3FC;\n",
              "    }\n",
              "\n",
              "    [theme=dark] .colab-df-convert:hover {\n",
              "      background-color: #434B5C;\n",
              "      box-shadow: 0px 1px 3px 1px rgba(0, 0, 0, 0.15);\n",
              "      filter: drop-shadow(0px 1px 2px rgba(0, 0, 0, 0.3));\n",
              "      fill: #FFFFFF;\n",
              "    }\n",
              "  </style>\n",
              "\n",
              "      <script>\n",
              "        const buttonEl =\n",
              "          document.querySelector('#df-b8f168c1-260f-48b1-8850-f0b752564e7a button.colab-df-convert');\n",
              "        buttonEl.style.display =\n",
              "          google.colab.kernel.accessAllowed ? 'block' : 'none';\n",
              "\n",
              "        async function convertToInteractive(key) {\n",
              "          const element = document.querySelector('#df-b8f168c1-260f-48b1-8850-f0b752564e7a');\n",
              "          const dataTable =\n",
              "            await google.colab.kernel.invokeFunction('convertToInteractive',\n",
              "                                                     [key], {});\n",
              "          if (!dataTable) return;\n",
              "\n",
              "          const docLinkHtml = 'Like what you see? Visit the ' +\n",
              "            '<a target=\"_blank\" href=https://colab.research.google.com/notebooks/data_table.ipynb>data table notebook</a>'\n",
              "            + ' to learn more about interactive tables.';\n",
              "          element.innerHTML = '';\n",
              "          dataTable['output_type'] = 'display_data';\n",
              "          await google.colab.output.renderOutput(dataTable, element);\n",
              "          const docLink = document.createElement('div');\n",
              "          docLink.innerHTML = docLinkHtml;\n",
              "          element.appendChild(docLink);\n",
              "        }\n",
              "      </script>\n",
              "    </div>\n",
              "  </div>\n",
              "  "
            ]
          },
          "metadata": {},
          "execution_count": 4
        }
      ]
    },
    {
      "cell_type": "code",
      "source": [
        "df.count()"
      ],
      "metadata": {
        "colab": {
          "base_uri": "https://localhost:8080/"
        },
        "id": "2Iuqk_xspNYs",
        "outputId": "42d20e3d-9373-43a9-8c7d-4699f145abe6"
      },
      "execution_count": null,
      "outputs": [
        {
          "output_type": "execute_result",
          "data": {
            "text/plain": [
              "transaction_descriptor    300\n",
              "store_number              300\n",
              "dataset                   300\n",
              "dtype: int64"
            ]
          },
          "metadata": {},
          "execution_count": 5
        }
      ]
    },
    {
      "cell_type": "code",
      "source": [
        "nlp0 = spacy.load('en_core_web_sm')"
      ],
      "metadata": {
        "id": "R8Td3Qb-mSF0"
      },
      "execution_count": null,
      "outputs": []
    },
    {
      "cell_type": "code",
      "source": [
        "nlp0.pipe_names"
      ],
      "metadata": {
        "colab": {
          "base_uri": "https://localhost:8080/"
        },
        "id": "tY2gUthFmrV5",
        "outputId": "e494fda0-2bc1-4fcc-908d-b74946fab4bd"
      },
      "execution_count": null,
      "outputs": [
        {
          "output_type": "execute_result",
          "data": {
            "text/plain": [
              "['tagger', 'parser', 'ner']"
            ]
          },
          "metadata": {},
          "execution_count": 7
        }
      ]
    },
    {
      "cell_type": "code",
      "source": [
        "ner0 = nlp0.get_pipe('ner')"
      ],
      "metadata": {
        "id": "Mz-MOKrlmu3O"
      },
      "execution_count": null,
      "outputs": []
    },
    {
      "cell_type": "code",
      "source": [
        "def do_it(text,sub):\n",
        "    start = text.find(sub)\n",
        "    end = len(sub) + start\n",
        "    entity = (start,end,'number')\n",
        "    entities = []\n",
        "    ent_dict = {}\n",
        "    entities.append(entity)\n",
        "    ent_dict['entities'] = entities\n",
        "    #text = text.replace(\" \", \"0\")\n",
        "    train_item = (text, ent_dict)\n",
        "    return train_item"
      ],
      "metadata": {
        "id": "S0l_hB2hCo3Q"
      },
      "execution_count": null,
      "outputs": []
    },
    {
      "cell_type": "code",
      "source": [
        "TRAIN_DATA = []\n",
        "\n",
        "for _, item in df.iterrows():\n",
        "    train_item = do_it(item['transaction_descriptor'],item['store_number'])\n",
        "    TRAIN_DATA.append(train_item)\n",
        "print(len(TRAIN_DATA))\n",
        "print(TRAIN_DATA[0])"
      ],
      "metadata": {
        "id": "VIutIX9HDHDI",
        "outputId": "d42fef8a-a86c-4f13-8216-897ca57001aa",
        "colab": {
          "base_uri": "https://localhost:8080/"
        }
      },
      "execution_count": null,
      "outputs": [
        {
          "output_type": "stream",
          "name": "stdout",
          "text": [
            "300\n",
            "('DOLRTREE 2257 00022574 ROSWELL', {'entities': [(9, 13, 'number')]})\n"
          ]
        }
      ]
    },
    {
      "cell_type": "code",
      "source": [
        "len(TRAIN_DATA)"
      ],
      "metadata": {
        "colab": {
          "base_uri": "https://localhost:8080/"
        },
        "id": "--8gNTEio-Vj",
        "outputId": "e76c82c7-2fc2-4be5-c72e-a562e149f061"
      },
      "execution_count": null,
      "outputs": [
        {
          "output_type": "execute_result",
          "data": {
            "text/plain": [
              "300"
            ]
          },
          "metadata": {},
          "execution_count": 11
        }
      ]
    },
    {
      "cell_type": "code",
      "source": [
        "n_iter = 100\n",
        "\n",
        "def train_ner(training_data):\n",
        "    \"\"\"Steps\n",
        "    Create a Blank NLP  model object\n",
        "    Create and add NER to the NLP model\n",
        "    Add Labels from your training data\n",
        "    Train  \n",
        "    \"\"\"\n",
        "    best = math.inf\n",
        "    TRAIN_DATA = training_data\n",
        "    nlp = spacy.blank(\"en\")  # create blank Language class\n",
        "    \n",
        "    if \"ner\" not in nlp.pipe_names:\n",
        "        ner = nlp.create_pipe(\"ner\")\n",
        "        nlp.add_pipe(ner, last=True)\n",
        "    # otherwise, get it so we can add labels\n",
        "    else:\n",
        "        ner = nlp.get_pipe(\"ner\")\n",
        "        \n",
        "    # add labels\n",
        "    for _, annotations in TRAIN_DATA:\n",
        "        for ent in annotations.get(\"entities\"):\n",
        "            ner.add_label(ent[2])\n",
        "\n",
        "    disable_pipes = [pipe for pipe in nlp.pipe_names if pipe != 'ner']\n",
        "\n",
        "    with nlp.disable_pipes(*disable_pipes):\n",
        "        optimizer = nlp.resume_training()\n",
        "\n",
        "    nlp.begin_training()\n",
        "    for itn in tqdm(range(n_iter)):\n",
        "        random.shuffle(TRAIN_DATA)\n",
        "        losses = {}\n",
        "        # batch up the examples using spaCy's minibatch\n",
        "        batches = minibatch(TRAIN_DATA)\n",
        "        for batch in batches:\n",
        "            texts, annotations = zip(*batch)\n",
        "            nlp.update(\n",
        "                texts,  # batch of texts\n",
        "                annotations,  # batch of annotations\n",
        "                drop=0.5,  # dropout - make it harder to memorise data\n",
        "                losses=losses,\n",
        "                sgd=optimizer\n",
        "            )\n",
        "        print(\"Losses\", losses)\n",
        "        if losses['ner'] < best:\n",
        "            best = losses['ner']\n",
        "            best_nlp = copy.deepcopy(nlp)\n",
        "            print('best changed')\n",
        "    return best_nlp"
      ],
      "metadata": {
        "id": "GLKaqaQVpE9i"
      },
      "execution_count": null,
      "outputs": []
    },
    {
      "cell_type": "code",
      "source": [
        "%%time\n",
        "nlp2 = train_ner(TRAIN_DATA)"
      ],
      "metadata": {
        "colab": {
          "base_uri": "https://localhost:8080/",
          "height": 1000,
          "referenced_widgets": [
            "351b0abc3e4744328a0bcde4d51a4ef1",
            "875ee5fef74d40ce8134326a638c65ae",
            "11d2bfeba7d944159b28464ef06f4f50",
            "ac8a4e5c6e394e5e85d6927f3ae5073d",
            "f101d12fd8cc40b1bf8a8379ee6790d3",
            "5855fdb395804da2a5c9e22edb4d0365",
            "480130b44d684908a1b22fd4f0bfad65",
            "daa39cd1623e42a582257ebc5201e0e8",
            "b860edee6f81467bad47753ab9b25cc1",
            "1b79ea0d0d30407ab7cbba51b7da929d",
            "d792b290919b4dedb3ac7fb95a6d59cd"
          ]
        },
        "id": "0BckD4NUqDiM",
        "outputId": "c9f7ad22-a3a4-4174-d8ee-7c0fba0ed9cf"
      },
      "execution_count": null,
      "outputs": [
        {
          "output_type": "stream",
          "name": "stdout",
          "text": [
            "Created blank 'en' model\n"
          ]
        },
        {
          "output_type": "display_data",
          "data": {
            "text/plain": [
              "  0%|          | 0/100 [00:00<?, ?it/s]"
            ],
            "application/vnd.jupyter.widget-view+json": {
              "version_major": 2,
              "version_minor": 0,
              "model_id": "351b0abc3e4744328a0bcde4d51a4ef1"
            }
          },
          "metadata": {}
        },
        {
          "output_type": "stream",
          "name": "stdout",
          "text": [
            "Losses {'ner': 413.72593373944983}\n",
            "best changed\n",
            "Losses {'ner': 79.99541784940998}\n",
            "best changed\n",
            "Losses {'ner': 40.466200398595376}\n",
            "best changed\n",
            "Losses {'ner': 22.217360074093587}\n",
            "best changed\n",
            "Losses {'ner': 13.798156686267308}\n",
            "best changed\n",
            "Losses {'ner': 6.092264760897475}\n",
            "best changed\n",
            "Losses {'ner': 6.20647799620504}\n",
            "Losses {'ner': 1.6939517880201784}\n",
            "best changed\n",
            "Losses {'ner': 6.197460239751856}\n",
            "Losses {'ner': 1.80081912472055}\n",
            "Losses {'ner': 5.005371239402939}\n",
            "Losses {'ner': 0.016030853594206824}\n",
            "best changed\n",
            "Losses {'ner': 4.185066981167309}\n",
            "Losses {'ner': 8.007515204509058}\n",
            "Losses {'ner': 5.589633744856146}\n",
            "Losses {'ner': 0.000705895203342449}\n",
            "best changed\n",
            "Losses {'ner': 3.3828386760762283}\n",
            "Losses {'ner': 4.124840493724477}\n",
            "Losses {'ner': 5.586503174544551}\n",
            "Losses {'ner': 3.7113863185397293}\n",
            "Losses {'ner': 1.4639448377022537}\n",
            "Losses {'ner': 2.011621814266661}\n",
            "Losses {'ner': 0.04453579118654503}\n",
            "Losses {'ner': 3.927583444294793e-05}\n",
            "best changed\n",
            "Losses {'ner': 1.9709271147794445}\n",
            "Losses {'ner': 0.0002028060068591151}\n",
            "Losses {'ner': 1.3898481720666598e-05}\n",
            "best changed\n",
            "Losses {'ner': 0.0001417651098768129}\n",
            "Losses {'ner': 1.2036034191787648}\n",
            "Losses {'ner': 3.944881112486798e-07}\n",
            "best changed\n",
            "Losses {'ner': 4.966085693906544e-07}\n",
            "Losses {'ner': 1.3495468784763195e-05}\n",
            "Losses {'ner': 0.7178151468277865}\n",
            "Losses {'ner': 8.124274776389785e-07}\n",
            "Losses {'ner': 2.0009270916815947}\n",
            "Losses {'ner': 2.7610537808567634e-07}\n",
            "best changed\n",
            "Losses {'ner': 0.003086181399297451}\n",
            "Losses {'ner': 0.04905203406699006}\n",
            "Losses {'ner': 3.359335041232607e-07}\n",
            "Losses {'ner': 0.00024900358857348983}\n",
            "Losses {'ner': 2.5115574866964296}\n",
            "Losses {'ner': 1.9302872461284144}\n",
            "Losses {'ner': 2.2723504004062642e-07}\n",
            "best changed\n",
            "Losses {'ner': 2.1899930292157603e-09}\n",
            "best changed\n",
            "Losses {'ner': 2.597759181020946e-06}\n",
            "Losses {'ner': 3.5310299873161193}\n",
            "Losses {'ner': 3.9661885898943754}\n",
            "Losses {'ner': 2.0032920428491687}\n",
            "Losses {'ner': 4.316451441011897e-06}\n",
            "Losses {'ner': 1.5353494106399687e-09}\n",
            "best changed\n",
            "Losses {'ner': 6.28784729479345e-08}\n",
            "Losses {'ner': 1.1347962110764158e-09}\n",
            "best changed\n",
            "Losses {'ner': 5.149777300004358e-06}\n",
            "Losses {'ner': 2.205814151126216e-06}\n",
            "Losses {'ner': 2.6750952210477858e-08}\n",
            "Losses {'ner': 1.2223740034596267e-07}\n",
            "Losses {'ner': 1.044314335697382e-07}\n",
            "Losses {'ner': 1.6672614062183386}\n",
            "Losses {'ner': 0.0005636641706957693}\n",
            "Losses {'ner': 1.6949439885659698e-09}\n",
            "Losses {'ner': 2.011190918980589}\n",
            "Losses {'ner': 2.077414714109624e-07}\n",
            "Losses {'ner': 7.351253296391594e-05}\n",
            "Losses {'ner': 2.8094969214691913e-08}\n",
            "Losses {'ner': 1.436739804585091e-07}\n",
            "Losses {'ner': 1.960376090135591}\n",
            "Losses {'ner': 0.10564297769394873}\n",
            "Losses {'ner': 1.9957960585891075}\n",
            "Losses {'ner': 0.0415785472125106}\n",
            "Losses {'ner': 6.0000057165314455}\n",
            "Losses {'ner': 6.160766911480716e-05}\n",
            "Losses {'ner': 7.7075291155382635}\n",
            "Losses {'ner': 7.289091975276952e-08}\n",
            "Losses {'ner': 1.999140250848516}\n",
            "Losses {'ner': 0.23096390539771916}\n",
            "Losses {'ner': 1.0784580751357312e-08}\n",
            "Losses {'ner': 8.775847239539565e-14}\n",
            "best changed\n",
            "Losses {'ner': 4.328717421605843e-10}\n",
            "Losses {'ner': 2.2539250980497235e-05}\n",
            "Losses {'ner': 0.007440627788763394}\n",
            "Losses {'ner': 6.104321359552479e-06}\n",
            "Losses {'ner': 9.47018570567477e-07}\n",
            "Losses {'ner': 1.0620199256263688e-11}\n",
            "Losses {'ner': 6.533317697648714e-12}\n",
            "Losses {'ner': 4.3235984707748024e-12}\n",
            "Losses {'ner': 2.738280716518834e-11}\n",
            "Losses {'ner': 1.1441158989259019e-07}\n",
            "Losses {'ner': 3.899236512510356e-11}\n",
            "Losses {'ner': 4.514083358172998}\n",
            "Losses {'ner': 2.3696330280334545}\n",
            "Losses {'ner': 0.025323428956097866}\n",
            "Losses {'ner': 9.498502721792943e-10}\n",
            "Losses {'ner': 3.7800447964592276}\n",
            "Losses {'ner': 1.0978096949175716e-10}\n",
            "Losses {'ner': 0.017626269197255785}\n",
            "Losses {'ner': 1.7756371500150836}\n",
            "Losses {'ner': 4.214471697994176}\n",
            "Losses {'ner': 2.0120927076829402}\n",
            "Losses {'ner': 3.729030235381389}\n",
            "Losses {'ner': 2.0000001714939635}\n",
            "CPU times: user 2min 35s, sys: 1.69 s, total: 2min 36s\n",
            "Wall time: 2min 37s\n"
          ]
        }
      ]
    },
    {
      "cell_type": "code",
      "source": [
        ""
      ],
      "metadata": {
        "id": "n_ZVm2u8-YoO"
      },
      "execution_count": null,
      "outputs": []
    },
    {
      "cell_type": "code",
      "source": [
        "#try random\n",
        "temp = df.sample()\n",
        "print(temp)\n",
        "print(\"===============================\")\n",
        "text = temp['transaction_descriptor'].values[0]\n",
        "\n",
        "docx2 = nlp2(text)\n",
        "\n",
        "for entity in docx2.ents:\n",
        "    print(entity)\n",
        "\n",
        "displacy.render(nlp2(docx2.text),style='ent',jupyter=True)"
      ],
      "metadata": {
        "colab": {
          "base_uri": "https://localhost:8080/",
          "height": 121
        },
        "id": "NUcsQA_CqNuC",
        "outputId": "016760d8-78dc-4122-d018-42bbd9c2a4c8"
      },
      "execution_count": null,
      "outputs": [
        {
          "output_type": "stream",
          "name": "stdout",
          "text": [
            "        transaction_descriptor store_number     dataset\n",
            "115  NST BEST BUY #380  830230          380  validation\n",
            "===============================\n",
            "380\n"
          ]
        },
        {
          "output_type": "display_data",
          "data": {
            "text/plain": [
              "<IPython.core.display.HTML object>"
            ],
            "text/html": [
              "<span class=\"tex2jax_ignore\"><div class=\"entities\" style=\"line-height: 2.5; direction: ltr\">NST BEST BUY #\n",
              "<mark class=\"entity\" style=\"background: #ddd; padding: 0.45em 0.6em; margin: 0 0.25em; line-height: 1; border-radius: 0.35em;\">\n",
              "    380\n",
              "    <span style=\"font-size: 0.8em; font-weight: bold; line-height: 1; border-radius: 0.35em; text-transform: uppercase; vertical-align: middle; margin-left: 0.5rem\">number</span>\n",
              "</mark>\n",
              "  830230</div></span>"
            ]
          },
          "metadata": {}
        }
      ]
    },
    {
      "cell_type": "code",
      "source": [
        "#try 223 cuz issues\n",
        "temp = df.iloc[[223]]\n",
        "print(temp)\n",
        "print(\"===============================\")\n",
        "text = temp['transaction_descriptor'].values[0]\n",
        "\n",
        "docx2 = nlp2(text)\n",
        "\n",
        "for entity in docx2.ents:\n",
        "    print(entity)\n",
        "\n",
        "displacy.render(nlp2(docx2.text),style='ent',jupyter=True)"
      ],
      "metadata": {
        "id": "e6lwaDlXrXua",
        "colab": {
          "base_uri": "https://localhost:8080/",
          "height": 121
        },
        "outputId": "47cbecec-e100-4a2d-dccb-380145421d5e"
      },
      "execution_count": null,
      "outputs": [
        {
          "output_type": "stream",
          "name": "stdout",
          "text": [
            "        transaction_descriptor store_number dataset\n",
            "223  NNT POLO/RL WRENTHA130571        13057    test\n",
            "===============================\n",
            "WRENTHA130571\n"
          ]
        },
        {
          "output_type": "display_data",
          "data": {
            "text/plain": [
              "<IPython.core.display.HTML object>"
            ],
            "text/html": [
              "<span class=\"tex2jax_ignore\"><div class=\"entities\" style=\"line-height: 2.5; direction: ltr\">NNT POLO/RL \n",
              "<mark class=\"entity\" style=\"background: #ddd; padding: 0.45em 0.6em; margin: 0 0.25em; line-height: 1; border-radius: 0.35em;\">\n",
              "    WRENTHA130571\n",
              "    <span style=\"font-size: 0.8em; font-weight: bold; line-height: 1; border-radius: 0.35em; text-transform: uppercase; vertical-align: middle; margin-left: 0.5rem\">number</span>\n",
              "</mark>\n",
              "</div></span>"
            ]
          },
          "metadata": {}
        }
      ]
    },
    {
      "cell_type": "code",
      "source": [
        "#checking how many were good\n",
        "count = 0\n",
        "ok = []\n",
        "for index, row in df.iterrows():\n",
        "\n",
        "    docx2 = nlp2(row['transaction_descriptor'])\n",
        "    try:\n",
        "    \n",
        "        if str(docx2.ents[0]).lstrip('0') == str(row['store_number']):\n",
        "            count+=1\n",
        "            ok.append(index)   \n",
        "    except:\n",
        "        continue\n",
        "print(count)\n",
        "print(ok)"
      ],
      "metadata": {
        "colab": {
          "base_uri": "https://localhost:8080/"
        },
        "id": "MylIIRBevFew",
        "outputId": "b12c01cf-61be-4371-c926-95067cd60695"
      },
      "execution_count": null,
      "outputs": [
        {
          "output_type": "stream",
          "name": "stdout",
          "text": [
            "264\n",
            "[0, 1, 2, 3, 4, 5, 6, 7, 8, 9, 10, 11, 12, 13, 14, 15, 16, 17, 18, 20, 21, 22, 23, 24, 25, 26, 27, 28, 29, 30, 31, 32, 33, 34, 35, 37, 38, 39, 40, 41, 42, 44, 45, 46, 47, 49, 50, 51, 52, 53, 54, 55, 56, 57, 58, 59, 60, 61, 63, 64, 66, 67, 68, 71, 72, 73, 74, 75, 77, 78, 79, 80, 81, 82, 83, 84, 85, 86, 87, 88, 89, 92, 93, 94, 95, 96, 97, 98, 100, 102, 103, 104, 105, 106, 107, 108, 109, 110, 111, 112, 114, 115, 116, 117, 118, 120, 121, 122, 123, 124, 125, 126, 127, 128, 129, 132, 133, 135, 136, 137, 138, 139, 141, 142, 143, 145, 147, 148, 149, 150, 151, 152, 153, 154, 155, 156, 157, 158, 159, 161, 162, 163, 164, 165, 166, 168, 169, 170, 171, 172, 173, 174, 175, 176, 177, 178, 179, 180, 181, 182, 183, 184, 185, 186, 187, 188, 189, 190, 191, 192, 193, 195, 196, 197, 198, 199, 200, 202, 203, 204, 205, 206, 208, 209, 210, 211, 212, 213, 214, 215, 216, 217, 218, 219, 220, 221, 224, 225, 226, 227, 228, 229, 230, 232, 233, 234, 235, 236, 237, 238, 239, 240, 241, 242, 243, 244, 245, 246, 247, 248, 249, 250, 251, 252, 253, 254, 255, 256, 257, 258, 259, 260, 261, 262, 263, 266, 267, 268, 269, 270, 271, 272, 273, 274, 275, 276, 277, 278, 279, 280, 281, 284, 286, 287, 288, 289, 290, 293, 294, 295, 296, 297, 298, 299]\n"
          ]
        }
      ]
    },
    {
      "cell_type": "code",
      "source": [
        "#checking issues\n",
        "count = 0\n",
        "for index, row in df.iterrows():\n",
        "    if index not in ok:\n",
        "        docx2 = nlp2(row['transaction_descriptor'])\n",
        "        try:\n",
        "            result = str(docx2.ents[0])\n",
        "        except:\n",
        "            result = 'EMPTYYYYY'\n",
        "        result = result.lstrip('0')\n",
        "\n",
        "        print(str(row['transaction_descriptor']) + ' --- ' + str(row['store_number']) + ' --- ',result)\n",
        "        count += 1\n",
        "\n",
        "print(count)\n",
        " "
      ],
      "metadata": {
        "colab": {
          "base_uri": "https://localhost:8080/"
        },
        "id": "2s7jqdi-yZIP",
        "outputId": "68c01749-65f9-4367-eb08-43c6c15d9685"
      },
      "execution_count": null,
      "outputs": [
        {
          "output_type": "stream",
          "name": "stdout",
          "text": [
            "EXPRESS#0920 --- 920 ---  EMPTYYYYY\n",
            "MARATHON PETRO045518 --- 45518 ---  PETRO045518\n",
            "PAPA JOHN'S 01548.COM --- 1548 ---  1548.COM\n",
            "NNT LANE BRYANT 455460 --- 5546 ---  455460\n",
            "CNS EXPRESS#0098   670753 --- 98 ---  EXPRESS#0098\n",
            "NNT SEARS HOMETOWN 231594 --- 2315 ---  231594\n",
            "NNT FAMOUS FOOTWEAR572264 --- 572264 ---  FOOTWEAR572264\n",
            "NNT BURLNGTON STORE171793 --- 171793 ---  STORE171793\n",
            "NNT FAMOUS FOOTWEAR881706 --- 881706 ---  FOOTWEAR881706\n",
            "MCDONALD'S F35869MCDONALD'S F35869 --- F35869 ---  F35869MCDONALD\n",
            "NNT FAMOUS FOOTWEAR470811 --- 470811 ---  FOOTWEAR470811\n",
            "RACETRAC485   00004853 --- 485 ---  RACETRAC485\n",
            "NNT BURLNGTON STORE472605 --- 472605 ---  STORE472605\n",
            "NNT FAMOUSFOOTWEAR#570903 --- 570903 ---  FAMOUSFOOTWEAR#570903\n",
            "PIER 1 IMPORTS00008060 --- 806 ---  EMPTYYYYY\n",
            "MURPHY7548ATWALMART      LITHIA SPRINGGA --- 7548 ---  EMPTYYYYY\n",
            "NNT FAMOUS FOOTWEAR830366 --- 830366 ---  FOOTWEAR830366\n",
            "NNT BURLNGTON STORE001491 --- 1491 ---  STORE001491\n",
            "NNT BURLNGTON STORE460391 --- 460391 ---  STORE460391\n",
            "SPEEDWAY 06406 BRADENTO, FL (5243) --- 6406 ---  EMPTYYYYY\n",
            "NNT SEARS HOMETOWN 000415 --- 4 ---  415\n",
            "OCHARLEYS206BOWLGR 000000 --- 206 ---  EMPTYYYYY\n",
            "SUBWAY        00040055 --- 4005 ---  40055\n",
            "BP#5998869CK ST --- 5998869 ---  EMPTYYYYY\n",
            "BP#9442088LIBERTYVILLE B --- 9442088 ---  EMPTYYYYY\n",
            "LBOUTLETS#4249 1475 N BUR --- 4249 ---  EMPTYYYYY\n",
            "BP#8644346ES #30 B96 --- 8644346 ---  EMPTYYYYY\n",
            "NNT POLO/RL WRENTHA130571 --- 13057 ---  WRENTHA130571\n",
            "NNT SEARS HOMETOWN 862751 --- 8627 ---  862751\n",
            "NNT FAMOUS FOOTWEAR001261 --- 1261 ---  FOOTWEAR001261\n",
            "EXPRESS#0813 --- 813 ---  EMPTYYYYY\n",
            "NNT FAMOUS FOOTWEAR730376 --- 730376 ---  FOOTWEAR730376\n",
            "MARATHON PETRO170928   MIAMI --- 170928 ---  PETRO170928\n",
            "NNT FAMOUSFOOTWEAR#132427 --- 132427 ---  FAMOUSFOOTWEAR#132427\n",
            "BP#1003300DANADA SQUS --- 1003300 ---  EMPTYYYYY\n",
            "SUBWAY        00032128 --- 3212 ---  32128\n",
            "36\n"
          ]
        }
      ]
    }
  ]
}