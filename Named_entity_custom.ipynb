{
  "nbformat": 4,
  "nbformat_minor": 0,
  "metadata": {
    "colab": {
      "name": "Named_entity_custom.ipynb",
      "provenance": [],
      "collapsed_sections": [],
      "authorship_tag": "ABX9TyO32utMGiRBiFE7t6Cw1pxb",
      "include_colab_link": true
    },
    "kernelspec": {
      "name": "python3",
      "display_name": "Python 3"
    },
    "language_info": {
      "name": "python"
    }
  },
  "cells": [
    {
      "cell_type": "markdown",
      "metadata": {
        "id": "view-in-github",
        "colab_type": "text"
      },
      "source": [
        "<a href=\"https://colab.research.google.com/github/faisalisafk/python_scripts/blob/main/Named_entity_custom.ipynb\" target=\"_parent\"><img src=\"https://colab.research.google.com/assets/colab-badge.svg\" alt=\"Open In Colab\"/></a>"
      ]
    },
    {
      "cell_type": "code",
      "source": [
        "import pandas as pd\n",
        "import spacy\n",
        "from wordcloud import WordCloud, STOPWORDS\n",
        "from spacy.util import minibatch, compounding\n",
        "import pandas as pd\n",
        "import numpy as np  \n",
        "import matplotlib.pyplot as plt\n",
        "import re\n",
        "import random\n",
        "import math\n",
        "import copy\n",
        "df = pd.read_csv('data.csv')"
      ],
      "metadata": {
        "id": "97sJ690qmGTm"
      },
      "execution_count": 76,
      "outputs": []
    },
    {
      "cell_type": "code",
      "source": [
        "df.sample(10)"
      ],
      "metadata": {
        "colab": {
          "base_uri": "https://localhost:8080/",
          "height": 363
        },
        "id": "FFqHnxCvmpcc",
        "outputId": "165a233a-060e-46bf-a5be-c12d9ed09f78"
      },
      "execution_count": 5,
      "outputs": [
        {
          "output_type": "execute_result",
          "data": {
            "text/plain": [
              "                       transaction_descriptor store_number     dataset\n",
              "1                              AUTOZONE #3547         3547       train\n",
              "19                               EXPRESS#0920          920       train\n",
              "109                     HOLIDAY STNSTORE 0453          453  validation\n",
              "113                 NNT FAMOUSFOOTWEAR#570903       570903  validation\n",
              "241                 NST BEST BUY #59   060251           59        test\n",
              "135                 NNT HIBBETT SPORTS 072473        72473  validation\n",
              "79   BIG O TIRES #6255        GRAND JUNCTIOCO         6255       train\n",
              "261                 NST BEST BUY #188  871025          188        test\n",
              "235                 NST BEST BUY #401  731468          401        test\n",
              "175                         TACO BELL #029071        29071  validation"
            ],
            "text/html": [
              "\n",
              "  <div id=\"df-52fa7d00-5fdf-49d7-88dd-bf001bb2a8f1\">\n",
              "    <div class=\"colab-df-container\">\n",
              "      <div>\n",
              "<style scoped>\n",
              "    .dataframe tbody tr th:only-of-type {\n",
              "        vertical-align: middle;\n",
              "    }\n",
              "\n",
              "    .dataframe tbody tr th {\n",
              "        vertical-align: top;\n",
              "    }\n",
              "\n",
              "    .dataframe thead th {\n",
              "        text-align: right;\n",
              "    }\n",
              "</style>\n",
              "<table border=\"1\" class=\"dataframe\">\n",
              "  <thead>\n",
              "    <tr style=\"text-align: right;\">\n",
              "      <th></th>\n",
              "      <th>transaction_descriptor</th>\n",
              "      <th>store_number</th>\n",
              "      <th>dataset</th>\n",
              "    </tr>\n",
              "  </thead>\n",
              "  <tbody>\n",
              "    <tr>\n",
              "      <th>1</th>\n",
              "      <td>AUTOZONE #3547</td>\n",
              "      <td>3547</td>\n",
              "      <td>train</td>\n",
              "    </tr>\n",
              "    <tr>\n",
              "      <th>19</th>\n",
              "      <td>EXPRESS#0920</td>\n",
              "      <td>920</td>\n",
              "      <td>train</td>\n",
              "    </tr>\n",
              "    <tr>\n",
              "      <th>109</th>\n",
              "      <td>HOLIDAY STNSTORE 0453</td>\n",
              "      <td>453</td>\n",
              "      <td>validation</td>\n",
              "    </tr>\n",
              "    <tr>\n",
              "      <th>113</th>\n",
              "      <td>NNT FAMOUSFOOTWEAR#570903</td>\n",
              "      <td>570903</td>\n",
              "      <td>validation</td>\n",
              "    </tr>\n",
              "    <tr>\n",
              "      <th>241</th>\n",
              "      <td>NST BEST BUY #59   060251</td>\n",
              "      <td>59</td>\n",
              "      <td>test</td>\n",
              "    </tr>\n",
              "    <tr>\n",
              "      <th>135</th>\n",
              "      <td>NNT HIBBETT SPORTS 072473</td>\n",
              "      <td>72473</td>\n",
              "      <td>validation</td>\n",
              "    </tr>\n",
              "    <tr>\n",
              "      <th>79</th>\n",
              "      <td>BIG O TIRES #6255        GRAND JUNCTIOCO</td>\n",
              "      <td>6255</td>\n",
              "      <td>train</td>\n",
              "    </tr>\n",
              "    <tr>\n",
              "      <th>261</th>\n",
              "      <td>NST BEST BUY #188  871025</td>\n",
              "      <td>188</td>\n",
              "      <td>test</td>\n",
              "    </tr>\n",
              "    <tr>\n",
              "      <th>235</th>\n",
              "      <td>NST BEST BUY #401  731468</td>\n",
              "      <td>401</td>\n",
              "      <td>test</td>\n",
              "    </tr>\n",
              "    <tr>\n",
              "      <th>175</th>\n",
              "      <td>TACO BELL #029071</td>\n",
              "      <td>29071</td>\n",
              "      <td>validation</td>\n",
              "    </tr>\n",
              "  </tbody>\n",
              "</table>\n",
              "</div>\n",
              "      <button class=\"colab-df-convert\" onclick=\"convertToInteractive('df-52fa7d00-5fdf-49d7-88dd-bf001bb2a8f1')\"\n",
              "              title=\"Convert this dataframe to an interactive table.\"\n",
              "              style=\"display:none;\">\n",
              "        \n",
              "  <svg xmlns=\"http://www.w3.org/2000/svg\" height=\"24px\"viewBox=\"0 0 24 24\"\n",
              "       width=\"24px\">\n",
              "    <path d=\"M0 0h24v24H0V0z\" fill=\"none\"/>\n",
              "    <path d=\"M18.56 5.44l.94 2.06.94-2.06 2.06-.94-2.06-.94-.94-2.06-.94 2.06-2.06.94zm-11 1L8.5 8.5l.94-2.06 2.06-.94-2.06-.94L8.5 2.5l-.94 2.06-2.06.94zm10 10l.94 2.06.94-2.06 2.06-.94-2.06-.94-.94-2.06-.94 2.06-2.06.94z\"/><path d=\"M17.41 7.96l-1.37-1.37c-.4-.4-.92-.59-1.43-.59-.52 0-1.04.2-1.43.59L10.3 9.45l-7.72 7.72c-.78.78-.78 2.05 0 2.83L4 21.41c.39.39.9.59 1.41.59.51 0 1.02-.2 1.41-.59l7.78-7.78 2.81-2.81c.8-.78.8-2.07 0-2.86zM5.41 20L4 18.59l7.72-7.72 1.47 1.35L5.41 20z\"/>\n",
              "  </svg>\n",
              "      </button>\n",
              "      \n",
              "  <style>\n",
              "    .colab-df-container {\n",
              "      display:flex;\n",
              "      flex-wrap:wrap;\n",
              "      gap: 12px;\n",
              "    }\n",
              "\n",
              "    .colab-df-convert {\n",
              "      background-color: #E8F0FE;\n",
              "      border: none;\n",
              "      border-radius: 50%;\n",
              "      cursor: pointer;\n",
              "      display: none;\n",
              "      fill: #1967D2;\n",
              "      height: 32px;\n",
              "      padding: 0 0 0 0;\n",
              "      width: 32px;\n",
              "    }\n",
              "\n",
              "    .colab-df-convert:hover {\n",
              "      background-color: #E2EBFA;\n",
              "      box-shadow: 0px 1px 2px rgba(60, 64, 67, 0.3), 0px 1px 3px 1px rgba(60, 64, 67, 0.15);\n",
              "      fill: #174EA6;\n",
              "    }\n",
              "\n",
              "    [theme=dark] .colab-df-convert {\n",
              "      background-color: #3B4455;\n",
              "      fill: #D2E3FC;\n",
              "    }\n",
              "\n",
              "    [theme=dark] .colab-df-convert:hover {\n",
              "      background-color: #434B5C;\n",
              "      box-shadow: 0px 1px 3px 1px rgba(0, 0, 0, 0.15);\n",
              "      filter: drop-shadow(0px 1px 2px rgba(0, 0, 0, 0.3));\n",
              "      fill: #FFFFFF;\n",
              "    }\n",
              "  </style>\n",
              "\n",
              "      <script>\n",
              "        const buttonEl =\n",
              "          document.querySelector('#df-52fa7d00-5fdf-49d7-88dd-bf001bb2a8f1 button.colab-df-convert');\n",
              "        buttonEl.style.display =\n",
              "          google.colab.kernel.accessAllowed ? 'block' : 'none';\n",
              "\n",
              "        async function convertToInteractive(key) {\n",
              "          const element = document.querySelector('#df-52fa7d00-5fdf-49d7-88dd-bf001bb2a8f1');\n",
              "          const dataTable =\n",
              "            await google.colab.kernel.invokeFunction('convertToInteractive',\n",
              "                                                     [key], {});\n",
              "          if (!dataTable) return;\n",
              "\n",
              "          const docLinkHtml = 'Like what you see? Visit the ' +\n",
              "            '<a target=\"_blank\" href=https://colab.research.google.com/notebooks/data_table.ipynb>data table notebook</a>'\n",
              "            + ' to learn more about interactive tables.';\n",
              "          element.innerHTML = '';\n",
              "          dataTable['output_type'] = 'display_data';\n",
              "          await google.colab.output.renderOutput(dataTable, element);\n",
              "          const docLink = document.createElement('div');\n",
              "          docLink.innerHTML = docLinkHtml;\n",
              "          element.appendChild(docLink);\n",
              "        }\n",
              "      </script>\n",
              "    </div>\n",
              "  </div>\n",
              "  "
            ]
          },
          "metadata": {},
          "execution_count": 5
        }
      ]
    },
    {
      "cell_type": "code",
      "source": [
        "df.count()"
      ],
      "metadata": {
        "colab": {
          "base_uri": "https://localhost:8080/"
        },
        "id": "2Iuqk_xspNYs",
        "outputId": "780f3091-f794-4ae0-9f08-8d6b3a4743b0"
      },
      "execution_count": 19,
      "outputs": [
        {
          "output_type": "execute_result",
          "data": {
            "text/plain": [
              "transaction_descriptor    300\n",
              "store_number              300\n",
              "dataset                   300\n",
              "dtype: int64"
            ]
          },
          "metadata": {},
          "execution_count": 19
        }
      ]
    },
    {
      "cell_type": "code",
      "source": [
        "nlp0 = spacy.load('en_core_web_sm')"
      ],
      "metadata": {
        "id": "R8Td3Qb-mSF0"
      },
      "execution_count": 6,
      "outputs": []
    },
    {
      "cell_type": "code",
      "source": [
        "nlp0.pipe_names"
      ],
      "metadata": {
        "colab": {
          "base_uri": "https://localhost:8080/"
        },
        "id": "tY2gUthFmrV5",
        "outputId": "ce6e8356-77ca-45ae-80f1-11c70fca2854"
      },
      "execution_count": 7,
      "outputs": [
        {
          "output_type": "execute_result",
          "data": {
            "text/plain": [
              "['tagger', 'parser', 'ner']"
            ]
          },
          "metadata": {},
          "execution_count": 7
        }
      ]
    },
    {
      "cell_type": "code",
      "source": [
        "ner0 = nlp0.get_pipe('ner')"
      ],
      "metadata": {
        "id": "Mz-MOKrlmu3O"
      },
      "execution_count": 8,
      "outputs": []
    },
    {
      "cell_type": "code",
      "source": [
        "ner0.add_label"
      ],
      "metadata": {
        "colab": {
          "base_uri": "https://localhost:8080/"
        },
        "id": "fvMOse2ZmxAe",
        "outputId": "84c126b9-5c4e-491d-f5a6-9e22163ddd92"
      },
      "execution_count": 10,
      "outputs": [
        {
          "output_type": "execute_result",
          "data": {
            "text/plain": [
              "<function EntityRecognizer.add_label>"
            ]
          },
          "metadata": {},
          "execution_count": 10
        }
      ]
    },
    {
      "cell_type": "code",
      "source": [
        "def process_review(review):\n",
        "    processed_token = []\n",
        "    for token in review.split():\n",
        "        token = ''.join(e.lower() for e in token if e.isalnum())\n",
        "        processed_token.append(token)\n",
        "    return ' '.join(processed_token)"
      ],
      "metadata": {
        "id": "FGJRd3nymygg"
      },
      "execution_count": 11,
      "outputs": []
    },
    {
      "cell_type": "code",
      "source": [
        "all_drugs = df['store_number'].unique().tolist()"
      ],
      "metadata": {
        "id": "yOSy0D5_oDOB"
      },
      "execution_count": 12,
      "outputs": []
    },
    {
      "cell_type": "code",
      "source": [
        "all_drugs = [x.lower() for x in all_drugs]"
      ],
      "metadata": {
        "id": "638l9LFNoJhk"
      },
      "execution_count": 13,
      "outputs": []
    },
    {
      "cell_type": "code",
      "source": [
        "all_drugs"
      ],
      "metadata": {
        "colab": {
          "base_uri": "https://localhost:8080/"
        },
        "id": "zdfrvL7FoOJr",
        "outputId": "91fd1cf7-543d-46b6-a0de-673baa149729"
      },
      "execution_count": 14,
      "outputs": [
        {
          "output_type": "execute_result",
          "data": {
            "text/plain": [
              "['2257',\n",
              " '3547',\n",
              " '1485',\n",
              " '3',\n",
              " '568',\n",
              " '40',\n",
              " '1847',\n",
              " '2650',\n",
              " '535',\n",
              " '1305',\n",
              " '2202',\n",
              " '26824',\n",
              " '688',\n",
              " '4681',\n",
              " '227',\n",
              " '3207',\n",
              " '1040',\n",
              " 'f1013',\n",
              " '207812',\n",
              " '920',\n",
              " 'f16829',\n",
              " '208998',\n",
              " '49134',\n",
              " '302900',\n",
              " '1251',\n",
              " '479',\n",
              " '354',\n",
              " '7430',\n",
              " '483280353',\n",
              " 'f5579',\n",
              " '10262660',\n",
              " '447',\n",
              " '25',\n",
              " '196',\n",
              " '516260',\n",
              " '6870',\n",
              " '45518',\n",
              " 'f2128',\n",
              " '22357',\n",
              " '748361300',\n",
              " 'f3172',\n",
              " '9505',\n",
              " '1407',\n",
              " '1548',\n",
              " '6524',\n",
              " '6425',\n",
              " '6853',\n",
              " '308296',\n",
              " '5546',\n",
              " '142',\n",
              " '11572299',\n",
              " '3857',\n",
              " '1327',\n",
              " '27',\n",
              " '303',\n",
              " '24',\n",
              " '209',\n",
              " '7350',\n",
              " '1783',\n",
              " '1316',\n",
              " '4102',\n",
              " '11002986',\n",
              " '98',\n",
              " '1774',\n",
              " '2910',\n",
              " '2315',\n",
              " '10630845',\n",
              " '42',\n",
              " '437',\n",
              " '572264',\n",
              " '171793',\n",
              " '3312162',\n",
              " '4',\n",
              " '1858',\n",
              " 'f26490',\n",
              " '974',\n",
              " '881706',\n",
              " '3626',\n",
              " '6286',\n",
              " '6255',\n",
              " '14560807',\n",
              " '739723',\n",
              " '113',\n",
              " '14782798',\n",
              " '25139',\n",
              " '9386',\n",
              " '12862950',\n",
              " '7591',\n",
              " '2',\n",
              " '500',\n",
              " 'f35869',\n",
              " '470811',\n",
              " '374572602',\n",
              " '9502',\n",
              " 'g020029',\n",
              " '355514',\n",
              " '6828',\n",
              " '1129',\n",
              " '34',\n",
              " '485',\n",
              " '833',\n",
              " '472605',\n",
              " '5320',\n",
              " '337734',\n",
              " 'f565',\n",
              " '13822',\n",
              " '2050',\n",
              " '729724',\n",
              " '662',\n",
              " '453',\n",
              " '235',\n",
              " '4215',\n",
              " '13360692',\n",
              " '570903',\n",
              " '304',\n",
              " '380',\n",
              " '46',\n",
              " '4842',\n",
              " '409',\n",
              " '806',\n",
              " '2282',\n",
              " '15474',\n",
              " '8988',\n",
              " '179',\n",
              " '7871',\n",
              " '387',\n",
              " '1970',\n",
              " '256',\n",
              " '295',\n",
              " '514',\n",
              " '7548',\n",
              " '830366',\n",
              " '291',\n",
              " '407',\n",
              " '1491',\n",
              " '72473',\n",
              " '233',\n",
              " 'f6297',\n",
              " '8396',\n",
              " '723832',\n",
              " '460391',\n",
              " '13',\n",
              " '284',\n",
              " '1624',\n",
              " '6406',\n",
              " '619',\n",
              " '47',\n",
              " '780350500',\n",
              " '523',\n",
              " '927',\n",
              " '445',\n",
              " 'ca142',\n",
              " '2322',\n",
              " '167',\n",
              " 'l765004',\n",
              " '11789',\n",
              " '4204',\n",
              " '14639',\n",
              " '687',\n",
              " '206',\n",
              " '1338',\n",
              " '1167',\n",
              " '3162',\n",
              " '2989',\n",
              " '346432',\n",
              " '13625903',\n",
              " '4005',\n",
              " '4016168',\n",
              " '452',\n",
              " '4611',\n",
              " '1',\n",
              " '1049',\n",
              " '1901',\n",
              " '2314',\n",
              " '29071',\n",
              " '6470',\n",
              " '43',\n",
              " '29',\n",
              " '730',\n",
              " '421',\n",
              " '1085',\n",
              " '23853',\n",
              " '46221',\n",
              " '1563',\n",
              " '5601',\n",
              " '5754',\n",
              " '21103',\n",
              " '17131522',\n",
              " '440',\n",
              " '976',\n",
              " '5998869',\n",
              " '15',\n",
              " '346',\n",
              " '7134',\n",
              " '8550',\n",
              " '315',\n",
              " '242',\n",
              " '9442088',\n",
              " '1419',\n",
              " '1019',\n",
              " '38',\n",
              " '673',\n",
              " '629',\n",
              " '4249',\n",
              " '2505',\n",
              " '825',\n",
              " '2923',\n",
              " '58',\n",
              " '2039',\n",
              " '382',\n",
              " '12260',\n",
              " '864',\n",
              " '338',\n",
              " '11',\n",
              " '70360265',\n",
              " '4393',\n",
              " '62',\n",
              " '7212',\n",
              " '8644346',\n",
              " '13057',\n",
              " '14178',\n",
              " '3220',\n",
              " '14',\n",
              " '2454',\n",
              " '17871401',\n",
              " '3192',\n",
              " '8627',\n",
              " '50161',\n",
              " '3889',\n",
              " '401',\n",
              " '2597',\n",
              " '1253',\n",
              " '507',\n",
              " '472831773',\n",
              " '277',\n",
              " '59',\n",
              " '48',\n",
              " '231',\n",
              " '11332',\n",
              " '16482149',\n",
              " 'f33735',\n",
              " 'f671',\n",
              " 'f11370',\n",
              " '50',\n",
              " '11820',\n",
              " '6619',\n",
              " '6102',\n",
              " 'f2383',\n",
              " '733780',\n",
              " '62132001',\n",
              " 'f33124',\n",
              " '15392',\n",
              " '860977',\n",
              " 'f122',\n",
              " '982',\n",
              " '188',\n",
              " '15843',\n",
              " '2742643',\n",
              " '1261',\n",
              " '813',\n",
              " '7414',\n",
              " '39962380',\n",
              " '392',\n",
              " '66165',\n",
              " '647',\n",
              " '14788',\n",
              " '57331',\n",
              " '34493',\n",
              " '408',\n",
              " '10101',\n",
              " '837208800',\n",
              " '405',\n",
              " '601128',\n",
              " '4633',\n",
              " '1997',\n",
              " '21000236',\n",
              " '730376',\n",
              " '170928',\n",
              " '104235700',\n",
              " '132427',\n",
              " '11966',\n",
              " '3317963',\n",
              " '51',\n",
              " 'ut044',\n",
              " '1003300',\n",
              " '3212',\n",
              " '303733',\n",
              " '513',\n",
              " 'f2151',\n",
              " '1403',\n",
              " '6689',\n",
              " '8109',\n",
              " '443']"
            ]
          },
          "metadata": {},
          "execution_count": 14
        }
      ]
    },
    {
      "cell_type": "code",
      "source": [
        "df['transaction_descriptor']"
      ],
      "metadata": {
        "colab": {
          "base_uri": "https://localhost:8080/"
        },
        "id": "vGihBV3boVQz",
        "outputId": "e6bda08c-5114-4455-fc34-69de0707f841"
      },
      "execution_count": 15,
      "outputs": [
        {
          "output_type": "execute_result",
          "data": {
            "text/plain": [
              "0      DOLRTREE 2257 00022574 ROSWELL\n",
              "1                      AUTOZONE #3547\n",
              "2               TGI FRIDAYS 1485 0000\n",
              "3              BUFFALO WILD WINGS 003\n",
              "4                      J. CREW #568 0\n",
              "                    ...              \n",
              "295                  MCDONALD'S F2151\n",
              "296         NST BEST BUY #1403 332411\n",
              "297               CVS/PHARMACY #06689\n",
              "298             BANANA REPUBLIC #8109\n",
              "299                BOSTON MARKET 0443\n",
              "Name: transaction_descriptor, Length: 300, dtype: object"
            ]
          },
          "metadata": {},
          "execution_count": 15
        }
      ]
    },
    {
      "cell_type": "code",
      "source": [
        "count = 0\n",
        "TRAIN_DATA = []\n",
        "for _, item in df.iterrows():\n",
        "    ent_dict = {}\n",
        "    if count < 1000:\n",
        "        review = process_review(item['transaction_descriptor'])\n",
        "        #Locate drugs and their positions once and add to the visited items.\n",
        "        visited_items = []\n",
        "        entities = []\n",
        "        for token in review.split():\n",
        "            if token in all_drugs:\n",
        "                for i in re.finditer(token, review):\n",
        "                    if token not in visited_items:\n",
        "                        entity = (i.span()[0], i.span()[1], 'store_number')\n",
        "                        visited_items.append(token)\n",
        "                        entities.append(entity)\n",
        "        if len(entities) > 0:\n",
        "            ent_dict['entities'] = entities\n",
        "            train_item = (review, ent_dict)\n",
        "            TRAIN_DATA.append(train_item)\n",
        "            count+=1"
      ],
      "metadata": {
        "id": "JP6rvBlGolhO"
      },
      "execution_count": 61,
      "outputs": []
    },
    {
      "cell_type": "code",
      "source": [
        "len(TRAIN_DATA)"
      ],
      "metadata": {
        "colab": {
          "base_uri": "https://localhost:8080/"
        },
        "id": "--8gNTEio-Vj",
        "outputId": "3fc208b1-0a0c-4489-8b25-06eac76593a9"
      },
      "execution_count": 62,
      "outputs": [
        {
          "output_type": "execute_result",
          "data": {
            "text/plain": [
              "203"
            ]
          },
          "metadata": {},
          "execution_count": 62
        }
      ]
    },
    {
      "cell_type": "code",
      "source": [
        "n_iter = 50\n",
        "\n",
        "def train_ner(training_data):\n",
        "    \"\"\"Steps\n",
        "    Create a Blank NLP  model object\n",
        "    Create and add NER to the NLP model\n",
        "    Add Labels from your training data\n",
        "    Train  \n",
        "    \"\"\"\n",
        "    best = math.inf\n",
        "    TRAIN_DATA = training_data\n",
        "    nlp = spacy.blank(\"en\")  # create blank Language class\n",
        "    print(\"Created blank 'en' model\")\n",
        "    \n",
        "    if \"ner\" not in nlp.pipe_names:\n",
        "        ner = nlp.create_pipe(\"ner\")\n",
        "        nlp.add_pipe(ner, last=True)\n",
        "    # otherwise, get it so we can add labels\n",
        "    else:\n",
        "        ner = nlp.get_pipe(\"ner\")\n",
        "        \n",
        "    # add labels\n",
        "    for _, annotations in TRAIN_DATA:\n",
        "        for ent in annotations.get(\"entities\"):\n",
        "            ner.add_label(ent[2])\n",
        "            \n",
        "    nlp.begin_training()\n",
        "    for itn in range(n_iter):\n",
        "        random.shuffle(TRAIN_DATA)\n",
        "        losses = {}\n",
        "        # batch up the examples using spaCy's minibatch\n",
        "        batches = minibatch(TRAIN_DATA, size=compounding(4.0, 32.0, 1.001))\n",
        "        for batch in batches:\n",
        "            texts, annotations = zip(*batch)\n",
        "            nlp.update(\n",
        "                texts,  # batch of texts\n",
        "                annotations,  # batch of annotations\n",
        "                drop=0.6,  # dropout - make it harder to memorise data\n",
        "                losses=losses,\n",
        "            )\n",
        "        print(\"Losses\", losses)\n",
        "        if losses['ner'] < best:\n",
        "            best = losses['ner']\n",
        "            best_nlp = copy.deepcopy(nlp)\n",
        "            print('best changed')\n",
        "    return best_nlp"
      ],
      "metadata": {
        "id": "GLKaqaQVpE9i"
      },
      "execution_count": 85,
      "outputs": []
    },
    {
      "cell_type": "code",
      "source": [
        "nlp2 = train_ner(TRAIN_DATA)"
      ],
      "metadata": {
        "colab": {
          "base_uri": "https://localhost:8080/"
        },
        "id": "0BckD4NUqDiM",
        "outputId": "0afb7836-8064-4f40-f1f0-a92e6fbd9f55"
      },
      "execution_count": 86,
      "outputs": [
        {
          "output_type": "stream",
          "name": "stdout",
          "text": [
            "Created blank 'en' model\n",
            "Losses {'ner': 317.5577306523919}\n",
            "best changed\n",
            "Losses {'ner': 185.90634988219244}\n",
            "best changed\n",
            "Losses {'ner': 95.52256159144773}\n",
            "best changed\n",
            "Losses {'ner': 24.06420129384459}\n",
            "best changed\n",
            "Losses {'ner': 12.140726769382184}\n",
            "best changed\n",
            "Losses {'ner': 9.814573905356587}\n",
            "best changed\n",
            "Losses {'ner': 19.683606193839466}\n",
            "Losses {'ner': 7.590761242858728}\n",
            "best changed\n",
            "Losses {'ner': 9.917655509097253}\n",
            "Losses {'ner': 2.0002250641183137}\n",
            "best changed\n",
            "Losses {'ner': 7.392037750692789}\n",
            "Losses {'ner': 2.000781352935874}\n",
            "Losses {'ner': 3.253938042853766}\n",
            "Losses {'ner': 6.1089011529043304}\n",
            "Losses {'ner': 5.875557716887819}\n",
            "Losses {'ner': 3.1995455190063957}\n",
            "Losses {'ner': 4.479947566705671}\n",
            "Losses {'ner': 3.24482265276773}\n",
            "Losses {'ner': 2.0381122458667646}\n",
            "Losses {'ner': 2.232219480939274}\n",
            "Losses {'ner': 4.586786193603044}\n",
            "Losses {'ner': 0.5693105612259409}\n",
            "best changed\n",
            "Losses {'ner': 2.0000354802883655}\n",
            "Losses {'ner': 1.352973239696875}\n",
            "Losses {'ner': 2.674155605539068}\n",
            "Losses {'ner': 1.996752972793056}\n",
            "Losses {'ner': 4.515530814991658}\n",
            "Losses {'ner': 2.1909997035897124}\n",
            "Losses {'ner': 0.011785729613943474}\n",
            "best changed\n",
            "Losses {'ner': 3.9995511006087994}\n",
            "Losses {'ner': 1.9453243525968575}\n",
            "Losses {'ner': 1.5303382508802439}\n",
            "Losses {'ner': 1.999990213395279}\n",
            "Losses {'ner': 1.9046176141623716}\n",
            "Losses {'ner': 2.0000035941097423}\n",
            "Losses {'ner': 2.2899693327497834}\n",
            "Losses {'ner': 1.6531838191781258}\n",
            "Losses {'ner': 2.00000042289311}\n",
            "Losses {'ner': 1.6817431271032932}\n",
            "Losses {'ner': 0.0001952281340666516}\n",
            "best changed\n",
            "Losses {'ner': 0.018738373037621305}\n",
            "Losses {'ner': 1.9009284313485704}\n",
            "Losses {'ner': 2.6242078829183497}\n",
            "Losses {'ner': 1.3521152200389128}\n",
            "Losses {'ner': 1.9859760590710533}\n",
            "Losses {'ner': 3.478927345464249e-07}\n",
            "best changed\n",
            "Losses {'ner': 2.8395566163368917e-06}\n",
            "Losses {'ner': 2.2791794495747335e-06}\n",
            "Losses {'ner': 0.8195583399970845}\n",
            "Losses {'ner': 0.7390400860008235}\n"
          ]
        }
      ]
    },
    {
      "cell_type": "code",
      "source": [
        "temp = df.sample()\n",
        "print(temp)\n",
        "docx2 = nlp2(temp['transaction_descriptor'].values[0])\n",
        "\n",
        "for entity in docx2.ents:\n",
        "  print(entity)\n"
      ],
      "metadata": {
        "colab": {
          "base_uri": "https://localhost:8080/"
        },
        "id": "NUcsQA_CqNuC",
        "outputId": "f03e362a-469d-45b3-a14a-92a70e022fe9"
      },
      "execution_count": 98,
      "outputs": [
        {
          "output_type": "stream",
          "name": "stdout",
          "text": [
            "      transaction_descriptor store_number     dataset\n",
            "126  WENDY'S #1970 000001970         1970  validation\n",
            "1970\n"
          ]
        }
      ]
    },
    {
      "cell_type": "code",
      "source": [
        ""
      ],
      "metadata": {
        "id": "e6lwaDlXrXua"
      },
      "execution_count": null,
      "outputs": []
    }
  ]
}